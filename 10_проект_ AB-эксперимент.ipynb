{
 "cells": [
  {
   "cell_type": "markdown",
   "metadata": {},
   "source": [
    "# Комментарий наставника\n",
    "Отлично! \n",
    "\n",
    "Я дал большой комментарий в конце. Не уверен в его справедливости, но кажется он логичен. \n",
    "\n",
    "В любом случае, проект принял. У тебя есть выходные, чтобы отдохнуть перед следующим модулем :)\n",
    "\n",
    "Удачи! Думаю, наставники опять сменятся. Рад бы с тобой работать!"
   ]
  },
  {
   "cell_type": "markdown",
   "metadata": {},
   "source": [
    "# Комментарий наставника\n",
    "Сергей, привет! \n",
    "\n",
    "\n",
    "Кажется, что все круто. Есть, правда, некоторая загвоздка с проверкой гипотез. \n",
    "\n",
    "У тебя немного разъехалось. Проверить мы хотим различия в доле пользователей которые сделали то или иное событие. При этом ты передаешь в тест абсолютные значения разбитые по датам. Сравнение абсолютных значений само по себе идея и не очень, т.к. это здесь доли в группах одинаковые (ААВ - все три группы примерно одного размера). Но чаще всего экспериментальный формат раскатывается на очень небольшой объем трафика и тут уже ни о каком сравнении абсолютных значений речь не пойдет. \n",
    "\n",
    "Авторы курса тут имели в виду немного другое. Не хочу совсем уж подсказывать (а я нашел соответствующую главу в материалах курса), но речь идёт по сути о ручной проверке того, что доля для каждого действия (полученная в тесте) укладывется в нормальное распределение на основе всех данных или не укладывается. Поправь, пожалуйста, эту штуку. В остальном - отличная, чистая работа."
   ]
  },
  {
   "cell_type": "markdown",
   "metadata": {},
   "source": [
    "# Комментарий наставника (II)\n",
    "\n",
    "Либо я слишком туманный дал комментарий, либо ты на него неочевидно отреагировал. Я писал про вот тему: Принятие решений в бизнесе на основе данных -> Проверка гипотезы о равенстве долей\n",
    "\n",
    "Нам нужно проверить факт совпадение долей перешедших с шага 1 к шагу 2, с шага один к шагу 3, ит.д.\n",
    "\n",
    "Если вдруг совсем запутался, но напиши комментарий с вопросами и отправь мне работу. Я попробую пояснить подробнее. "
   ]
  },
  {
   "cell_type": "code",
   "execution_count": 1,
   "metadata": {},
   "outputs": [],
   "source": [
    "from scipy import stats as st\n",
    "import pandas as pd\n",
    "import numpy as np\n",
    "import matplotlib.pyplot as plt \n",
    "import seaborn as sns\n",
    "import scipy.stats as stats"
   ]
  },
  {
   "cell_type": "markdown",
   "metadata": {},
   "source": [
    "# Шаг 1. Прочитаем данные и просмотрим как выглядет таблица"
   ]
  },
  {
   "cell_type": "code",
   "execution_count": 2,
   "metadata": {},
   "outputs": [],
   "source": [
    "data = pd.read_csv('/datasets/logs_exp.csv', sep = '\\t')"
   ]
  },
  {
   "cell_type": "code",
   "execution_count": 3,
   "metadata": {},
   "outputs": [
    {
     "data": {
      "text/html": [
       "<div>\n",
       "<style scoped>\n",
       "    .dataframe tbody tr th:only-of-type {\n",
       "        vertical-align: middle;\n",
       "    }\n",
       "\n",
       "    .dataframe tbody tr th {\n",
       "        vertical-align: top;\n",
       "    }\n",
       "\n",
       "    .dataframe thead th {\n",
       "        text-align: right;\n",
       "    }\n",
       "</style>\n",
       "<table border=\"1\" class=\"dataframe\">\n",
       "  <thead>\n",
       "    <tr style=\"text-align: right;\">\n",
       "      <th></th>\n",
       "      <th>EventName</th>\n",
       "      <th>DeviceIDHash</th>\n",
       "      <th>EventTimestamp</th>\n",
       "      <th>ExpId</th>\n",
       "    </tr>\n",
       "  </thead>\n",
       "  <tbody>\n",
       "    <tr>\n",
       "      <td>0</td>\n",
       "      <td>MainScreenAppear</td>\n",
       "      <td>4575588528974610257</td>\n",
       "      <td>1564029816</td>\n",
       "      <td>246</td>\n",
       "    </tr>\n",
       "    <tr>\n",
       "      <td>1</td>\n",
       "      <td>MainScreenAppear</td>\n",
       "      <td>7416695313311560658</td>\n",
       "      <td>1564053102</td>\n",
       "      <td>246</td>\n",
       "    </tr>\n",
       "    <tr>\n",
       "      <td>2</td>\n",
       "      <td>PaymentScreenSuccessful</td>\n",
       "      <td>3518123091307005509</td>\n",
       "      <td>1564054127</td>\n",
       "      <td>248</td>\n",
       "    </tr>\n",
       "    <tr>\n",
       "      <td>3</td>\n",
       "      <td>CartScreenAppear</td>\n",
       "      <td>3518123091307005509</td>\n",
       "      <td>1564054127</td>\n",
       "      <td>248</td>\n",
       "    </tr>\n",
       "    <tr>\n",
       "      <td>4</td>\n",
       "      <td>PaymentScreenSuccessful</td>\n",
       "      <td>6217807653094995999</td>\n",
       "      <td>1564055322</td>\n",
       "      <td>248</td>\n",
       "    </tr>\n",
       "  </tbody>\n",
       "</table>\n",
       "</div>"
      ],
      "text/plain": [
       "                 EventName         DeviceIDHash  EventTimestamp  ExpId\n",
       "0         MainScreenAppear  4575588528974610257      1564029816    246\n",
       "1         MainScreenAppear  7416695313311560658      1564053102    246\n",
       "2  PaymentScreenSuccessful  3518123091307005509      1564054127    248\n",
       "3         CartScreenAppear  3518123091307005509      1564054127    248\n",
       "4  PaymentScreenSuccessful  6217807653094995999      1564055322    248"
      ]
     },
     "execution_count": 3,
     "metadata": {},
     "output_type": "execute_result"
    }
   ],
   "source": [
    "data.head()"
   ]
  },
  {
   "cell_type": "code",
   "execution_count": 4,
   "metadata": {},
   "outputs": [
    {
     "name": "stdout",
     "output_type": "stream",
     "text": [
      "<class 'pandas.core.frame.DataFrame'>\n",
      "RangeIndex: 244126 entries, 0 to 244125\n",
      "Data columns (total 4 columns):\n",
      "EventName         244126 non-null object\n",
      "DeviceIDHash      244126 non-null int64\n",
      "EventTimestamp    244126 non-null int64\n",
      "ExpId             244126 non-null int64\n",
      "dtypes: int64(3), object(1)\n",
      "memory usage: 7.5+ MB\n"
     ]
    }
   ],
   "source": [
    "data.info()"
   ]
  },
  {
   "cell_type": "code",
   "execution_count": 5,
   "metadata": {},
   "outputs": [],
   "source": [
    "data['time'] = pd.to_datetime(data['EventTimestamp'], unit = 's')"
   ]
  },
  {
   "cell_type": "code",
   "execution_count": 6,
   "metadata": {},
   "outputs": [
    {
     "data": {
      "text/html": [
       "<div>\n",
       "<style scoped>\n",
       "    .dataframe tbody tr th:only-of-type {\n",
       "        vertical-align: middle;\n",
       "    }\n",
       "\n",
       "    .dataframe tbody tr th {\n",
       "        vertical-align: top;\n",
       "    }\n",
       "\n",
       "    .dataframe thead th {\n",
       "        text-align: right;\n",
       "    }\n",
       "</style>\n",
       "<table border=\"1\" class=\"dataframe\">\n",
       "  <thead>\n",
       "    <tr style=\"text-align: right;\">\n",
       "      <th></th>\n",
       "      <th>EventName</th>\n",
       "      <th>DeviceIDHash</th>\n",
       "      <th>EventTimestamp</th>\n",
       "      <th>ExpId</th>\n",
       "      <th>time</th>\n",
       "    </tr>\n",
       "  </thead>\n",
       "  <tbody>\n",
       "    <tr>\n",
       "      <td>0</td>\n",
       "      <td>MainScreenAppear</td>\n",
       "      <td>4575588528974610257</td>\n",
       "      <td>1564029816</td>\n",
       "      <td>246</td>\n",
       "      <td>2019-07-25 04:43:36</td>\n",
       "    </tr>\n",
       "    <tr>\n",
       "      <td>1</td>\n",
       "      <td>MainScreenAppear</td>\n",
       "      <td>7416695313311560658</td>\n",
       "      <td>1564053102</td>\n",
       "      <td>246</td>\n",
       "      <td>2019-07-25 11:11:42</td>\n",
       "    </tr>\n",
       "    <tr>\n",
       "      <td>2</td>\n",
       "      <td>PaymentScreenSuccessful</td>\n",
       "      <td>3518123091307005509</td>\n",
       "      <td>1564054127</td>\n",
       "      <td>248</td>\n",
       "      <td>2019-07-25 11:28:47</td>\n",
       "    </tr>\n",
       "    <tr>\n",
       "      <td>3</td>\n",
       "      <td>CartScreenAppear</td>\n",
       "      <td>3518123091307005509</td>\n",
       "      <td>1564054127</td>\n",
       "      <td>248</td>\n",
       "      <td>2019-07-25 11:28:47</td>\n",
       "    </tr>\n",
       "    <tr>\n",
       "      <td>4</td>\n",
       "      <td>PaymentScreenSuccessful</td>\n",
       "      <td>6217807653094995999</td>\n",
       "      <td>1564055322</td>\n",
       "      <td>248</td>\n",
       "      <td>2019-07-25 11:48:42</td>\n",
       "    </tr>\n",
       "  </tbody>\n",
       "</table>\n",
       "</div>"
      ],
      "text/plain": [
       "                 EventName         DeviceIDHash  EventTimestamp  ExpId  \\\n",
       "0         MainScreenAppear  4575588528974610257      1564029816    246   \n",
       "1         MainScreenAppear  7416695313311560658      1564053102    246   \n",
       "2  PaymentScreenSuccessful  3518123091307005509      1564054127    248   \n",
       "3         CartScreenAppear  3518123091307005509      1564054127    248   \n",
       "4  PaymentScreenSuccessful  6217807653094995999      1564055322    248   \n",
       "\n",
       "                 time  \n",
       "0 2019-07-25 04:43:36  \n",
       "1 2019-07-25 11:11:42  \n",
       "2 2019-07-25 11:28:47  \n",
       "3 2019-07-25 11:28:47  \n",
       "4 2019-07-25 11:48:42  "
      ]
     },
     "execution_count": 6,
     "metadata": {},
     "output_type": "execute_result"
    }
   ],
   "source": [
    "data.head()"
   ]
  },
  {
   "cell_type": "code",
   "execution_count": 7,
   "metadata": {},
   "outputs": [
    {
     "data": {
      "text/html": [
       "<div>\n",
       "<style scoped>\n",
       "    .dataframe tbody tr th:only-of-type {\n",
       "        vertical-align: middle;\n",
       "    }\n",
       "\n",
       "    .dataframe tbody tr th {\n",
       "        vertical-align: top;\n",
       "    }\n",
       "\n",
       "    .dataframe thead th {\n",
       "        text-align: right;\n",
       "    }\n",
       "</style>\n",
       "<table border=\"1\" class=\"dataframe\">\n",
       "  <thead>\n",
       "    <tr style=\"text-align: right;\">\n",
       "      <th></th>\n",
       "      <th>EventName</th>\n",
       "    </tr>\n",
       "    <tr>\n",
       "      <th>EventName</th>\n",
       "      <th></th>\n",
       "    </tr>\n",
       "  </thead>\n",
       "  <tbody>\n",
       "    <tr>\n",
       "      <td>CartScreenAppear</td>\n",
       "      <td>42731</td>\n",
       "    </tr>\n",
       "    <tr>\n",
       "      <td>MainScreenAppear</td>\n",
       "      <td>119205</td>\n",
       "    </tr>\n",
       "    <tr>\n",
       "      <td>OffersScreenAppear</td>\n",
       "      <td>46825</td>\n",
       "    </tr>\n",
       "    <tr>\n",
       "      <td>PaymentScreenSuccessful</td>\n",
       "      <td>34313</td>\n",
       "    </tr>\n",
       "    <tr>\n",
       "      <td>Tutorial</td>\n",
       "      <td>1052</td>\n",
       "    </tr>\n",
       "  </tbody>\n",
       "</table>\n",
       "</div>"
      ],
      "text/plain": [
       "                         EventName\n",
       "EventName                         \n",
       "CartScreenAppear             42731\n",
       "MainScreenAppear            119205\n",
       "OffersScreenAppear           46825\n",
       "PaymentScreenSuccessful      34313\n",
       "Tutorial                      1052"
      ]
     },
     "execution_count": 7,
     "metadata": {},
     "output_type": "execute_result"
    }
   ],
   "source": [
    "data.groupby('EventName').agg({'EventName': 'count'})"
   ]
  },
  {
   "cell_type": "code",
   "execution_count": 8,
   "metadata": {},
   "outputs": [
    {
     "data": {
      "text/plain": [
       "EventName    244126\n",
       "dtype: int64"
      ]
     },
     "execution_count": 8,
     "metadata": {},
     "output_type": "execute_result"
    }
   ],
   "source": [
    "data.groupby('EventName').agg({'EventName': 'count'}).sum()"
   ]
  },
  {
   "cell_type": "code",
   "execution_count": 9,
   "metadata": {},
   "outputs": [
    {
     "data": {
      "text/html": [
       "<div>\n",
       "<style scoped>\n",
       "    .dataframe tbody tr th:only-of-type {\n",
       "        vertical-align: middle;\n",
       "    }\n",
       "\n",
       "    .dataframe tbody tr th {\n",
       "        vertical-align: top;\n",
       "    }\n",
       "\n",
       "    .dataframe thead th {\n",
       "        text-align: right;\n",
       "    }\n",
       "</style>\n",
       "<table border=\"1\" class=\"dataframe\">\n",
       "  <thead>\n",
       "    <tr style=\"text-align: right;\">\n",
       "      <th></th>\n",
       "      <th>DeviceIDHash</th>\n",
       "    </tr>\n",
       "    <tr>\n",
       "      <th>DeviceIDHash</th>\n",
       "      <th></th>\n",
       "    </tr>\n",
       "  </thead>\n",
       "  <tbody>\n",
       "    <tr>\n",
       "      <td>6888746892508752</td>\n",
       "      <td>1</td>\n",
       "    </tr>\n",
       "    <tr>\n",
       "      <td>6909561520679493</td>\n",
       "      <td>5</td>\n",
       "    </tr>\n",
       "    <tr>\n",
       "      <td>6922444491712477</td>\n",
       "      <td>47</td>\n",
       "    </tr>\n",
       "    <tr>\n",
       "      <td>7435777799948366</td>\n",
       "      <td>6</td>\n",
       "    </tr>\n",
       "    <tr>\n",
       "      <td>7702139951469979</td>\n",
       "      <td>137</td>\n",
       "    </tr>\n",
       "    <tr>\n",
       "      <td>...</td>\n",
       "      <td>...</td>\n",
       "    </tr>\n",
       "    <tr>\n",
       "      <td>9217594193087726423</td>\n",
       "      <td>9</td>\n",
       "    </tr>\n",
       "    <tr>\n",
       "      <td>9219463515465815368</td>\n",
       "      <td>17</td>\n",
       "    </tr>\n",
       "    <tr>\n",
       "      <td>9220879493065341500</td>\n",
       "      <td>7</td>\n",
       "    </tr>\n",
       "    <tr>\n",
       "      <td>9221926045299980007</td>\n",
       "      <td>7</td>\n",
       "    </tr>\n",
       "    <tr>\n",
       "      <td>9222603179720523844</td>\n",
       "      <td>59</td>\n",
       "    </tr>\n",
       "  </tbody>\n",
       "</table>\n",
       "<p>7551 rows × 1 columns</p>\n",
       "</div>"
      ],
      "text/plain": [
       "                     DeviceIDHash\n",
       "DeviceIDHash                     \n",
       "6888746892508752                1\n",
       "6909561520679493                5\n",
       "6922444491712477               47\n",
       "7435777799948366                6\n",
       "7702139951469979              137\n",
       "...                           ...\n",
       "9217594193087726423             9\n",
       "9219463515465815368            17\n",
       "9220879493065341500             7\n",
       "9221926045299980007             7\n",
       "9222603179720523844            59\n",
       "\n",
       "[7551 rows x 1 columns]"
      ]
     },
     "execution_count": 9,
     "metadata": {},
     "output_type": "execute_result"
    }
   ],
   "source": [
    "data.groupby('DeviceIDHash').agg({'DeviceIDHash': 'count'})"
   ]
  },
  {
   "cell_type": "code",
   "execution_count": 10,
   "metadata": {},
   "outputs": [
    {
     "data": {
      "text/html": [
       "<div>\n",
       "<style scoped>\n",
       "    .dataframe tbody tr th:only-of-type {\n",
       "        vertical-align: middle;\n",
       "    }\n",
       "\n",
       "    .dataframe tbody tr th {\n",
       "        vertical-align: top;\n",
       "    }\n",
       "\n",
       "    .dataframe thead th {\n",
       "        text-align: right;\n",
       "    }\n",
       "</style>\n",
       "<table border=\"1\" class=\"dataframe\">\n",
       "  <thead>\n",
       "    <tr style=\"text-align: right;\">\n",
       "      <th></th>\n",
       "      <th>ExpId</th>\n",
       "    </tr>\n",
       "    <tr>\n",
       "      <th>ExpId</th>\n",
       "      <th></th>\n",
       "    </tr>\n",
       "  </thead>\n",
       "  <tbody>\n",
       "    <tr>\n",
       "      <td>246</td>\n",
       "      <td>80304</td>\n",
       "    </tr>\n",
       "    <tr>\n",
       "      <td>247</td>\n",
       "      <td>78075</td>\n",
       "    </tr>\n",
       "    <tr>\n",
       "      <td>248</td>\n",
       "      <td>85747</td>\n",
       "    </tr>\n",
       "  </tbody>\n",
       "</table>\n",
       "</div>"
      ],
      "text/plain": [
       "       ExpId\n",
       "ExpId       \n",
       "246    80304\n",
       "247    78075\n",
       "248    85747"
      ]
     },
     "execution_count": 10,
     "metadata": {},
     "output_type": "execute_result"
    }
   ],
   "source": [
    "data.groupby('ExpId').agg({'ExpId': 'count'})"
   ]
  },
  {
   "cell_type": "code",
   "execution_count": 11,
   "metadata": {},
   "outputs": [
    {
     "data": {
      "text/plain": [
       "413"
      ]
     },
     "execution_count": 11,
     "metadata": {},
     "output_type": "execute_result"
    }
   ],
   "source": [
    "data.duplicated().sum()"
   ]
  },
  {
   "cell_type": "code",
   "execution_count": 12,
   "metadata": {},
   "outputs": [
    {
     "data": {
      "text/html": [
       "<div>\n",
       "<style scoped>\n",
       "    .dataframe tbody tr th:only-of-type {\n",
       "        vertical-align: middle;\n",
       "    }\n",
       "\n",
       "    .dataframe tbody tr th {\n",
       "        vertical-align: top;\n",
       "    }\n",
       "\n",
       "    .dataframe thead th {\n",
       "        text-align: right;\n",
       "    }\n",
       "</style>\n",
       "<table border=\"1\" class=\"dataframe\">\n",
       "  <thead>\n",
       "    <tr style=\"text-align: right;\">\n",
       "      <th></th>\n",
       "      <th>EventName</th>\n",
       "      <th>DeviceIDHash</th>\n",
       "      <th>EventTimestamp</th>\n",
       "      <th>ExpId</th>\n",
       "      <th>time</th>\n",
       "    </tr>\n",
       "  </thead>\n",
       "  <tbody>\n",
       "    <tr>\n",
       "      <td>453</td>\n",
       "      <td>MainScreenAppear</td>\n",
       "      <td>5613408041324010552</td>\n",
       "      <td>1564474784</td>\n",
       "      <td>248</td>\n",
       "      <td>2019-07-30 08:19:44</td>\n",
       "    </tr>\n",
       "    <tr>\n",
       "      <td>2350</td>\n",
       "      <td>CartScreenAppear</td>\n",
       "      <td>1694940645335807244</td>\n",
       "      <td>1564609899</td>\n",
       "      <td>248</td>\n",
       "      <td>2019-07-31 21:51:39</td>\n",
       "    </tr>\n",
       "    <tr>\n",
       "      <td>3573</td>\n",
       "      <td>MainScreenAppear</td>\n",
       "      <td>434103746454591587</td>\n",
       "      <td>1564628377</td>\n",
       "      <td>248</td>\n",
       "      <td>2019-08-01 02:59:37</td>\n",
       "    </tr>\n",
       "    <tr>\n",
       "      <td>4076</td>\n",
       "      <td>MainScreenAppear</td>\n",
       "      <td>3761373764179762633</td>\n",
       "      <td>1564631266</td>\n",
       "      <td>247</td>\n",
       "      <td>2019-08-01 03:47:46</td>\n",
       "    </tr>\n",
       "    <tr>\n",
       "      <td>4803</td>\n",
       "      <td>MainScreenAppear</td>\n",
       "      <td>2835328739789306622</td>\n",
       "      <td>1564634641</td>\n",
       "      <td>248</td>\n",
       "      <td>2019-08-01 04:44:01</td>\n",
       "    </tr>\n",
       "    <tr>\n",
       "      <td>...</td>\n",
       "      <td>...</td>\n",
       "      <td>...</td>\n",
       "      <td>...</td>\n",
       "      <td>...</td>\n",
       "      <td>...</td>\n",
       "    </tr>\n",
       "    <tr>\n",
       "      <td>242329</td>\n",
       "      <td>MainScreenAppear</td>\n",
       "      <td>8870358373313968633</td>\n",
       "      <td>1565206004</td>\n",
       "      <td>247</td>\n",
       "      <td>2019-08-07 19:26:44</td>\n",
       "    </tr>\n",
       "    <tr>\n",
       "      <td>242332</td>\n",
       "      <td>PaymentScreenSuccessful</td>\n",
       "      <td>4718002964983105693</td>\n",
       "      <td>1565206005</td>\n",
       "      <td>247</td>\n",
       "      <td>2019-08-07 19:26:45</td>\n",
       "    </tr>\n",
       "    <tr>\n",
       "      <td>242360</td>\n",
       "      <td>PaymentScreenSuccessful</td>\n",
       "      <td>2382591782303281935</td>\n",
       "      <td>1565206049</td>\n",
       "      <td>246</td>\n",
       "      <td>2019-08-07 19:27:29</td>\n",
       "    </tr>\n",
       "    <tr>\n",
       "      <td>242362</td>\n",
       "      <td>CartScreenAppear</td>\n",
       "      <td>2382591782303281935</td>\n",
       "      <td>1565206049</td>\n",
       "      <td>246</td>\n",
       "      <td>2019-08-07 19:27:29</td>\n",
       "    </tr>\n",
       "    <tr>\n",
       "      <td>242635</td>\n",
       "      <td>MainScreenAppear</td>\n",
       "      <td>4097782667445790512</td>\n",
       "      <td>1565206618</td>\n",
       "      <td>246</td>\n",
       "      <td>2019-08-07 19:36:58</td>\n",
       "    </tr>\n",
       "  </tbody>\n",
       "</table>\n",
       "<p>413 rows × 5 columns</p>\n",
       "</div>"
      ],
      "text/plain": [
       "                      EventName         DeviceIDHash  EventTimestamp  ExpId  \\\n",
       "453            MainScreenAppear  5613408041324010552      1564474784    248   \n",
       "2350           CartScreenAppear  1694940645335807244      1564609899    248   \n",
       "3573           MainScreenAppear   434103746454591587      1564628377    248   \n",
       "4076           MainScreenAppear  3761373764179762633      1564631266    247   \n",
       "4803           MainScreenAppear  2835328739789306622      1564634641    248   \n",
       "...                         ...                  ...             ...    ...   \n",
       "242329         MainScreenAppear  8870358373313968633      1565206004    247   \n",
       "242332  PaymentScreenSuccessful  4718002964983105693      1565206005    247   \n",
       "242360  PaymentScreenSuccessful  2382591782303281935      1565206049    246   \n",
       "242362         CartScreenAppear  2382591782303281935      1565206049    246   \n",
       "242635         MainScreenAppear  4097782667445790512      1565206618    246   \n",
       "\n",
       "                      time  \n",
       "453    2019-07-30 08:19:44  \n",
       "2350   2019-07-31 21:51:39  \n",
       "3573   2019-08-01 02:59:37  \n",
       "4076   2019-08-01 03:47:46  \n",
       "4803   2019-08-01 04:44:01  \n",
       "...                    ...  \n",
       "242329 2019-08-07 19:26:44  \n",
       "242332 2019-08-07 19:26:45  \n",
       "242360 2019-08-07 19:27:29  \n",
       "242362 2019-08-07 19:27:29  \n",
       "242635 2019-08-07 19:36:58  \n",
       "\n",
       "[413 rows x 5 columns]"
      ]
     },
     "execution_count": 12,
     "metadata": {},
     "output_type": "execute_result"
    }
   ],
   "source": [
    "data[data.duplicated()]"
   ]
  },
  {
   "cell_type": "code",
   "execution_count": 13,
   "metadata": {},
   "outputs": [],
   "source": [
    "data = data.drop_duplicates().reset_index(drop=True)    "
   ]
  },
  {
   "cell_type": "markdown",
   "metadata": {},
   "source": [
    "# Подготовка данных"
   ]
  },
  {
   "cell_type": "code",
   "execution_count": 14,
   "metadata": {},
   "outputs": [],
   "source": [
    "data['date'] = data['time'].dt.date\n",
    "data['date'] = pd.to_datetime(data['date'], format='%Y-%m-%d')"
   ]
  },
  {
   "cell_type": "code",
   "execution_count": 15,
   "metadata": {},
   "outputs": [],
   "source": [
    "data['first_visit'] = 1 - data[['DeviceIDHash']].duplicated()"
   ]
  },
  {
   "cell_type": "code",
   "execution_count": 16,
   "metadata": {},
   "outputs": [
    {
     "data": {
      "text/html": [
       "<div>\n",
       "<style scoped>\n",
       "    .dataframe tbody tr th:only-of-type {\n",
       "        vertical-align: middle;\n",
       "    }\n",
       "\n",
       "    .dataframe tbody tr th {\n",
       "        vertical-align: top;\n",
       "    }\n",
       "\n",
       "    .dataframe thead th {\n",
       "        text-align: right;\n",
       "    }\n",
       "</style>\n",
       "<table border=\"1\" class=\"dataframe\">\n",
       "  <thead>\n",
       "    <tr style=\"text-align: right;\">\n",
       "      <th></th>\n",
       "      <th>EventName</th>\n",
       "      <th>DeviceIDHash</th>\n",
       "      <th>EventTimestamp</th>\n",
       "      <th>ExpId</th>\n",
       "      <th>time</th>\n",
       "      <th>date</th>\n",
       "      <th>first_visit</th>\n",
       "    </tr>\n",
       "  </thead>\n",
       "  <tbody>\n",
       "    <tr>\n",
       "      <td>0</td>\n",
       "      <td>MainScreenAppear</td>\n",
       "      <td>4575588528974610257</td>\n",
       "      <td>1564029816</td>\n",
       "      <td>246</td>\n",
       "      <td>2019-07-25 04:43:36</td>\n",
       "      <td>2019-07-25</td>\n",
       "      <td>1</td>\n",
       "    </tr>\n",
       "    <tr>\n",
       "      <td>1</td>\n",
       "      <td>MainScreenAppear</td>\n",
       "      <td>7416695313311560658</td>\n",
       "      <td>1564053102</td>\n",
       "      <td>246</td>\n",
       "      <td>2019-07-25 11:11:42</td>\n",
       "      <td>2019-07-25</td>\n",
       "      <td>1</td>\n",
       "    </tr>\n",
       "    <tr>\n",
       "      <td>2</td>\n",
       "      <td>PaymentScreenSuccessful</td>\n",
       "      <td>3518123091307005509</td>\n",
       "      <td>1564054127</td>\n",
       "      <td>248</td>\n",
       "      <td>2019-07-25 11:28:47</td>\n",
       "      <td>2019-07-25</td>\n",
       "      <td>1</td>\n",
       "    </tr>\n",
       "    <tr>\n",
       "      <td>3</td>\n",
       "      <td>CartScreenAppear</td>\n",
       "      <td>3518123091307005509</td>\n",
       "      <td>1564054127</td>\n",
       "      <td>248</td>\n",
       "      <td>2019-07-25 11:28:47</td>\n",
       "      <td>2019-07-25</td>\n",
       "      <td>0</td>\n",
       "    </tr>\n",
       "    <tr>\n",
       "      <td>4</td>\n",
       "      <td>PaymentScreenSuccessful</td>\n",
       "      <td>6217807653094995999</td>\n",
       "      <td>1564055322</td>\n",
       "      <td>248</td>\n",
       "      <td>2019-07-25 11:48:42</td>\n",
       "      <td>2019-07-25</td>\n",
       "      <td>1</td>\n",
       "    </tr>\n",
       "  </tbody>\n",
       "</table>\n",
       "</div>"
      ],
      "text/plain": [
       "                 EventName         DeviceIDHash  EventTimestamp  ExpId  \\\n",
       "0         MainScreenAppear  4575588528974610257      1564029816    246   \n",
       "1         MainScreenAppear  7416695313311560658      1564053102    246   \n",
       "2  PaymentScreenSuccessful  3518123091307005509      1564054127    248   \n",
       "3         CartScreenAppear  3518123091307005509      1564054127    248   \n",
       "4  PaymentScreenSuccessful  6217807653094995999      1564055322    248   \n",
       "\n",
       "                 time       date  first_visit  \n",
       "0 2019-07-25 04:43:36 2019-07-25            1  \n",
       "1 2019-07-25 11:11:42 2019-07-25            1  \n",
       "2 2019-07-25 11:28:47 2019-07-25            1  \n",
       "3 2019-07-25 11:28:47 2019-07-25            0  \n",
       "4 2019-07-25 11:48:42 2019-07-25            1  "
      ]
     },
     "execution_count": 16,
     "metadata": {},
     "output_type": "execute_result"
    }
   ],
   "source": [
    "data.head()"
   ]
  },
  {
   "cell_type": "code",
   "execution_count": 17,
   "metadata": {},
   "outputs": [],
   "source": [
    "data.sort_values(by=['time', 'ExpId', 'DeviceIDHash'], inplace=True)"
   ]
  },
  {
   "cell_type": "code",
   "execution_count": 18,
   "metadata": {},
   "outputs": [
    {
     "name": "stdout",
     "output_type": "stream",
     "text": [
      "<class 'pandas.core.frame.DataFrame'>\n",
      "Int64Index: 243713 entries, 0 to 243712\n",
      "Data columns (total 7 columns):\n",
      "EventName         243713 non-null object\n",
      "DeviceIDHash      243713 non-null int64\n",
      "EventTimestamp    243713 non-null int64\n",
      "ExpId             243713 non-null int64\n",
      "time              243713 non-null datetime64[ns]\n",
      "date              243713 non-null datetime64[ns]\n",
      "first_visit       243713 non-null int64\n",
      "dtypes: datetime64[ns](2), int64(4), object(1)\n",
      "memory usage: 14.9+ MB\n"
     ]
    }
   ],
   "source": [
    "data.info()"
   ]
  },
  {
   "cell_type": "code",
   "execution_count": 19,
   "metadata": {},
   "outputs": [
    {
     "data": {
      "text/html": [
       "<div>\n",
       "<style scoped>\n",
       "    .dataframe tbody tr th:only-of-type {\n",
       "        vertical-align: middle;\n",
       "    }\n",
       "\n",
       "    .dataframe tbody tr th {\n",
       "        vertical-align: top;\n",
       "    }\n",
       "\n",
       "    .dataframe thead th {\n",
       "        text-align: right;\n",
       "    }\n",
       "</style>\n",
       "<table border=\"1\" class=\"dataframe\">\n",
       "  <thead>\n",
       "    <tr style=\"text-align: right;\">\n",
       "      <th></th>\n",
       "      <th>EventName</th>\n",
       "      <th>DeviceIDHash</th>\n",
       "      <th>EventTimestamp</th>\n",
       "      <th>ExpId</th>\n",
       "      <th>time</th>\n",
       "      <th>date</th>\n",
       "      <th>first_visit</th>\n",
       "    </tr>\n",
       "  </thead>\n",
       "  <tbody>\n",
       "    <tr>\n",
       "      <td>0</td>\n",
       "      <td>MainScreenAppear</td>\n",
       "      <td>4575588528974610257</td>\n",
       "      <td>1564029816</td>\n",
       "      <td>246</td>\n",
       "      <td>2019-07-25 04:43:36</td>\n",
       "      <td>2019-07-25</td>\n",
       "      <td>1</td>\n",
       "    </tr>\n",
       "    <tr>\n",
       "      <td>1</td>\n",
       "      <td>MainScreenAppear</td>\n",
       "      <td>7416695313311560658</td>\n",
       "      <td>1564053102</td>\n",
       "      <td>246</td>\n",
       "      <td>2019-07-25 11:11:42</td>\n",
       "      <td>2019-07-25</td>\n",
       "      <td>1</td>\n",
       "    </tr>\n",
       "    <tr>\n",
       "      <td>2</td>\n",
       "      <td>PaymentScreenSuccessful</td>\n",
       "      <td>3518123091307005509</td>\n",
       "      <td>1564054127</td>\n",
       "      <td>248</td>\n",
       "      <td>2019-07-25 11:28:47</td>\n",
       "      <td>2019-07-25</td>\n",
       "      <td>1</td>\n",
       "    </tr>\n",
       "    <tr>\n",
       "      <td>3</td>\n",
       "      <td>CartScreenAppear</td>\n",
       "      <td>3518123091307005509</td>\n",
       "      <td>1564054127</td>\n",
       "      <td>248</td>\n",
       "      <td>2019-07-25 11:28:47</td>\n",
       "      <td>2019-07-25</td>\n",
       "      <td>0</td>\n",
       "    </tr>\n",
       "    <tr>\n",
       "      <td>4</td>\n",
       "      <td>PaymentScreenSuccessful</td>\n",
       "      <td>6217807653094995999</td>\n",
       "      <td>1564055322</td>\n",
       "      <td>248</td>\n",
       "      <td>2019-07-25 11:48:42</td>\n",
       "      <td>2019-07-25</td>\n",
       "      <td>1</td>\n",
       "    </tr>\n",
       "  </tbody>\n",
       "</table>\n",
       "</div>"
      ],
      "text/plain": [
       "                 EventName         DeviceIDHash  EventTimestamp  ExpId  \\\n",
       "0         MainScreenAppear  4575588528974610257      1564029816    246   \n",
       "1         MainScreenAppear  7416695313311560658      1564053102    246   \n",
       "2  PaymentScreenSuccessful  3518123091307005509      1564054127    248   \n",
       "3         CartScreenAppear  3518123091307005509      1564054127    248   \n",
       "4  PaymentScreenSuccessful  6217807653094995999      1564055322    248   \n",
       "\n",
       "                 time       date  first_visit  \n",
       "0 2019-07-25 04:43:36 2019-07-25            1  \n",
       "1 2019-07-25 11:11:42 2019-07-25            1  \n",
       "2 2019-07-25 11:28:47 2019-07-25            1  \n",
       "3 2019-07-25 11:28:47 2019-07-25            0  \n",
       "4 2019-07-25 11:48:42 2019-07-25            1  "
      ]
     },
     "execution_count": 19,
     "metadata": {},
     "output_type": "execute_result"
    }
   ],
   "source": [
    "data.head()"
   ]
  },
  {
   "cell_type": "markdown",
   "metadata": {},
   "source": [
    "# Шаг 2. Изучить и проверить данные"
   ]
  },
  {
   "cell_type": "code",
   "execution_count": 20,
   "metadata": {},
   "outputs": [
    {
     "data": {
      "text/plain": [
       "count                  243713\n",
       "unique                 176654\n",
       "top       2019-08-01 14:40:35\n",
       "freq                        9\n",
       "first     2019-07-25 04:43:36\n",
       "last      2019-08-07 21:15:17\n",
       "Name: time, dtype: object"
      ]
     },
     "execution_count": 20,
     "metadata": {},
     "output_type": "execute_result"
    }
   ],
   "source": [
    "data['time'].describe()"
   ]
  },
  {
   "cell_type": "code",
   "execution_count": 21,
   "metadata": {},
   "outputs": [
    {
     "data": {
      "text/plain": [
       "count                  243713\n",
       "unique                     14\n",
       "top       2019-08-01 00:00:00\n",
       "freq                    36141\n",
       "first     2019-07-25 00:00:00\n",
       "last      2019-08-07 00:00:00\n",
       "Name: date, dtype: object"
      ]
     },
     "execution_count": 21,
     "metadata": {},
     "output_type": "execute_result"
    }
   ],
   "source": [
    "data['date'].describe()"
   ]
  },
  {
   "cell_type": "code",
   "execution_count": 22,
   "metadata": {},
   "outputs": [
    {
     "data": {
      "text/html": [
       "<div>\n",
       "<style scoped>\n",
       "    .dataframe tbody tr th:only-of-type {\n",
       "        vertical-align: middle;\n",
       "    }\n",
       "\n",
       "    .dataframe tbody tr th {\n",
       "        vertical-align: top;\n",
       "    }\n",
       "\n",
       "    .dataframe thead th {\n",
       "        text-align: right;\n",
       "    }\n",
       "</style>\n",
       "<table border=\"1\" class=\"dataframe\">\n",
       "  <thead>\n",
       "    <tr style=\"text-align: right;\">\n",
       "      <th></th>\n",
       "      <th>time</th>\n",
       "    </tr>\n",
       "    <tr>\n",
       "      <th>EventName</th>\n",
       "      <th></th>\n",
       "    </tr>\n",
       "  </thead>\n",
       "  <tbody>\n",
       "    <tr>\n",
       "      <td>CartScreenAppear</td>\n",
       "      <td>42668</td>\n",
       "    </tr>\n",
       "    <tr>\n",
       "      <td>MainScreenAppear</td>\n",
       "      <td>119101</td>\n",
       "    </tr>\n",
       "    <tr>\n",
       "      <td>OffersScreenAppear</td>\n",
       "      <td>46808</td>\n",
       "    </tr>\n",
       "    <tr>\n",
       "      <td>PaymentScreenSuccessful</td>\n",
       "      <td>34118</td>\n",
       "    </tr>\n",
       "    <tr>\n",
       "      <td>Tutorial</td>\n",
       "      <td>1018</td>\n",
       "    </tr>\n",
       "  </tbody>\n",
       "</table>\n",
       "</div>"
      ],
      "text/plain": [
       "                           time\n",
       "EventName                      \n",
       "CartScreenAppear          42668\n",
       "MainScreenAppear         119101\n",
       "OffersScreenAppear        46808\n",
       "PaymentScreenSuccessful   34118\n",
       "Tutorial                   1018"
      ]
     },
     "execution_count": 22,
     "metadata": {},
     "output_type": "execute_result"
    }
   ],
   "source": [
    "data.groupby('EventName').agg({'time': 'count'})"
   ]
  },
  {
   "cell_type": "code",
   "execution_count": 23,
   "metadata": {},
   "outputs": [],
   "source": [
    "date = data.groupby('date').agg({'time': 'count'}).reset_index()"
   ]
  },
  {
   "cell_type": "code",
   "execution_count": 24,
   "metadata": {},
   "outputs": [],
   "source": [
    "date = date.sort_values(by = 'date')"
   ]
  },
  {
   "cell_type": "code",
   "execution_count": 25,
   "metadata": {},
   "outputs": [
    {
     "data": {
      "text/html": [
       "<div>\n",
       "<style scoped>\n",
       "    .dataframe tbody tr th:only-of-type {\n",
       "        vertical-align: middle;\n",
       "    }\n",
       "\n",
       "    .dataframe tbody tr th {\n",
       "        vertical-align: top;\n",
       "    }\n",
       "\n",
       "    .dataframe thead th {\n",
       "        text-align: right;\n",
       "    }\n",
       "</style>\n",
       "<table border=\"1\" class=\"dataframe\">\n",
       "  <thead>\n",
       "    <tr style=\"text-align: right;\">\n",
       "      <th></th>\n",
       "      <th>date</th>\n",
       "      <th>time</th>\n",
       "    </tr>\n",
       "  </thead>\n",
       "  <tbody>\n",
       "    <tr>\n",
       "      <td>0</td>\n",
       "      <td>2019-07-25</td>\n",
       "      <td>9</td>\n",
       "    </tr>\n",
       "    <tr>\n",
       "      <td>1</td>\n",
       "      <td>2019-07-26</td>\n",
       "      <td>31</td>\n",
       "    </tr>\n",
       "    <tr>\n",
       "      <td>2</td>\n",
       "      <td>2019-07-27</td>\n",
       "      <td>55</td>\n",
       "    </tr>\n",
       "    <tr>\n",
       "      <td>3</td>\n",
       "      <td>2019-07-28</td>\n",
       "      <td>105</td>\n",
       "    </tr>\n",
       "    <tr>\n",
       "      <td>4</td>\n",
       "      <td>2019-07-29</td>\n",
       "      <td>184</td>\n",
       "    </tr>\n",
       "  </tbody>\n",
       "</table>\n",
       "</div>"
      ],
      "text/plain": [
       "        date  time\n",
       "0 2019-07-25     9\n",
       "1 2019-07-26    31\n",
       "2 2019-07-27    55\n",
       "3 2019-07-28   105\n",
       "4 2019-07-29   184"
      ]
     },
     "execution_count": 25,
     "metadata": {},
     "output_type": "execute_result"
    }
   ],
   "source": [
    "date.head()"
   ]
  },
  {
   "cell_type": "code",
   "execution_count": 26,
   "metadata": {},
   "outputs": [
    {
     "data": {
      "image/png": "[encoded data removed]",
      "text/plain": [
       "<Figure size 432x288 with 1 Axes>"
      ]
     },
     "metadata": {
      "needs_background": "light"
     },
     "output_type": "display_data"
    }
   ],
   "source": [
    "date.plot(x='date', y='time', kind='bar')\n",
    "plt.show()"
   ]
  },
  {
   "cell_type": "code",
   "execution_count": 27,
   "metadata": {},
   "outputs": [
    {
     "data": {
      "image/png": "[encoded data removed]",
      "text/plain": [
       "<Figure size 432x288 with 1 Axes>"
      ]
     },
     "metadata": {
      "needs_background": "light"
     },
     "output_type": "display_data"
    }
   ],
   "source": [
    "date_246 = data[data['ExpId'] == 246].groupby('date').agg({'time': 'count'}).reset_index()\n",
    "date_246 = date_246.sort_values(by = 'date')\n",
    "date_246.plot(x='date', y='time', kind='bar')\n",
    "plt.show()"
   ]
  },
  {
   "cell_type": "code",
   "execution_count": 28,
   "metadata": {},
   "outputs": [
    {
     "data": {
      "image/png": "[encoded data removed]",
      "text/plain": [
       "<Figure size 432x288 with 1 Axes>"
      ]
     },
     "metadata": {
      "needs_background": "light"
     },
     "output_type": "display_data"
    }
   ],
   "source": [
    "date_247 = data[data['ExpId'] == 247].groupby('date').agg({'time': 'count'}).reset_index()\n",
    "date_247 = date_247.sort_values(by = 'date')\n",
    "date_247.plot(x='date', y='time', kind='bar')\n",
    "plt.show()"
   ]
  },
  {
   "cell_type": "code",
   "execution_count": 29,
   "metadata": {},
   "outputs": [
    {
     "data": {
      "image/png": "[encoded data removed]",
      "text/plain": [
       "<Figure size 432x288 with 1 Axes>"
      ]
     },
     "metadata": {
      "needs_background": "light"
     },
     "output_type": "display_data"
    }
   ],
   "source": [
    "date_248 = data[data['ExpId'] == 248].groupby('date').agg({'time': 'count'}).reset_index()\n",
    "date_248 = date_248.sort_values(by = 'date')\n",
    "date_248.plot(x='date', y='time', kind='bar')\n",
    "plt.show()"
   ]
  },
  {
   "cell_type": "code",
   "execution_count": 30,
   "metadata": {},
   "outputs": [],
   "source": [
    "data_adjusted = data[data['date'] > '2019-07-31']"
   ]
  },
  {
   "cell_type": "code",
   "execution_count": 31,
   "metadata": {},
   "outputs": [
    {
     "name": "stderr",
     "output_type": "stream",
     "text": [
      "/opt/conda/lib/python3.7/site-packages/ipykernel_launcher.py:1: SettingWithCopyWarning: \n",
      "A value is trying to be set on a copy of a slice from a DataFrame.\n",
      "Try using .loc[row_indexer,col_indexer] = value instead\n",
      "\n",
      "See the caveats in the documentation: http://pandas.pydata.org/pandas-docs/stable/user_guide/indexing.html#returning-a-view-versus-a-copy\n",
      "  \"\"\"Entry point for launching an IPython kernel.\n"
     ]
    }
   ],
   "source": [
    "data_adjusted['first_visit_adjusted'] = 1 - data_adjusted[['DeviceIDHash']].duplicated()"
   ]
  },
  {
   "cell_type": "code",
   "execution_count": 32,
   "metadata": {},
   "outputs": [
    {
     "name": "stdout",
     "output_type": "stream",
     "text": [
      "Количество событий уменьшилось 1.16%\n",
      "Количество событий до сокращения дат 243713\n",
      "Количество событий после сокращения дат 240887\n"
     ]
    }
   ],
   "source": [
    "print('Количество событий уменьшилось', '{0:.2%}'.format(1-len(data_adjusted)/len(data)))\n",
    "print('Количество событий до сокращения дат', len(data))\n",
    "print('Количество событий после сокращения дат', len(data_adjusted))\n"
   ]
  },
  {
   "cell_type": "code",
   "execution_count": 33,
   "metadata": {},
   "outputs": [
    {
     "name": "stdout",
     "output_type": "stream",
     "text": [
      "Количество пользователей уменьшилось 0.23%\n",
      "Количество пользователей до сокращения дат 7551\n",
      "Количество пользователей после сокращения дат 7534\n"
     ]
    }
   ],
   "source": [
    "print('Количество пользователей уменьшилось', '{0:.2%}'.format(1-data_adjusted['first_visit_adjusted'].sum()/data['first_visit'].sum()))\n",
    "print('Количество пользователей до сокращения дат', data['first_visit'].sum())\n",
    "print('Количество пользователей после сокращения дат', data_adjusted['first_visit_adjusted'].sum())"
   ]
  },
  {
   "cell_type": "code",
   "execution_count": 34,
   "metadata": {},
   "outputs": [
    {
     "data": {
      "text/html": [
       "<div>\n",
       "<style scoped>\n",
       "    .dataframe tbody tr th:only-of-type {\n",
       "        vertical-align: middle;\n",
       "    }\n",
       "\n",
       "    .dataframe tbody tr th {\n",
       "        vertical-align: top;\n",
       "    }\n",
       "\n",
       "    .dataframe thead th {\n",
       "        text-align: right;\n",
       "    }\n",
       "</style>\n",
       "<table border=\"1\" class=\"dataframe\">\n",
       "  <thead>\n",
       "    <tr style=\"text-align: right;\">\n",
       "      <th></th>\n",
       "      <th>first_visit_adjusted</th>\n",
       "    </tr>\n",
       "    <tr>\n",
       "      <th>ExpId</th>\n",
       "      <th></th>\n",
       "    </tr>\n",
       "  </thead>\n",
       "  <tbody>\n",
       "    <tr>\n",
       "      <td>246</td>\n",
       "      <td>2484</td>\n",
       "    </tr>\n",
       "    <tr>\n",
       "      <td>247</td>\n",
       "      <td>2513</td>\n",
       "    </tr>\n",
       "    <tr>\n",
       "      <td>248</td>\n",
       "      <td>2537</td>\n",
       "    </tr>\n",
       "  </tbody>\n",
       "</table>\n",
       "</div>"
      ],
      "text/plain": [
       "       first_visit_adjusted\n",
       "ExpId                      \n",
       "246                    2484\n",
       "247                    2513\n",
       "248                    2537"
      ]
     },
     "execution_count": 34,
     "metadata": {},
     "output_type": "execute_result"
    }
   ],
   "source": [
    "data_adjusted.groupby('ExpId').agg({'first_visit_adjusted': 'sum'})"
   ]
  },
  {
   "cell_type": "markdown",
   "metadata": {},
   "source": [
    "# Вывод\n",
    "   1. В работе существуют следующие логи: Main Screen Appear (появление основного экрана) - 119101, Offers Screen Appear  (пявление экрана предложения) - 46808, Cart Screen Appear (появление экрана корзины) - 42668, Payment Screen Successful (экран оплаты) - 34118, Tutorial (руководство) - 1018. __Можно выделить два поведения пользователей: для клиентов которые зашли 1 раз и для клиентов, которые совершают повторную покупку. Рассмотрим их действия:\n",
    "      - Для клиентов совершающих свои дейтсвия первый раз: Main Screen Appear → Tutorial → Offers Screen Appear → Cart Screen Appear → Payment Screen Successful.\n",
    "      - Для клиентов которые совершают повторные покупки Main Screen Appear → Offers Screen Appear → Cart Screen Appear → Payment Screen Successful. Tutorial - может возникать на разных этапах, необходим для повторения правильных действий (Это требует дополнительной проверки).\n",
    "   2. Тест у нас проводился короткое время с 2019-07-25 по 2019-08-07 (14 дней). Как видно полноценно данные заработали только 2019-08-01. Поэтому отсекаем данные ранее 2019-08-01. При этом количество соыбтий уменьшилось на 1,16%, количество пользователей уменьшилось на 0,23%. \n",
    "   3. В данных у нас 7534 уникальных пользователей. Группа 246 - 2484 уникальных пользователе. Группа 247 - 2513 уникальных пользователей. Группа 248 - 2537 уникальных пользлователя. Группа А - 4997, Группа В - 2537.\n"
   ]
  },
  {
   "cell_type": "markdown",
   "metadata": {},
   "source": [
    "# Шаг 3. Анализ воронки продаж"
   ]
  },
  {
   "cell_type": "code",
   "execution_count": 35,
   "metadata": {},
   "outputs": [
    {
     "name": "stderr",
     "output_type": "stream",
     "text": [
      "/opt/conda/lib/python3.7/site-packages/ipykernel_launcher.py:1: SettingWithCopyWarning: \n",
      "A value is trying to be set on a copy of a slice from a DataFrame.\n",
      "Try using .loc[row_indexer,col_indexer] = value instead\n",
      "\n",
      "See the caveats in the documentation: http://pandas.pydata.org/pandas-docs/stable/user_guide/indexing.html#returning-a-view-versus-a-copy\n",
      "  \"\"\"Entry point for launching an IPython kernel.\n"
     ]
    }
   ],
   "source": [
    "data_adjusted['week'] = data_adjusted['date'].dt.week"
   ]
  },
  {
   "cell_type": "code",
   "execution_count": 36,
   "metadata": {},
   "outputs": [],
   "source": [
    "dau_total = data_adjusted.groupby('date').agg({'first_visit_adjusted': 'sum'}).mean()\n"
   ]
  },
  {
   "cell_type": "code",
   "execution_count": 37,
   "metadata": {},
   "outputs": [],
   "source": [
    "total_users = data_adjusted.groupby('date').agg({'first_visit_adjusted': 'count'}).mean()\n"
   ]
  },
  {
   "cell_type": "code",
   "execution_count": 38,
   "metadata": {},
   "outputs": [
    {
     "name": "stdout",
     "output_type": "stream",
     "text": [
      "Количество уникальных пользователей в день 1076\n",
      "Удержание клиентов в день 3 %\n"
     ]
    }
   ],
   "source": [
    "print('Количество уникальных пользователей в день', int(dau_total))\n",
    "print('Удержание клиентов в день', int(dau_total * 100/ total_users), '%')"
   ]
  },
  {
   "cell_type": "code",
   "execution_count": 39,
   "metadata": {},
   "outputs": [
    {
     "name": "stdout",
     "output_type": "stream",
     "text": [
      "Количество уникальных пользователей в день для 246 группы 354\n",
      "Удержание клиентов для 246 группы 3 %\n"
     ]
    }
   ],
   "source": [
    "dau_total_246 = data_adjusted[data_adjusted['ExpId'] == 246].groupby('date').agg({'first_visit_adjusted': 'sum'}).mean()\n",
    "total_users_246 = data_adjusted[data_adjusted['ExpId'] == 246].groupby('date').agg({'first_visit_adjusted': 'count'}).mean()\n",
    "print('Количество уникальных пользователей в день для 246 группы', int(dau_total_246))\n",
    "print('Удержание клиентов для 246 группы', int(dau_total_246 * 100/ total_users_246), '%')"
   ]
  },
  {
   "cell_type": "code",
   "execution_count": 40,
   "metadata": {},
   "outputs": [
    {
     "name": "stdout",
     "output_type": "stream",
     "text": [
      "Количество уникальных пользователей в день для 246 группы 359\n",
      "Удержание клиентов для 246 группы 3 %\n"
     ]
    }
   ],
   "source": [
    "dau_total_247= data_adjusted[data_adjusted['ExpId'] == 247].groupby('date').agg({'first_visit_adjusted': 'sum'}).mean()\n",
    "total_users_247 = data_adjusted[data_adjusted['ExpId'] == 247].groupby('date').agg({'first_visit_adjusted': 'count'}).mean()\n",
    "print('Количество уникальных пользователей в день для 246 группы', int(dau_total_247))\n",
    "print('Удержание клиентов для 246 группы', int(dau_total_247 * 100/ total_users_247), '%')"
   ]
  },
  {
   "cell_type": "code",
   "execution_count": 41,
   "metadata": {},
   "outputs": [
    {
     "name": "stdout",
     "output_type": "stream",
     "text": [
      "Количество уникальных пользователей в день для 246 группы 362\n",
      "Удержание клиентов для 246 группы 3 %\n"
     ]
    }
   ],
   "source": [
    "dau_total_248= data_adjusted[data_adjusted['ExpId'] == 248].groupby('date').agg({'first_visit_adjusted': 'sum'}).mean()\n",
    "total_users_248 = data_adjusted[data_adjusted['ExpId'] == 248].groupby('date').agg({'first_visit_adjusted': 'count'}).mean()\n",
    "print('Количество уникальных пользователей в день для 246 группы', int(dau_total_248))\n",
    "print('Удержание клиентов для 246 группы', int(dau_total_248 * 100/ total_users_248), '%')"
   ]
  },
  {
   "cell_type": "markdown",
   "metadata": {},
   "source": [
    "# Посмотреть, какие события есть в логах, как часто они встречаются. Отсортируйте события по частоте."
   ]
  },
  {
   "cell_type": "code",
   "execution_count": 42,
   "metadata": {},
   "outputs": [],
   "source": [
    "sales_funnel = data_adjusted.groupby('EventName').agg({'time': 'count'}).reset_index()\n",
    "sales_funnel.sort_values(by='time', ascending = False, inplace=True)"
   ]
  },
  {
   "cell_type": "code",
   "execution_count": 43,
   "metadata": {},
   "outputs": [
    {
     "data": {
      "text/html": [
       "<div>\n",
       "<style scoped>\n",
       "    .dataframe tbody tr th:only-of-type {\n",
       "        vertical-align: middle;\n",
       "    }\n",
       "\n",
       "    .dataframe tbody tr th {\n",
       "        vertical-align: top;\n",
       "    }\n",
       "\n",
       "    .dataframe thead th {\n",
       "        text-align: right;\n",
       "    }\n",
       "</style>\n",
       "<table border=\"1\" class=\"dataframe\">\n",
       "  <thead>\n",
       "    <tr style=\"text-align: right;\">\n",
       "      <th></th>\n",
       "      <th>EventName</th>\n",
       "      <th>time</th>\n",
       "    </tr>\n",
       "  </thead>\n",
       "  <tbody>\n",
       "    <tr>\n",
       "      <td>1</td>\n",
       "      <td>MainScreenAppear</td>\n",
       "      <td>117328</td>\n",
       "    </tr>\n",
       "    <tr>\n",
       "      <td>2</td>\n",
       "      <td>OffersScreenAppear</td>\n",
       "      <td>46333</td>\n",
       "    </tr>\n",
       "    <tr>\n",
       "      <td>0</td>\n",
       "      <td>CartScreenAppear</td>\n",
       "      <td>42303</td>\n",
       "    </tr>\n",
       "    <tr>\n",
       "      <td>3</td>\n",
       "      <td>PaymentScreenSuccessful</td>\n",
       "      <td>33918</td>\n",
       "    </tr>\n",
       "    <tr>\n",
       "      <td>4</td>\n",
       "      <td>Tutorial</td>\n",
       "      <td>1005</td>\n",
       "    </tr>\n",
       "  </tbody>\n",
       "</table>\n",
       "</div>"
      ],
      "text/plain": [
       "                 EventName    time\n",
       "1         MainScreenAppear  117328\n",
       "2       OffersScreenAppear   46333\n",
       "0         CartScreenAppear   42303\n",
       "3  PaymentScreenSuccessful   33918\n",
       "4                 Tutorial    1005"
      ]
     },
     "execution_count": 43,
     "metadata": {},
     "output_type": "execute_result"
    }
   ],
   "source": [
    "sales_funnel.head()"
   ]
  },
  {
   "cell_type": "code",
   "execution_count": 44,
   "metadata": {},
   "outputs": [
    {
     "data": {
      "text/html": [
       "<div>\n",
       "<style scoped>\n",
       "    .dataframe tbody tr th:only-of-type {\n",
       "        vertical-align: middle;\n",
       "    }\n",
       "\n",
       "    .dataframe tbody tr th {\n",
       "        vertical-align: top;\n",
       "    }\n",
       "\n",
       "    .dataframe thead th {\n",
       "        text-align: right;\n",
       "    }\n",
       "</style>\n",
       "<table border=\"1\" class=\"dataframe\">\n",
       "  <thead>\n",
       "    <tr style=\"text-align: right;\">\n",
       "      <th></th>\n",
       "      <th>EventName</th>\n",
       "      <th>DeviceIDHash</th>\n",
       "    </tr>\n",
       "  </thead>\n",
       "  <tbody>\n",
       "    <tr>\n",
       "      <td>1</td>\n",
       "      <td>MainScreenAppear</td>\n",
       "      <td>7419</td>\n",
       "    </tr>\n",
       "    <tr>\n",
       "      <td>2</td>\n",
       "      <td>OffersScreenAppear</td>\n",
       "      <td>4593</td>\n",
       "    </tr>\n",
       "    <tr>\n",
       "      <td>0</td>\n",
       "      <td>CartScreenAppear</td>\n",
       "      <td>3734</td>\n",
       "    </tr>\n",
       "    <tr>\n",
       "      <td>3</td>\n",
       "      <td>PaymentScreenSuccessful</td>\n",
       "      <td>3539</td>\n",
       "    </tr>\n",
       "    <tr>\n",
       "      <td>4</td>\n",
       "      <td>Tutorial</td>\n",
       "      <td>840</td>\n",
       "    </tr>\n",
       "  </tbody>\n",
       "</table>\n",
       "</div>"
      ],
      "text/plain": [
       "                 EventName  DeviceIDHash\n",
       "1         MainScreenAppear          7419\n",
       "2       OffersScreenAppear          4593\n",
       "0         CartScreenAppear          3734\n",
       "3  PaymentScreenSuccessful          3539\n",
       "4                 Tutorial           840"
      ]
     },
     "execution_count": 44,
     "metadata": {},
     "output_type": "execute_result"
    }
   ],
   "source": [
    "deviceid_hash = data_adjusted.groupby('EventName').agg({'DeviceIDHash': 'nunique'}).reset_index()\n",
    "deviceid_hash.sort_values(by='DeviceIDHash', ascending = False)"
   ]
  },
  {
   "cell_type": "markdown",
   "metadata": {},
   "source": [
    "В целом лучше использовать воронку продаж, описывающую поведение пользователя как  __Main Screen Appear → Offers Screen Appear → Cart Screen Appear → Payment Screen Successful__"
   ]
  },
  {
   "cell_type": "code",
   "execution_count": 45,
   "metadata": {},
   "outputs": [],
   "source": [
    "def sales(data):\n",
    "    event_name = data['EventName']\n",
    "    count = data['DeviceIDHash']\n",
    "    if event_name == 'MainScreenAppear':\n",
    "        return 100\n",
    "    if event_name == 'OffersScreenAppear':\n",
    "        return int(count * 100 / deviceid_hash.loc[deviceid_hash['EventName'] == 'MainScreenAppear', 'DeviceIDHash'])\n",
    "    if event_name == 'CartScreenAppear':\n",
    "        return int(count * 100 / deviceid_hash.loc[deviceid_hash['EventName'] == 'OffersScreenAppear', 'DeviceIDHash'])\n",
    "    if event_name == 'PaymentScreenSuccessful':\n",
    "        return int(count * 100 / deviceid_hash.loc[deviceid_hash['EventName'] == 'CartScreenAppear', 'DeviceIDHash'])\n",
    "    if event_name == 'Tutorial':\n",
    "        return int(count * 100 / deviceid_hash.loc[deviceid_hash['EventName'] == 'PaymentScreenSuccessful', 'DeviceIDHash'])"
   ]
  },
  {
   "cell_type": "code",
   "execution_count": 46,
   "metadata": {},
   "outputs": [],
   "source": [
    "def sales_all(data):\n",
    "    event_name = data['EventName']\n",
    "    count = data['DeviceIDHash']\n",
    "    if event_name == 'MainScreenAppear':\n",
    "        return 100\n",
    "    if event_name == 'OffersScreenAppear':\n",
    "        return (count * 100 / deviceid_hash.loc[deviceid_hash['EventName'] == 'MainScreenAppear', 'DeviceIDHash'])\n",
    "    if event_name == 'CartScreenAppear':\n",
    "        return (count * 100 / deviceid_hash.loc[deviceid_hash['EventName'] == 'MainScreenAppear', 'DeviceIDHash'])\n",
    "    if event_name == 'PaymentScreenSuccessful':\n",
    "        return (count * 100 / deviceid_hash.loc[deviceid_hash['EventName'] == 'MainScreenAppear', 'DeviceIDHash'])\n",
    "    if event_name == 'Tutorial':\n",
    "        return (count * 100 / deviceid_hash.loc[deviceid_hash['EventName'] == 'MainScreenAppear', 'DeviceIDHash'])"
   ]
  },
  {
   "cell_type": "code",
   "execution_count": 47,
   "metadata": {},
   "outputs": [],
   "source": [
    "deviceid_hash['retention_rate'] = deviceid_hash.apply(sales, axis = 1)\n",
    "deviceid_hash['retention_rate_all'] = deviceid_hash.apply(sales_all, axis = 1)\n"
   ]
  },
  {
   "cell_type": "code",
   "execution_count": 48,
   "metadata": {},
   "outputs": [
    {
     "data": {
      "text/html": [
       "<div>\n",
       "<style scoped>\n",
       "    .dataframe tbody tr th:only-of-type {\n",
       "        vertical-align: middle;\n",
       "    }\n",
       "\n",
       "    .dataframe tbody tr th {\n",
       "        vertical-align: top;\n",
       "    }\n",
       "\n",
       "    .dataframe thead th {\n",
       "        text-align: right;\n",
       "    }\n",
       "</style>\n",
       "<table border=\"1\" class=\"dataframe\">\n",
       "  <thead>\n",
       "    <tr style=\"text-align: right;\">\n",
       "      <th></th>\n",
       "      <th>EventName</th>\n",
       "      <th>DeviceIDHash</th>\n",
       "      <th>retention_rate</th>\n",
       "      <th>retention_rate_all</th>\n",
       "    </tr>\n",
       "  </thead>\n",
       "  <tbody>\n",
       "    <tr>\n",
       "      <td>1</td>\n",
       "      <td>MainScreenAppear</td>\n",
       "      <td>7419</td>\n",
       "      <td>100</td>\n",
       "      <td>100.000000</td>\n",
       "    </tr>\n",
       "    <tr>\n",
       "      <td>2</td>\n",
       "      <td>OffersScreenAppear</td>\n",
       "      <td>4593</td>\n",
       "      <td>61</td>\n",
       "      <td>61.908613</td>\n",
       "    </tr>\n",
       "    <tr>\n",
       "      <td>0</td>\n",
       "      <td>CartScreenAppear</td>\n",
       "      <td>3734</td>\n",
       "      <td>81</td>\n",
       "      <td>50.330233</td>\n",
       "    </tr>\n",
       "    <tr>\n",
       "      <td>3</td>\n",
       "      <td>PaymentScreenSuccessful</td>\n",
       "      <td>3539</td>\n",
       "      <td>94</td>\n",
       "      <td>47.701847</td>\n",
       "    </tr>\n",
       "    <tr>\n",
       "      <td>4</td>\n",
       "      <td>Tutorial</td>\n",
       "      <td>840</td>\n",
       "      <td>23</td>\n",
       "      <td>11.322281</td>\n",
       "    </tr>\n",
       "  </tbody>\n",
       "</table>\n",
       "</div>"
      ],
      "text/plain": [
       "                 EventName  DeviceIDHash  retention_rate  retention_rate_all\n",
       "1         MainScreenAppear          7419             100          100.000000\n",
       "2       OffersScreenAppear          4593              61           61.908613\n",
       "0         CartScreenAppear          3734              81           50.330233\n",
       "3  PaymentScreenSuccessful          3539              94           47.701847\n",
       "4                 Tutorial           840              23           11.322281"
      ]
     },
     "execution_count": 48,
     "metadata": {},
     "output_type": "execute_result"
    }
   ],
   "source": [
    "deviceid_hash.sort_values(by='DeviceIDHash', ascending = False)"
   ]
  },
  {
   "cell_type": "markdown",
   "metadata": {},
   "source": [
    "# Вывод\n",
    "   1. Больше всего теряется на переходе от главного экрана к экрану предложения (39%).\n",
    "   2. До оплаты доходит 47% пользователей."
   ]
  },
  {
   "cell_type": "markdown",
   "metadata": {},
   "source": [
    "Оценим воронку продаж для тех пользователей, которые заходят в систему 1 раз"
   ]
  },
  {
   "cell_type": "code",
   "execution_count": 49,
   "metadata": {},
   "outputs": [
    {
     "data": {
      "text/html": [
       "<div>\n",
       "<style scoped>\n",
       "    .dataframe tbody tr th:only-of-type {\n",
       "        vertical-align: middle;\n",
       "    }\n",
       "\n",
       "    .dataframe tbody tr th {\n",
       "        vertical-align: top;\n",
       "    }\n",
       "\n",
       "    .dataframe thead th {\n",
       "        text-align: right;\n",
       "    }\n",
       "</style>\n",
       "<table border=\"1\" class=\"dataframe\">\n",
       "  <thead>\n",
       "    <tr style=\"text-align: right;\">\n",
       "      <th></th>\n",
       "      <th>EventName</th>\n",
       "      <th>DeviceIDHash</th>\n",
       "    </tr>\n",
       "  </thead>\n",
       "  <tbody>\n",
       "    <tr>\n",
       "      <td>1</td>\n",
       "      <td>MainScreenAppear</td>\n",
       "      <td>6305</td>\n",
       "    </tr>\n",
       "    <tr>\n",
       "      <td>4</td>\n",
       "      <td>Tutorial</td>\n",
       "      <td>783</td>\n",
       "    </tr>\n",
       "    <tr>\n",
       "      <td>2</td>\n",
       "      <td>OffersScreenAppear</td>\n",
       "      <td>288</td>\n",
       "    </tr>\n",
       "    <tr>\n",
       "      <td>3</td>\n",
       "      <td>PaymentScreenSuccessful</td>\n",
       "      <td>96</td>\n",
       "    </tr>\n",
       "    <tr>\n",
       "      <td>0</td>\n",
       "      <td>CartScreenAppear</td>\n",
       "      <td>62</td>\n",
       "    </tr>\n",
       "  </tbody>\n",
       "</table>\n",
       "</div>"
      ],
      "text/plain": [
       "                 EventName  DeviceIDHash\n",
       "1         MainScreenAppear          6305\n",
       "4                 Tutorial           783\n",
       "2       OffersScreenAppear           288\n",
       "3  PaymentScreenSuccessful            96\n",
       "0         CartScreenAppear            62"
      ]
     },
     "execution_count": 49,
     "metadata": {},
     "output_type": "execute_result"
    }
   ],
   "source": [
    "deviceid_hash_first = data_adjusted[data_adjusted['first_visit_adjusted'] == 1].groupby('EventName').agg({'DeviceIDHash': 'nunique'}).reset_index()\n",
    "deviceid_hash_first.sort_values(by='DeviceIDHash', ascending = False)"
   ]
  },
  {
   "cell_type": "code",
   "execution_count": 50,
   "metadata": {},
   "outputs": [
    {
     "data": {
      "text/html": [
       "<div>\n",
       "<style scoped>\n",
       "    .dataframe tbody tr th:only-of-type {\n",
       "        vertical-align: middle;\n",
       "    }\n",
       "\n",
       "    .dataframe tbody tr th {\n",
       "        vertical-align: top;\n",
       "    }\n",
       "\n",
       "    .dataframe thead th {\n",
       "        text-align: right;\n",
       "    }\n",
       "</style>\n",
       "<table border=\"1\" class=\"dataframe\">\n",
       "  <thead>\n",
       "    <tr style=\"text-align: right;\">\n",
       "      <th></th>\n",
       "      <th>EventName</th>\n",
       "      <th>DeviceIDHash</th>\n",
       "      <th>retention_rate_all</th>\n",
       "    </tr>\n",
       "  </thead>\n",
       "  <tbody>\n",
       "    <tr>\n",
       "      <td>1</td>\n",
       "      <td>MainScreenAppear</td>\n",
       "      <td>6305</td>\n",
       "      <td>100.000000</td>\n",
       "    </tr>\n",
       "    <tr>\n",
       "      <td>4</td>\n",
       "      <td>Tutorial</td>\n",
       "      <td>783</td>\n",
       "      <td>10.553983</td>\n",
       "    </tr>\n",
       "    <tr>\n",
       "      <td>2</td>\n",
       "      <td>OffersScreenAppear</td>\n",
       "      <td>288</td>\n",
       "      <td>3.881925</td>\n",
       "    </tr>\n",
       "    <tr>\n",
       "      <td>3</td>\n",
       "      <td>PaymentScreenSuccessful</td>\n",
       "      <td>96</td>\n",
       "      <td>1.293975</td>\n",
       "    </tr>\n",
       "    <tr>\n",
       "      <td>0</td>\n",
       "      <td>CartScreenAppear</td>\n",
       "      <td>62</td>\n",
       "      <td>0.835692</td>\n",
       "    </tr>\n",
       "  </tbody>\n",
       "</table>\n",
       "</div>"
      ],
      "text/plain": [
       "                 EventName  DeviceIDHash  retention_rate_all\n",
       "1         MainScreenAppear          6305          100.000000\n",
       "4                 Tutorial           783           10.553983\n",
       "2       OffersScreenAppear           288            3.881925\n",
       "3  PaymentScreenSuccessful            96            1.293975\n",
       "0         CartScreenAppear            62            0.835692"
      ]
     },
     "execution_count": 50,
     "metadata": {},
     "output_type": "execute_result"
    }
   ],
   "source": [
    "deviceid_hash_first['retention_rate_all'] = deviceid_hash_first.apply(sales_all, axis = 1)\n",
    "deviceid_hash_first.sort_values(by='DeviceIDHash', ascending = False)"
   ]
  },
  {
   "cell_type": "markdown",
   "metadata": {},
   "source": [
    "# Вывод\n",
    "\n",
    "Видно, что меньше 1% пользователей совершают первую покупку. При этом пользовательский сценарий для такой группы пользователей исмеет следующий вид: Main Screen Appear → Tutorial → Offers Screen Appear → Cart Screen Appear → Payment Screen Successful"
   ]
  },
  {
   "cell_type": "code",
   "execution_count": 51,
   "metadata": {},
   "outputs": [
    {
     "data": {
      "text/html": [
       "<div>\n",
       "<style scoped>\n",
       "    .dataframe tbody tr th:only-of-type {\n",
       "        vertical-align: middle;\n",
       "    }\n",
       "\n",
       "    .dataframe tbody tr th {\n",
       "        vertical-align: top;\n",
       "    }\n",
       "\n",
       "    .dataframe thead th {\n",
       "        text-align: right;\n",
       "    }\n",
       "</style>\n",
       "<table border=\"1\" class=\"dataframe\">\n",
       "  <thead>\n",
       "    <tr style=\"text-align: right;\">\n",
       "      <th></th>\n",
       "      <th>EventName</th>\n",
       "      <th>DeviceIDHash</th>\n",
       "    </tr>\n",
       "  </thead>\n",
       "  <tbody>\n",
       "    <tr>\n",
       "      <td>1</td>\n",
       "      <td>MainScreenAppear</td>\n",
       "      <td>7236</td>\n",
       "    </tr>\n",
       "    <tr>\n",
       "      <td>2</td>\n",
       "      <td>OffersScreenAppear</td>\n",
       "      <td>4571</td>\n",
       "    </tr>\n",
       "    <tr>\n",
       "      <td>0</td>\n",
       "      <td>CartScreenAppear</td>\n",
       "      <td>3731</td>\n",
       "    </tr>\n",
       "    <tr>\n",
       "      <td>3</td>\n",
       "      <td>PaymentScreenSuccessful</td>\n",
       "      <td>3526</td>\n",
       "    </tr>\n",
       "    <tr>\n",
       "      <td>4</td>\n",
       "      <td>Tutorial</td>\n",
       "      <td>133</td>\n",
       "    </tr>\n",
       "  </tbody>\n",
       "</table>\n",
       "</div>"
      ],
      "text/plain": [
       "                 EventName  DeviceIDHash\n",
       "1         MainScreenAppear          7236\n",
       "2       OffersScreenAppear          4571\n",
       "0         CartScreenAppear          3731\n",
       "3  PaymentScreenSuccessful          3526\n",
       "4                 Tutorial           133"
      ]
     },
     "execution_count": 51,
     "metadata": {},
     "output_type": "execute_result"
    }
   ],
   "source": [
    "deviceid_hash_second = data_adjusted[data_adjusted['first_visit_adjusted'] == 0].groupby('EventName').agg({'DeviceIDHash': 'nunique'}).reset_index()\n",
    "deviceid_hash_second.sort_values(by='DeviceIDHash', ascending = False)"
   ]
  },
  {
   "cell_type": "code",
   "execution_count": 52,
   "metadata": {},
   "outputs": [
    {
     "data": {
      "text/html": [
       "<div>\n",
       "<style scoped>\n",
       "    .dataframe tbody tr th:only-of-type {\n",
       "        vertical-align: middle;\n",
       "    }\n",
       "\n",
       "    .dataframe tbody tr th {\n",
       "        vertical-align: top;\n",
       "    }\n",
       "\n",
       "    .dataframe thead th {\n",
       "        text-align: right;\n",
       "    }\n",
       "</style>\n",
       "<table border=\"1\" class=\"dataframe\">\n",
       "  <thead>\n",
       "    <tr style=\"text-align: right;\">\n",
       "      <th></th>\n",
       "      <th>EventName</th>\n",
       "      <th>DeviceIDHash</th>\n",
       "      <th>retention_rate_all</th>\n",
       "    </tr>\n",
       "  </thead>\n",
       "  <tbody>\n",
       "    <tr>\n",
       "      <td>1</td>\n",
       "      <td>MainScreenAppear</td>\n",
       "      <td>7236</td>\n",
       "      <td>100.000000</td>\n",
       "    </tr>\n",
       "    <tr>\n",
       "      <td>2</td>\n",
       "      <td>OffersScreenAppear</td>\n",
       "      <td>4571</td>\n",
       "      <td>61.612077</td>\n",
       "    </tr>\n",
       "    <tr>\n",
       "      <td>0</td>\n",
       "      <td>CartScreenAppear</td>\n",
       "      <td>3731</td>\n",
       "      <td>50.289796</td>\n",
       "    </tr>\n",
       "    <tr>\n",
       "      <td>3</td>\n",
       "      <td>PaymentScreenSuccessful</td>\n",
       "      <td>3526</td>\n",
       "      <td>47.526621</td>\n",
       "    </tr>\n",
       "    <tr>\n",
       "      <td>4</td>\n",
       "      <td>Tutorial</td>\n",
       "      <td>133</td>\n",
       "      <td>1.792694</td>\n",
       "    </tr>\n",
       "  </tbody>\n",
       "</table>\n",
       "</div>"
      ],
      "text/plain": [
       "                 EventName  DeviceIDHash  retention_rate_all\n",
       "1         MainScreenAppear          7236          100.000000\n",
       "2       OffersScreenAppear          4571           61.612077\n",
       "0         CartScreenAppear          3731           50.289796\n",
       "3  PaymentScreenSuccessful          3526           47.526621\n",
       "4                 Tutorial           133            1.792694"
      ]
     },
     "execution_count": 52,
     "metadata": {},
     "output_type": "execute_result"
    }
   ],
   "source": [
    "deviceid_hash_second['retention_rate_all'] = deviceid_hash_second.apply(sales_all, axis = 1)\n",
    "deviceid_hash_second.sort_values(by='DeviceIDHash', ascending = False)"
   ]
  },
  {
   "cell_type": "markdown",
   "metadata": {},
   "source": [
    "# Вывод\n",
    "\n",
    "Видно, что  47% пользователей совершают покупку при повторной покупке. При этом пользовательский сценарий для такой группы пользователей исмеет следующий вид: Main Screen Appear → Offers Screen Appear → Cart Screen Appear → Payment Screen Successful. Tutorial - носит вспомагательный характер, им пользуется около 1% вторичных пользователей. "
   ]
  },
  {
   "cell_type": "markdown",
   "metadata": {},
   "source": [
    "# Шаг 4. Изучить результаты эксперимента"
   ]
  },
  {
   "cell_type": "markdown",
   "metadata": {},
   "source": [
    "Сколько пользователей в каждой экспериментальной группе"
   ]
  },
  {
   "cell_type": "code",
   "execution_count": 53,
   "metadata": {},
   "outputs": [
    {
     "data": {
      "text/html": [
       "<div>\n",
       "<style scoped>\n",
       "    .dataframe tbody tr th:only-of-type {\n",
       "        vertical-align: middle;\n",
       "    }\n",
       "\n",
       "    .dataframe tbody tr th {\n",
       "        vertical-align: top;\n",
       "    }\n",
       "\n",
       "    .dataframe thead th {\n",
       "        text-align: right;\n",
       "    }\n",
       "</style>\n",
       "<table border=\"1\" class=\"dataframe\">\n",
       "  <thead>\n",
       "    <tr style=\"text-align: right;\">\n",
       "      <th></th>\n",
       "      <th>ExpId</th>\n",
       "      <th>DeviceIDHash</th>\n",
       "    </tr>\n",
       "  </thead>\n",
       "  <tbody>\n",
       "    <tr>\n",
       "      <td>0</td>\n",
       "      <td>246</td>\n",
       "      <td>2484</td>\n",
       "    </tr>\n",
       "    <tr>\n",
       "      <td>1</td>\n",
       "      <td>247</td>\n",
       "      <td>2513</td>\n",
       "    </tr>\n",
       "    <tr>\n",
       "      <td>2</td>\n",
       "      <td>248</td>\n",
       "      <td>2537</td>\n",
       "    </tr>\n",
       "  </tbody>\n",
       "</table>\n",
       "</div>"
      ],
      "text/plain": [
       "   ExpId  DeviceIDHash\n",
       "0    246          2484\n",
       "1    247          2513\n",
       "2    248          2537"
      ]
     },
     "execution_count": 53,
     "metadata": {},
     "output_type": "execute_result"
    }
   ],
   "source": [
    "expid = data_adjusted.groupby('ExpId').agg({'DeviceIDHash': 'nunique'}).reset_index()\n",
    "expid"
   ]
  },
  {
   "cell_type": "markdown",
   "metadata": {},
   "source": [
    "В группе 246 - 2484 уникальных пользователя\n",
    "В группе 247 - 2513 уникальных пользователя\n",
    "В группе 248 - 2537 уникальных пользователя"
   ]
  },
  {
   "cell_type": "markdown",
   "metadata": {},
   "source": [
    "# А/А-тест. Проверить, находят ли статистические критерии разницу между выборками 246 и 247."
   ]
  },
  {
   "cell_type": "markdown",
   "metadata": {},
   "source": [
    "#  <font color='red'> Комментарий наставника </font>\n",
    "Я как и раньше призываю не перебивать константы руками :) "
   ]
  },
  {
   "cell_type": "code",
   "execution_count": 54,
   "metadata": {},
   "outputs": [],
   "source": [
    "expid['to_246'] = abs(1 - expid['DeviceIDHash'] / expid.loc[expid[expid['ExpId'] == 246].index.tolist()[0], 'DeviceIDHash'])"
   ]
  },
  {
   "cell_type": "code",
   "execution_count": 55,
   "metadata": {},
   "outputs": [],
   "source": [
    "expid['to_247'] = abs( 1 - expid['DeviceIDHash'] / expid.loc[expid[expid['ExpId'] == 247].index.tolist()[0], 'DeviceIDHash'])"
   ]
  },
  {
   "cell_type": "code",
   "execution_count": 56,
   "metadata": {},
   "outputs": [
    {
     "data": {
      "text/html": [
       "<div>\n",
       "<style scoped>\n",
       "    .dataframe tbody tr th:only-of-type {\n",
       "        vertical-align: middle;\n",
       "    }\n",
       "\n",
       "    .dataframe tbody tr th {\n",
       "        vertical-align: top;\n",
       "    }\n",
       "\n",
       "    .dataframe thead th {\n",
       "        text-align: right;\n",
       "    }\n",
       "</style>\n",
       "<table border=\"1\" class=\"dataframe\">\n",
       "  <thead>\n",
       "    <tr style=\"text-align: right;\">\n",
       "      <th></th>\n",
       "      <th>ExpId</th>\n",
       "      <th>DeviceIDHash</th>\n",
       "      <th>to_246</th>\n",
       "      <th>to_247</th>\n",
       "    </tr>\n",
       "  </thead>\n",
       "  <tbody>\n",
       "    <tr>\n",
       "      <td>0</td>\n",
       "      <td>246</td>\n",
       "      <td>2484</td>\n",
       "      <td>0.000000</td>\n",
       "      <td>0.01154</td>\n",
       "    </tr>\n",
       "    <tr>\n",
       "      <td>1</td>\n",
       "      <td>247</td>\n",
       "      <td>2513</td>\n",
       "      <td>0.011675</td>\n",
       "      <td>0.00000</td>\n",
       "    </tr>\n",
       "    <tr>\n",
       "      <td>2</td>\n",
       "      <td>248</td>\n",
       "      <td>2537</td>\n",
       "      <td>0.021337</td>\n",
       "      <td>0.00955</td>\n",
       "    </tr>\n",
       "  </tbody>\n",
       "</table>\n",
       "</div>"
      ],
      "text/plain": [
       "   ExpId  DeviceIDHash    to_246   to_247\n",
       "0    246          2484  0.000000  0.01154\n",
       "1    247          2513  0.011675  0.00000\n",
       "2    248          2537  0.021337  0.00955"
      ]
     },
     "execution_count": 56,
     "metadata": {},
     "output_type": "execute_result"
    }
   ],
   "source": [
    "expid"
   ]
  },
  {
   "cell_type": "code",
   "execution_count": 57,
   "metadata": {},
   "outputs": [
    {
     "data": {
      "text/plain": [
       "('Соотношение по группам 246 и 247', 0.011539992041384783)"
      ]
     },
     "execution_count": 57,
     "metadata": {},
     "output_type": "execute_result"
    }
   ],
   "source": [
    "'Соотношение по группам 246 и 247', 1-2484/2513"
   ]
  },
  {
   "cell_type": "code",
   "execution_count": 58,
   "metadata": {},
   "outputs": [
    {
     "data": {
      "text/plain": [
       "('Соотношение по группам 246 и 248', 0.020890815924320072)"
      ]
     },
     "execution_count": 58,
     "metadata": {},
     "output_type": "execute_result"
    }
   ],
   "source": [
    "'Соотношение по группам 246 и 248', 1-2484/2537"
   ]
  },
  {
   "cell_type": "code",
   "execution_count": 59,
   "metadata": {},
   "outputs": [
    {
     "data": {
      "text/plain": [
       "('Соотношение по группам 247 и 248', 0.009459992116673255)"
      ]
     },
     "execution_count": 59,
     "metadata": {},
     "output_type": "execute_result"
    }
   ],
   "source": [
    "'Соотношение по группам 247 и 248', 1-2513/2537"
   ]
  },
  {
   "cell_type": "code",
   "execution_count": 60,
   "metadata": {},
   "outputs": [],
   "source": [
    "users_246 = data_adjusted[data_adjusted['ExpId'] == 246].groupby('DeviceIDHash').agg({'time': 'count'}).reset_index()\n",
    "users_247 = data_adjusted[data_adjusted['ExpId'] == 247].groupby('DeviceIDHash').agg({'time': 'count'}).reset_index()\n"
   ]
  },
  {
   "cell_type": "code",
   "execution_count": 61,
   "metadata": {},
   "outputs": [],
   "source": [
    "users_246['replay'] = users_246['DeviceIDHash'].where(users_246['DeviceIDHash'].isin(users_247['DeviceIDHash']), 'норм')"
   ]
  },
  {
   "cell_type": "code",
   "execution_count": 62,
   "metadata": {},
   "outputs": [
    {
     "data": {
      "text/html": [
       "<div>\n",
       "<style scoped>\n",
       "    .dataframe tbody tr th:only-of-type {\n",
       "        vertical-align: middle;\n",
       "    }\n",
       "\n",
       "    .dataframe tbody tr th {\n",
       "        vertical-align: top;\n",
       "    }\n",
       "\n",
       "    .dataframe thead th {\n",
       "        text-align: right;\n",
       "    }\n",
       "</style>\n",
       "<table border=\"1\" class=\"dataframe\">\n",
       "  <thead>\n",
       "    <tr style=\"text-align: right;\">\n",
       "      <th></th>\n",
       "      <th>DeviceIDHash</th>\n",
       "      <th>time</th>\n",
       "      <th>replay</th>\n",
       "    </tr>\n",
       "  </thead>\n",
       "  <tbody>\n",
       "  </tbody>\n",
       "</table>\n",
       "</div>"
      ],
      "text/plain": [
       "Empty DataFrame\n",
       "Columns: [DeviceIDHash, time, replay]\n",
       "Index: []"
      ]
     },
     "execution_count": 62,
     "metadata": {},
     "output_type": "execute_result"
    }
   ],
   "source": [
    "users_246[users_246['replay'] != 'норм']"
   ]
  },
  {
   "cell_type": "code",
   "execution_count": 63,
   "metadata": {},
   "outputs": [],
   "source": [
    "log_246 = data_adjusted[data_adjusted['ExpId'] == 246].groupby('EventName').agg({'DeviceIDHash': 'nunique'}).reset_index()\n",
    "log_247 = data_adjusted[data_adjusted['ExpId'] == 247].groupby('EventName').agg({'DeviceIDHash': 'nunique'}).reset_index()"
   ]
  },
  {
   "cell_type": "code",
   "execution_count": 64,
   "metadata": {},
   "outputs": [],
   "source": [
    "log_246_247 = log_246.merge(log_247, left_on='EventName', right_on='EventName', how='left', suffixes=['246', '247'])\n",
    "log_246_247['deviation'] = abs(100 - log_246_247['DeviceIDHash246']*100 / log_246_247['DeviceIDHash247'])"
   ]
  },
  {
   "cell_type": "code",
   "execution_count": 65,
   "metadata": {},
   "outputs": [
    {
     "data": {
      "text/html": [
       "<div>\n",
       "<style scoped>\n",
       "    .dataframe tbody tr th:only-of-type {\n",
       "        vertical-align: middle;\n",
       "    }\n",
       "\n",
       "    .dataframe tbody tr th {\n",
       "        vertical-align: top;\n",
       "    }\n",
       "\n",
       "    .dataframe thead th {\n",
       "        text-align: right;\n",
       "    }\n",
       "</style>\n",
       "<table border=\"1\" class=\"dataframe\">\n",
       "  <thead>\n",
       "    <tr style=\"text-align: right;\">\n",
       "      <th></th>\n",
       "      <th>EventName</th>\n",
       "      <th>DeviceIDHash246</th>\n",
       "      <th>DeviceIDHash247</th>\n",
       "      <th>deviation</th>\n",
       "    </tr>\n",
       "  </thead>\n",
       "  <tbody>\n",
       "    <tr>\n",
       "      <td>0</td>\n",
       "      <td>CartScreenAppear</td>\n",
       "      <td>1266</td>\n",
       "      <td>1238</td>\n",
       "      <td>2.261712</td>\n",
       "    </tr>\n",
       "    <tr>\n",
       "      <td>1</td>\n",
       "      <td>MainScreenAppear</td>\n",
       "      <td>2450</td>\n",
       "      <td>2476</td>\n",
       "      <td>1.050081</td>\n",
       "    </tr>\n",
       "    <tr>\n",
       "      <td>2</td>\n",
       "      <td>OffersScreenAppear</td>\n",
       "      <td>1542</td>\n",
       "      <td>1520</td>\n",
       "      <td>1.447368</td>\n",
       "    </tr>\n",
       "    <tr>\n",
       "      <td>3</td>\n",
       "      <td>PaymentScreenSuccessful</td>\n",
       "      <td>1200</td>\n",
       "      <td>1158</td>\n",
       "      <td>3.626943</td>\n",
       "    </tr>\n",
       "    <tr>\n",
       "      <td>4</td>\n",
       "      <td>Tutorial</td>\n",
       "      <td>278</td>\n",
       "      <td>283</td>\n",
       "      <td>1.766784</td>\n",
       "    </tr>\n",
       "  </tbody>\n",
       "</table>\n",
       "</div>"
      ],
      "text/plain": [
       "                 EventName  DeviceIDHash246  DeviceIDHash247  deviation\n",
       "0         CartScreenAppear             1266             1238   2.261712\n",
       "1         MainScreenAppear             2450             2476   1.050081\n",
       "2       OffersScreenAppear             1542             1520   1.447368\n",
       "3  PaymentScreenSuccessful             1200             1158   3.626943\n",
       "4                 Tutorial              278              283   1.766784"
      ]
     },
     "execution_count": 65,
     "metadata": {},
     "output_type": "execute_result"
    }
   ],
   "source": [
    "log_246_247.head()"
   ]
  },
  {
   "cell_type": "markdown",
   "metadata": {},
   "source": [
    "# Вывод\n",
    "   1. Количество пользователей в различных группах различается не более, чем на 1%/\n",
    "   2. Для всех групп фиксируют и отправляют в системы аналитики данные об одном и том же/\n",
    "   3. Попавший в одну из групп посетитель остаётся в этой группе до конца теста. \n",
    "   4. Различие ключевых метрик по группам __превышает 1%__. <font color='red'>Как в данном случае поступать не знаю, потому что нам говорили, что для А/А теста по ключевым метрикам не должно быть расхождение более 1 %</font> "
   ]
  },
  {
   "cell_type": "code",
   "execution_count": 66,
   "metadata": {},
   "outputs": [
    {
     "name": "stdout",
     "output_type": "stream",
     "text": [
      "При определении соотвествия среднего CartScreenAppear групп 246 и 247 различаются\n",
      "H0 - средний CartScreenAppear групп 246 и 247 одинаковый\n",
      "Н1 - средний CartScreenAppear групп 246 и 247 различаются\n",
      "Пороговое значение alpha 5%\n",
      "Отвергаем нулевую гипотезу\n",
      "\n",
      "При определении соотвествия среднего MainScreenAppear групп 246 и 247 различаются\n",
      "H0 - средний MainScreenAppear групп 246 и 247 одинаковый\n",
      "Н1 - средний MainScreenAppear групп 246 и 247 различаются\n",
      "Пороговое значение alpha 5%\n",
      "Не получилось отвергнуть нулевую гипотезу\n",
      "\n",
      "При определении соотвествия среднего OffersScreenAppear групп 246 и 247 различаются\n",
      "H0 - средний OffersScreenAppear групп 246 и 247 одинаковый\n",
      "Н1 - средний OffersScreenAppear групп 246 и 247 различаются\n",
      "Пороговое значение alpha 5%\n",
      "Не получилось отвергнуть нулевую гипотезу\n",
      "\n",
      "При определении соотвествия среднего PaymentScreenSuccessful групп 246 и 247 различаются\n",
      "H0 - средний PaymentScreenSuccessful групп 246 и 247 одинаковый\n",
      "Н1 - средний PaymentScreenSuccessful групп 246 и 247 различаются\n",
      "Пороговое значение alpha 5%\n",
      "Отвергаем нулевую гипотезу\n",
      "\n",
      "При определении соотвествия среднего Tutorial групп 246 и 247 различаются\n",
      "H0 - средний Tutorial групп 246 и 247 одинаковый\n",
      "Н1 - средний Tutorial групп 246 и 247 различаются\n",
      "Пороговое значение alpha 5%\n",
      "Не получилось отвергнуть нулевую гипотезу\n",
      "\n"
     ]
    }
   ],
   "source": [
    "for row in log_246_247['EventName']:\n",
    "    print('При определении соотвествия среднего',  row, 'групп 246 и 247 различаются')\n",
    "    print('H0 - средний', row, 'групп 246 и 247 одинаковый')\n",
    "    print('Н1 - средний', row, 'групп 246 и 247 различаются')\n",
    "    print ('Пороговое значение alpha 5%')\n",
    "    alpha = 0.05\n",
    "    data_246 = data_adjusted[(data_adjusted['EventName'] == row) & (data_adjusted['ExpId'] == 246)].groupby('date').agg({'DeviceIDHash': 'count'}).reset_index()\n",
    "    data_247 = data_adjusted[(data_adjusted['EventName'] == row) & (data_adjusted['ExpId'] == 247)].groupby('date').agg({'DeviceIDHash': 'count'}).reset_index()\n",
    "    a = stats.mannwhitneyu(data_246['DeviceIDHash'], data_247['DeviceIDHash'])[1]\n",
    "    if a < alpha:\n",
    "        print('Отвергаем нулевую гипотезу')\n",
    "    else:\n",
    "        print('Не получилось отвергнуть нулевую гипотезу')\n",
    "    print()"
   ]
  },
  {
   "cell_type": "markdown",
   "metadata": {},
   "source": [
    "# Вывод \n",
    "\n",
    "Как видно поведение пользователей групп 246 и 247 частично совпадает частично нет. <font color='red'>Есть ошибка как как ее исправить не знаю</font> "
   ]
  },
  {
   "cell_type": "markdown",
   "metadata": {},
   "source": [
    "# А/B-тест. Проверить, находят ли статистические критерии разницу между выборками 247 и 248."
   ]
  },
  {
   "cell_type": "code",
   "execution_count": 67,
   "metadata": {},
   "outputs": [],
   "source": [
    "log_248 = data_adjusted[data_adjusted['ExpId'] == 248].groupby('EventName').agg({'DeviceIDHash': 'nunique'}).reset_index()\n"
   ]
  },
  {
   "cell_type": "code",
   "execution_count": 68,
   "metadata": {},
   "outputs": [],
   "source": [
    "log_246_247_248 = log_246_247.merge(log_248, left_on='EventName', right_on='EventName', how='left', suffixes=['A', 'B'])\n",
    "log_246_247_248.columns = ['EventName', 'DeviceIDHash246', 'DeviceIDHash247', 'deviation 247/246', 'DeviceIDHash248']"
   ]
  },
  {
   "cell_type": "code",
   "execution_count": 69,
   "metadata": {},
   "outputs": [],
   "source": [
    "log_246_247_248['deviation 248/246'] = abs(1 - log_246_247_248['DeviceIDHash248'] / log_246_247_248['DeviceIDHash246'])\n",
    "log_246_247_248['deviation 248/247'] = abs(1 - log_246_247_248['DeviceIDHash248'] / log_246_247_248['DeviceIDHash247'])\n"
   ]
  },
  {
   "cell_type": "code",
   "execution_count": 70,
   "metadata": {},
   "outputs": [
    {
     "data": {
      "text/html": [
       "<div>\n",
       "<style scoped>\n",
       "    .dataframe tbody tr th:only-of-type {\n",
       "        vertical-align: middle;\n",
       "    }\n",
       "\n",
       "    .dataframe tbody tr th {\n",
       "        vertical-align: top;\n",
       "    }\n",
       "\n",
       "    .dataframe thead th {\n",
       "        text-align: right;\n",
       "    }\n",
       "</style>\n",
       "<table border=\"1\" class=\"dataframe\">\n",
       "  <thead>\n",
       "    <tr style=\"text-align: right;\">\n",
       "      <th></th>\n",
       "      <th>EventName</th>\n",
       "      <th>DeviceIDHash246</th>\n",
       "      <th>DeviceIDHash247</th>\n",
       "      <th>deviation 247/246</th>\n",
       "      <th>DeviceIDHash248</th>\n",
       "      <th>deviation 248/246</th>\n",
       "      <th>deviation 248/247</th>\n",
       "    </tr>\n",
       "  </thead>\n",
       "  <tbody>\n",
       "    <tr>\n",
       "      <td>0</td>\n",
       "      <td>CartScreenAppear</td>\n",
       "      <td>1266</td>\n",
       "      <td>1238</td>\n",
       "      <td>2.261712</td>\n",
       "      <td>1230</td>\n",
       "      <td>0.028436</td>\n",
       "      <td>0.006462</td>\n",
       "    </tr>\n",
       "    <tr>\n",
       "      <td>1</td>\n",
       "      <td>MainScreenAppear</td>\n",
       "      <td>2450</td>\n",
       "      <td>2476</td>\n",
       "      <td>1.050081</td>\n",
       "      <td>2493</td>\n",
       "      <td>0.017551</td>\n",
       "      <td>0.006866</td>\n",
       "    </tr>\n",
       "    <tr>\n",
       "      <td>2</td>\n",
       "      <td>OffersScreenAppear</td>\n",
       "      <td>1542</td>\n",
       "      <td>1520</td>\n",
       "      <td>1.447368</td>\n",
       "      <td>1531</td>\n",
       "      <td>0.007134</td>\n",
       "      <td>0.007237</td>\n",
       "    </tr>\n",
       "    <tr>\n",
       "      <td>3</td>\n",
       "      <td>PaymentScreenSuccessful</td>\n",
       "      <td>1200</td>\n",
       "      <td>1158</td>\n",
       "      <td>3.626943</td>\n",
       "      <td>1181</td>\n",
       "      <td>0.015833</td>\n",
       "      <td>0.019862</td>\n",
       "    </tr>\n",
       "    <tr>\n",
       "      <td>4</td>\n",
       "      <td>Tutorial</td>\n",
       "      <td>278</td>\n",
       "      <td>283</td>\n",
       "      <td>1.766784</td>\n",
       "      <td>279</td>\n",
       "      <td>0.003597</td>\n",
       "      <td>0.014134</td>\n",
       "    </tr>\n",
       "  </tbody>\n",
       "</table>\n",
       "</div>"
      ],
      "text/plain": [
       "                 EventName  DeviceIDHash246  DeviceIDHash247  \\\n",
       "0         CartScreenAppear             1266             1238   \n",
       "1         MainScreenAppear             2450             2476   \n",
       "2       OffersScreenAppear             1542             1520   \n",
       "3  PaymentScreenSuccessful             1200             1158   \n",
       "4                 Tutorial              278              283   \n",
       "\n",
       "   deviation 247/246  DeviceIDHash248  deviation 248/246  deviation 248/247  \n",
       "0           2.261712             1230           0.028436           0.006462  \n",
       "1           1.050081             2493           0.017551           0.006866  \n",
       "2           1.447368             1531           0.007134           0.007237  \n",
       "3           3.626943             1181           0.015833           0.019862  \n",
       "4           1.766784              279           0.003597           0.014134  "
      ]
     },
     "execution_count": 70,
     "metadata": {},
     "output_type": "execute_result"
    }
   ],
   "source": [
    "log_246_247_248.head()"
   ]
  },
  {
   "cell_type": "markdown",
   "metadata": {},
   "source": [
    "# Вывод\n",
    "   1. Количество пользователей в различных группах различается не более, чем на 1%.\n",
    "   2. Для всех групп фиксируют и отправляют в системы аналитики данные об одном и том же.\n",
    "   3. Различие ключевых метрик по группам __превышает 1%__. <font color='red'>Как в данном случае поступать не знаю, потому что нам говорили, что для А/А теста по ключевым метрикам не должно быть расхождение более 1 %</font> "
   ]
  },
  {
   "cell_type": "code",
   "execution_count": 71,
   "metadata": {},
   "outputs": [
    {
     "name": "stdout",
     "output_type": "stream",
     "text": [
      "При определении соотвествия среднего CartScreenAppear групп 246 и 248 различаются\n",
      "H0 - средний CartScreenAppear групп 246 и 248 одинаковый\n",
      "Н1 - средний CartScreenAppear групп 246 и 248 различаются\n",
      "Пороговое значение alpha 10%\n",
      "Не получилось отвергнуть нулевую гипотезу\n",
      "\n",
      "При определении соотвествия среднего MainScreenAppear групп 246 и 248 различаются\n",
      "H0 - средний MainScreenAppear групп 246 и 248 одинаковый\n",
      "Н1 - средний MainScreenAppear групп 246 и 248 различаются\n",
      "Пороговое значение alpha 10%\n",
      "Не получилось отвергнуть нулевую гипотезу\n",
      "\n",
      "При определении соотвествия среднего OffersScreenAppear групп 246 и 248 различаются\n",
      "H0 - средний OffersScreenAppear групп 246 и 248 одинаковый\n",
      "Н1 - средний OffersScreenAppear групп 246 и 248 различаются\n",
      "Пороговое значение alpha 10%\n",
      "Отвергаем нулевую гипотезу\n",
      "\n",
      "При определении соотвествия среднего PaymentScreenSuccessful групп 246 и 248 различаются\n",
      "H0 - средний PaymentScreenSuccessful групп 246 и 248 одинаковый\n",
      "Н1 - средний PaymentScreenSuccessful групп 246 и 248 различаются\n",
      "Пороговое значение alpha 10%\n",
      "Не получилось отвергнуть нулевую гипотезу\n",
      "\n",
      "При определении соотвествия среднего Tutorial групп 246 и 248 различаются\n",
      "H0 - средний Tutorial групп 246 и 248 одинаковый\n",
      "Н1 - средний Tutorial групп 246 и 248 различаются\n",
      "Пороговое значение alpha 10%\n",
      "Не получилось отвергнуть нулевую гипотезу\n",
      "\n"
     ]
    }
   ],
   "source": [
    "for row in log_246_247['EventName']:\n",
    "    print('При определении соотвествия среднего',  row, 'групп 246 и 248 различаются')\n",
    "    print('H0 - средний', row, 'групп 246 и 248 одинаковый')\n",
    "    print('Н1 - средний', row, 'групп 246 и 248 различаются')\n",
    "    print ('Пороговое значение alpha 10%')\n",
    "    alpha = 0.1/3\n",
    "    data_246 = data_adjusted[(data_adjusted['EventName'] == row) & (data_adjusted['ExpId'] == 246)].groupby('date').agg({'DeviceIDHash': 'count'}).reset_index()\n",
    "    data_248 = data_adjusted[(data_adjusted['EventName'] == row) & (data_adjusted['ExpId'] == 248)].groupby('date').agg({'DeviceIDHash': 'count'}).reset_index()\n",
    "    a = stats.mannwhitneyu(data_246['DeviceIDHash'], data_248['DeviceIDHash'])[1]\n",
    "    if a < alpha:\n",
    "        print('Отвергаем нулевую гипотезу')\n",
    "    else:\n",
    "        print('Не получилось отвергнуть нулевую гипотезу')\n",
    "    print()"
   ]
  },
  {
   "cell_type": "markdown",
   "metadata": {},
   "source": [
    "# Вывод \n",
    "\n",
    "Как видно групп 246 и 248 не в полной мере соотвествует основным логам."
   ]
  },
  {
   "cell_type": "code",
   "execution_count": 72,
   "metadata": {},
   "outputs": [
    {
     "name": "stdout",
     "output_type": "stream",
     "text": [
      "При определении соотвествия среднего CartScreenAppear групп 247 и 248 различаются\n",
      "H0 - средний CartScreenAppear групп 247 и 248 одинаковый\n",
      "Н1 - средний CartScreenAppear групп 247 и 248 различаются\n",
      "Пороговое значение alpha 10%\n",
      "Отвергаем нулевую гипотезу\n",
      "\n",
      "При определении соотвествия среднего MainScreenAppear групп 247 и 248 различаются\n",
      "H0 - средний MainScreenAppear групп 247 и 248 одинаковый\n",
      "Н1 - средний MainScreenAppear групп 247 и 248 различаются\n",
      "Пороговое значение alpha 10%\n",
      "Отвергаем нулевую гипотезу\n",
      "\n",
      "При определении соотвествия среднего OffersScreenAppear групп 247 и 248 различаются\n",
      "H0 - средний OffersScreenAppear групп 247 и 248 одинаковый\n",
      "Н1 - средний OffersScreenAppear групп 247 и 248 различаются\n",
      "Пороговое значение alpha 10%\n",
      "Отвергаем нулевую гипотезу\n",
      "\n",
      "При определении соотвествия среднего PaymentScreenSuccessful групп 247 и 248 различаются\n",
      "H0 - средний PaymentScreenSuccessful групп 247 и 248 одинаковый\n",
      "Н1 - средний PaymentScreenSuccessful групп 247 и 248 различаются\n",
      "Пороговое значение alpha 10%\n",
      "Отвергаем нулевую гипотезу\n",
      "\n",
      "При определении соотвествия среднего Tutorial групп 247 и 248 различаются\n",
      "H0 - средний Tutorial групп 247 и 248 одинаковый\n",
      "Н1 - средний Tutorial групп 247 и 248 различаются\n",
      "Пороговое значение alpha 10%\n",
      "Не получилось отвергнуть нулевую гипотезу\n",
      "\n"
     ]
    }
   ],
   "source": [
    "for row in log_246_247['EventName']:\n",
    "    print('При определении соотвествия среднего',  row, 'групп 247 и 248 различаются')\n",
    "    print('H0 - средний', row, 'групп 247 и 248 одинаковый')\n",
    "    print('Н1 - средний', row, 'групп 247 и 248 различаются')\n",
    "    print ('Пороговое значение alpha 10%')\n",
    "    alpha = 0.1/3\n",
    "    data_247 = data_adjusted[(data_adjusted['EventName'] == row) & (data_adjusted['ExpId'] == 247)].groupby('date').agg({'DeviceIDHash': 'count'}).reset_index()\n",
    "    data_248 = data_adjusted[(data_adjusted['EventName'] == row) & (data_adjusted['ExpId'] == 248)].groupby('date').agg({'DeviceIDHash': 'count'}).reset_index()\n",
    "    a = stats.mannwhitneyu(data_246['DeviceIDHash'], data_248['DeviceIDHash'])[1]\n",
    "    if a < alpha:\n",
    "        print('Отвергаем нулевую гипотезу')\n",
    "    else:\n",
    "        print('Не получилось отвергнуть нулевую гипотезу')\n",
    "    print()"
   ]
  },
  {
   "cell_type": "markdown",
   "metadata": {},
   "source": [
    "# Вывод \n",
    "\n",
    "Как видно групп 247 и 248 различаются по всем основным логам."
   ]
  },
  {
   "cell_type": "markdown",
   "metadata": {},
   "source": [
    "# Построим графики и оценим как повлияло на группы изменение шрифта"
   ]
  },
  {
   "cell_type": "markdown",
   "metadata": {},
   "source": [
    "<font color='red'> Прошу помощи по автомотиченскому выводу кода представленного внизу не могу построить раздельные графики. Может быть подскажите литературу </font>  "
   ]
  },
  {
   "cell_type": "code",
   "execution_count": 73,
   "metadata": {},
   "outputs": [
    {
     "data": {
      "image/png": "[encoded data removed]",
      "text/plain": [
       "<Figure size 432x288 with 1 Axes>"
      ]
     },
     "metadata": {
      "needs_background": "light"
     },
     "output_type": "display_data"
    }
   ],
   "source": [
    "for row in log_246_247['EventName']:\n",
    "    data_247 = data_adjusted[(data_adjusted['EventName'] == row) & (data_adjusted['ExpId'] == 247)].groupby('date').agg({'DeviceIDHash': 'count'}).reset_index()\n",
    "    data_248 = data_adjusted[(data_adjusted['EventName'] == row) & (data_adjusted['ExpId'] == 248)].groupby('date').agg({'DeviceIDHash': 'count'}).reset_index()\n",
    "    data_247['DeviceIDHash_cumsum'] = data_247['DeviceIDHash'].cumsum()\n",
    "    data_248['DeviceIDHash_cumsum'] = data_248['DeviceIDHash'].cumsum()\n",
    "    plt.plot(data_247['date'], data_247['DeviceIDHash_cumsum'], label='A')\n",
    "    plt.plot(data_248['date'], data_248['DeviceIDHash_cumsum'], label='B')\n",
    "    plt.legend()\n"
   ]
  },
  {
   "cell_type": "code",
   "execution_count": 74,
   "metadata": {},
   "outputs": [
    {
     "data": {
      "text/plain": [
       "<matplotlib.legend.Legend at 0x7f94f33422b0>"
      ]
     },
     "execution_count": 74,
     "metadata": {},
     "output_type": "execute_result"
    },
    {
     "data": {
      "image/png": "[encoded data removed]",
      "text/plain": [
       "<Figure size 432x288 with 1 Axes>"
      ]
     },
     "metadata": {
      "needs_background": "light"
     },
     "output_type": "display_data"
    }
   ],
   "source": [
    "data_247_cartscreenappear = data_adjusted[(data_adjusted['EventName'] == 'CartScreenAppear') & (data_adjusted['ExpId'] == 247)].groupby('date').agg({'DeviceIDHash': 'count'}).reset_index()\n",
    "data_248_cartscreenappear = data_adjusted[(data_adjusted['EventName'] == 'CartScreenAppear') & (data_adjusted['ExpId'] == 248)].groupby('date').agg({'DeviceIDHash': 'count'}).reset_index()\n",
    "data_247_cartscreenappear['DeviceIDHash_cumsum'] = data_247_cartscreenappear['DeviceIDHash'].cumsum()\n",
    "data_248_cartscreenappear['DeviceIDHash_cumsum'] = data_248_cartscreenappear['DeviceIDHash'].cumsum()\n",
    "plt.plot(data_247_cartscreenappear['date'], data_247_cartscreenappear['DeviceIDHash_cumsum'], label='A')\n",
    "plt.plot(data_248_cartscreenappear['date'], data_248_cartscreenappear['DeviceIDHash_cumsum'], label='B')\n",
    "plt.legend()"
   ]
  },
  {
   "cell_type": "code",
   "execution_count": 75,
   "metadata": {},
   "outputs": [
    {
     "data": {
      "text/plain": [
       "<matplotlib.lines.Line2D at 0x7f94f32fef98>"
      ]
     },
     "execution_count": 75,
     "metadata": {},
     "output_type": "execute_result"
    },
    {
     "data": {
      "image/png": "[encoded data removed]",
      "text/plain": [
       "<Figure size 432x288 with 1 Axes>"
      ]
     },
     "metadata": {
      "needs_background": "light"
     },
     "output_type": "display_data"
    }
   ],
   "source": [
    "plt.plot(data_248_cartscreenappear['date'], (data_248_cartscreenappear['DeviceIDHash_cumsum']/data_247_cartscreenappear['DeviceIDHash_cumsum'])-1)\n",
    "plt.axhline(y=0, color='red', linestyle='--')"
   ]
  },
  {
   "cell_type": "code",
   "execution_count": 76,
   "metadata": {},
   "outputs": [
    {
     "data": {
      "text/plain": [
       "<matplotlib.legend.Legend at 0x7f94f3390c18>"
      ]
     },
     "execution_count": 76,
     "metadata": {},
     "output_type": "execute_result"
    },
    {
     "data": {
      "image/png": "[encoded data removed]",
      "text/plain": [
       "<Figure size 432x288 with 1 Axes>"
      ]
     },
     "metadata": {
      "needs_background": "light"
     },
     "output_type": "display_data"
    }
   ],
   "source": [
    "data_247_MainScreenAppear = data_adjusted[(data_adjusted['EventName'] == 'MainScreenAppear') & (data_adjusted['ExpId'] == 247)].groupby('date').agg({'DeviceIDHash': 'count'}).reset_index()\n",
    "data_248_MainScreenAppear = data_adjusted[(data_adjusted['EventName'] == 'MainScreenAppear') & (data_adjusted['ExpId'] == 248)].groupby('date').agg({'DeviceIDHash': 'count'}).reset_index()\n",
    "data_247_MainScreenAppear['DeviceIDHash_cumsum'] = data_247_MainScreenAppear['DeviceIDHash'].cumsum()\n",
    "data_248_MainScreenAppear['DeviceIDHash_cumsum'] = data_248_MainScreenAppear['DeviceIDHash'].cumsum()\n",
    "plt.plot(data_247_MainScreenAppear['date'], data_247_MainScreenAppear['DeviceIDHash_cumsum'], label='A')\n",
    "plt.plot(data_248_MainScreenAppear['date'], data_248_MainScreenAppear['DeviceIDHash_cumsum'], label='B')\n",
    "plt.legend()"
   ]
  },
  {
   "cell_type": "code",
   "execution_count": 77,
   "metadata": {},
   "outputs": [
    {
     "data": {
      "text/plain": [
       "<matplotlib.lines.Line2D at 0x7f94f3427e10>"
      ]
     },
     "execution_count": 77,
     "metadata": {},
     "output_type": "execute_result"
    },
    {
     "data": {
      "image/png": "[encoded data removed]",
      "text/plain": [
       "<Figure size 432x288 with 1 Axes>"
      ]
     },
     "metadata": {
      "needs_background": "light"
     },
     "output_type": "display_data"
    }
   ],
   "source": [
    "plt.plot(data_248_MainScreenAppear['date'], (data_248_MainScreenAppear['DeviceIDHash_cumsum']/data_247_MainScreenAppear['DeviceIDHash_cumsum'])-1)\n",
    "plt.axhline(y=0, color='red', linestyle='--')"
   ]
  },
  {
   "cell_type": "code",
   "execution_count": 78,
   "metadata": {},
   "outputs": [
    {
     "data": {
      "text/plain": [
       "<matplotlib.legend.Legend at 0x7f94f357a4a8>"
      ]
     },
     "execution_count": 78,
     "metadata": {},
     "output_type": "execute_result"
    },
    {
     "data": {
      "image/png": "[encoded data removed]",
      "text/plain": [
       "<Figure size 432x288 with 1 Axes>"
      ]
     },
     "metadata": {
      "needs_background": "light"
     },
     "output_type": "display_data"
    }
   ],
   "source": [
    "data_247_OffersScreenAppear = data_adjusted[(data_adjusted['EventName'] == 'OffersScreenAppear') & (data_adjusted['ExpId'] == 247)].groupby('date').agg({'DeviceIDHash': 'count'}).reset_index()\n",
    "data_248_OffersScreenAppear = data_adjusted[(data_adjusted['EventName'] == 'OffersScreenAppear') & (data_adjusted['ExpId'] == 248)].groupby('date').agg({'DeviceIDHash': 'count'}).reset_index()\n",
    "data_247_OffersScreenAppear['DeviceIDHash_cumsum'] = data_247_OffersScreenAppear['DeviceIDHash'].cumsum()\n",
    "data_248_OffersScreenAppear['DeviceIDHash_cumsum'] = data_248_OffersScreenAppear['DeviceIDHash'].cumsum()\n",
    "plt.plot(data_247_OffersScreenAppear['date'], data_247_OffersScreenAppear['DeviceIDHash_cumsum'], label='A')\n",
    "plt.plot(data_248_OffersScreenAppear['date'], data_248_OffersScreenAppear['DeviceIDHash_cumsum'], label='B')\n",
    "plt.legend()"
   ]
  },
  {
   "cell_type": "code",
   "execution_count": 79,
   "metadata": {},
   "outputs": [
    {
     "data": {
      "text/plain": [
       "<matplotlib.lines.Line2D at 0x7f94f3594ac8>"
      ]
     },
     "execution_count": 79,
     "metadata": {},
     "output_type": "execute_result"
    },
    {
     "data": {
      "image/png": "[encoded data removed]",
      "text/plain": [
       "<Figure size 432x288 with 1 Axes>"
      ]
     },
     "metadata": {
      "needs_background": "light"
     },
     "output_type": "display_data"
    }
   ],
   "source": [
    "plt.plot(data_248_OffersScreenAppear['date'], (data_248_OffersScreenAppear['DeviceIDHash_cumsum']/data_247_OffersScreenAppear['DeviceIDHash_cumsum'])-1)\n",
    "plt.axhline(y=0, color='red', linestyle='--')"
   ]
  },
  {
   "cell_type": "code",
   "execution_count": 80,
   "metadata": {},
   "outputs": [
    {
     "data": {
      "text/plain": [
       "<matplotlib.legend.Legend at 0x7f94f34e1c88>"
      ]
     },
     "execution_count": 80,
     "metadata": {},
     "output_type": "execute_result"
    },
    {
     "data": {
      "image/png": "[encoded data removed]",
      "text/plain": [
       "<Figure size 432x288 with 1 Axes>"
      ]
     },
     "metadata": {
      "needs_background": "light"
     },
     "output_type": "display_data"
    }
   ],
   "source": [
    "data_247_PaymentScreenSuccessful = data_adjusted[(data_adjusted['EventName'] == 'PaymentScreenSuccessful') & (data_adjusted['ExpId'] == 247)].groupby('date').agg({'DeviceIDHash': 'count'}).reset_index()\n",
    "data_248_PaymentScreenSuccessful = data_adjusted[(data_adjusted['EventName'] == 'PaymentScreenSuccessful') & (data_adjusted['ExpId'] == 248)].groupby('date').agg({'DeviceIDHash': 'count'}).reset_index()\n",
    "data_247_PaymentScreenSuccessful['DeviceIDHash_cumsum'] = data_247_PaymentScreenSuccessful['DeviceIDHash'].cumsum()\n",
    "data_248_PaymentScreenSuccessful['DeviceIDHash_cumsum'] = data_248_PaymentScreenSuccessful['DeviceIDHash'].cumsum()\n",
    "plt.plot(data_247_PaymentScreenSuccessful['date'], data_247_PaymentScreenSuccessful['DeviceIDHash_cumsum'], label='A')\n",
    "plt.plot(data_248_PaymentScreenSuccessful['date'], data_248_PaymentScreenSuccessful['DeviceIDHash_cumsum'], label='B')\n",
    "plt.legend()"
   ]
  },
  {
   "cell_type": "code",
   "execution_count": 81,
   "metadata": {},
   "outputs": [
    {
     "data": {
      "text/plain": [
       "<matplotlib.lines.Line2D at 0x7f94f340feb8>"
      ]
     },
     "execution_count": 81,
     "metadata": {},
     "output_type": "execute_result"
    },
    {
     "data": {
      "image/png": "[encoded data removed]",
      "text/plain": [
       "<Figure size 432x288 with 1 Axes>"
      ]
     },
     "metadata": {
      "needs_background": "light"
     },
     "output_type": "display_data"
    }
   ],
   "source": [
    "plt.plot(data_248_PaymentScreenSuccessful['date'], (data_248_PaymentScreenSuccessful['DeviceIDHash_cumsum']/data_247_PaymentScreenSuccessful['DeviceIDHash_cumsum'])-1)\n",
    "plt.axhline(y=0, color='red', linestyle='--')"
   ]
  },
  {
   "cell_type": "code",
   "execution_count": 82,
   "metadata": {},
   "outputs": [],
   "source": [
    "expid = data_adjusted.groupby('ExpId').agg({'DeviceIDHash': 'nunique'}).reset_index()"
   ]
  },
  {
   "cell_type": "code",
   "execution_count": 83,
   "metadata": {},
   "outputs": [
    {
     "name": "stdout",
     "output_type": "stream",
     "text": [
      "Воронка продаж группы 246\n",
      "                 EventName  DeviceIDHash  retention_rate  retention_rate_all\n",
      "1         MainScreenAppear         37676             100          100.000000\n",
      "2       OffersScreenAppear         14767              39           39.194713\n",
      "0         CartScreenAppear         14690              99           38.990339\n",
      "3  PaymentScreenSuccessful         11852              80           31.457692\n",
      "4                 Tutorial           317               2            0.841384\n",
      "\n",
      "Воронка продаж группы 247\n",
      "                 EventName  DeviceIDHash  retention_rate  retention_rate_all\n",
      "1         MainScreenAppear         39090             100          100.000000\n",
      "2       OffersScreenAppear         15179              38           38.830903\n",
      "0         CartScreenAppear         12434              81           31.808647\n",
      "3  PaymentScreenSuccessful          9981              80           25.533384\n",
      "4                 Tutorial           338               3            0.864671\n",
      "\n",
      "Воронка продаж группы 248\n",
      "                 EventName  DeviceIDHash  retention_rate  retention_rate_all\n",
      "1         MainScreenAppear         40562             100          100.000000\n",
      "2       OffersScreenAppear         16387              40           40.399882\n",
      "0         CartScreenAppear         15179              92           37.421725\n",
      "3  PaymentScreenSuccessful         12085              79           29.793896\n",
      "4                 Tutorial           350               2            0.862877\n",
      "\n"
     ]
    }
   ],
   "source": [
    "for row in expid['ExpId']:\n",
    "    print('Воронка продаж группы', row)\n",
    "    deviceid_hash = data_adjusted[data_adjusted['ExpId'] == row].groupby('EventName').agg({'DeviceIDHash': 'count'}).reset_index()\n",
    "    deviceid_hash.sort_values(by='DeviceIDHash', ascending = False)\n",
    "    deviceid_hash['retention_rate'] = deviceid_hash.apply(sales, axis = 1)\n",
    "    deviceid_hash['retention_rate_all'] = deviceid_hash.apply(sales_all, axis = 1)\n",
    "    print(deviceid_hash.sort_values(by='retention_rate_all', ascending = False))\n",
    "    print()"
   ]
  },
  {
   "cell_type": "code",
   "execution_count": 84,
   "metadata": {},
   "outputs": [],
   "source": [
    "date = data_adjusted.groupby(['date', 'EventName', 'ExpId']).agg({'DeviceIDHash': 'nunique'}).reset_index()"
   ]
  },
  {
   "cell_type": "code",
   "execution_count": 85,
   "metadata": {},
   "outputs": [],
   "source": [
    "date_uniq = data_adjusted.groupby('date').count().reset_index()"
   ]
  },
  {
   "cell_type": "code",
   "execution_count": 86,
   "metadata": {},
   "outputs": [],
   "source": [
    "share = []\n",
    "for i in date_uniq['date']:\n",
    "    index_pay_246 = date[(date['date'] == i) & (date['ExpId'] == 246) & (date['EventName'] == 'PaymentScreenSuccessful')].index.tolist()[0]\n",
    "    index_pay_247 = date[(date['date'] == i) & (date['ExpId'] == 247) & (date['EventName'] == 'PaymentScreenSuccessful')].index.tolist()[0]\n",
    "    index_pay_248 = date[(date['date'] == i) & (date['ExpId'] == 248) & (date['EventName'] == 'PaymentScreenSuccessful')].index.tolist()[0]\n",
    "    index_main_246 = date[(date['date'] == i) & (date['ExpId'] == 246) & (date['EventName'] == 'MainScreenAppear')].index.tolist()[0]\n",
    "    index_main_247 = date[(date['date'] == i) & (date['ExpId'] == 247) & (date['EventName'] == 'MainScreenAppear')].index.tolist()[0]\n",
    "    index_main_248 = date[(date['date'] == i) & (date['ExpId'] == 248) & (date['EventName'] == 'MainScreenAppear')].index.tolist()[0]   \n",
    "    share_246 = date.loc[index_pay_246, 'DeviceIDHash'] / date.loc[index_main_246, 'DeviceIDHash']\n",
    "    share_247 = date.loc[index_pay_247, 'DeviceIDHash'] / date.loc[index_main_247, 'DeviceIDHash']\n",
    "    share_248 = date.loc[index_pay_248, 'DeviceIDHash'] / date.loc[index_main_248, 'DeviceIDHash']\n",
    "    share.append(share_246)\n",
    "    share.append(share_247)\n",
    "    share.append(share_248)"
   ]
  },
  {
   "cell_type": "code",
   "execution_count": 87,
   "metadata": {},
   "outputs": [],
   "source": [
    "share = pd.DataFrame(share,columns=['share'])"
   ]
  },
  {
   "cell_type": "code",
   "execution_count": 88,
   "metadata": {},
   "outputs": [],
   "source": [
    "analysis = data_adjusted.groupby(['date', 'ExpId']).agg({'DeviceIDHash': 'count'}).reset_index()\n",
    "analysis = analysis.join(share)\n",
    "analysis_246 = analysis[analysis['ExpId'] == 246]\n",
    "analysis_247 = analysis[analysis['ExpId'] == 247]\n",
    "analysis_248 = analysis[analysis['ExpId'] == 248]\n"
   ]
  },
  {
   "cell_type": "code",
   "execution_count": 89,
   "metadata": {},
   "outputs": [
    {
     "data": {
      "text/html": [
       "<div>\n",
       "<style scoped>\n",
       "    .dataframe tbody tr th:only-of-type {\n",
       "        vertical-align: middle;\n",
       "    }\n",
       "\n",
       "    .dataframe tbody tr th {\n",
       "        vertical-align: top;\n",
       "    }\n",
       "\n",
       "    .dataframe thead th {\n",
       "        text-align: right;\n",
       "    }\n",
       "</style>\n",
       "<table border=\"1\" class=\"dataframe\">\n",
       "  <thead>\n",
       "    <tr style=\"text-align: right;\">\n",
       "      <th></th>\n",
       "      <th>date</th>\n",
       "      <th>ExpId</th>\n",
       "      <th>DeviceIDHash</th>\n",
       "      <th>share</th>\n",
       "    </tr>\n",
       "  </thead>\n",
       "  <tbody>\n",
       "    <tr>\n",
       "      <td>0</td>\n",
       "      <td>2019-08-01</td>\n",
       "      <td>246</td>\n",
       "      <td>11561</td>\n",
       "      <td>0.396491</td>\n",
       "    </tr>\n",
       "    <tr>\n",
       "      <td>3</td>\n",
       "      <td>2019-08-02</td>\n",
       "      <td>246</td>\n",
       "      <td>10946</td>\n",
       "      <td>0.409965</td>\n",
       "    </tr>\n",
       "    <tr>\n",
       "      <td>6</td>\n",
       "      <td>2019-08-03</td>\n",
       "      <td>246</td>\n",
       "      <td>10575</td>\n",
       "      <td>0.448563</td>\n",
       "    </tr>\n",
       "    <tr>\n",
       "      <td>9</td>\n",
       "      <td>2019-08-04</td>\n",
       "      <td>246</td>\n",
       "      <td>11514</td>\n",
       "      <td>0.417790</td>\n",
       "    </tr>\n",
       "    <tr>\n",
       "      <td>12</td>\n",
       "      <td>2019-08-05</td>\n",
       "      <td>246</td>\n",
       "      <td>12368</td>\n",
       "      <td>0.406121</td>\n",
       "    </tr>\n",
       "    <tr>\n",
       "      <td>15</td>\n",
       "      <td>2019-08-06</td>\n",
       "      <td>246</td>\n",
       "      <td>11726</td>\n",
       "      <td>0.400000</td>\n",
       "    </tr>\n",
       "    <tr>\n",
       "      <td>18</td>\n",
       "      <td>2019-08-07</td>\n",
       "      <td>246</td>\n",
       "      <td>10612</td>\n",
       "      <td>0.405949</td>\n",
       "    </tr>\n",
       "  </tbody>\n",
       "</table>\n",
       "</div>"
      ],
      "text/plain": [
       "         date  ExpId  DeviceIDHash     share\n",
       "0  2019-08-01    246         11561  0.396491\n",
       "3  2019-08-02    246         10946  0.409965\n",
       "6  2019-08-03    246         10575  0.448563\n",
       "9  2019-08-04    246         11514  0.417790\n",
       "12 2019-08-05    246         12368  0.406121\n",
       "15 2019-08-06    246         11726  0.400000\n",
       "18 2019-08-07    246         10612  0.405949"
      ]
     },
     "execution_count": 89,
     "metadata": {},
     "output_type": "execute_result"
    }
   ],
   "source": [
    "analysis_246"
   ]
  },
  {
   "cell_type": "code",
   "execution_count": 90,
   "metadata": {},
   "outputs": [
    {
     "data": {
      "text/html": [
       "<div>\n",
       "<style scoped>\n",
       "    .dataframe tbody tr th:only-of-type {\n",
       "        vertical-align: middle;\n",
       "    }\n",
       "\n",
       "    .dataframe tbody tr th {\n",
       "        vertical-align: top;\n",
       "    }\n",
       "\n",
       "    .dataframe thead th {\n",
       "        text-align: right;\n",
       "    }\n",
       "</style>\n",
       "<table border=\"1\" class=\"dataframe\">\n",
       "  <thead>\n",
       "    <tr style=\"text-align: right;\">\n",
       "      <th></th>\n",
       "      <th>date</th>\n",
       "      <th>ExpId</th>\n",
       "      <th>DeviceIDHash</th>\n",
       "      <th>share</th>\n",
       "    </tr>\n",
       "  </thead>\n",
       "  <tbody>\n",
       "    <tr>\n",
       "      <td>0</td>\n",
       "      <td>2019-08-01</td>\n",
       "      <td>246</td>\n",
       "      <td>11561</td>\n",
       "      <td>0.396491</td>\n",
       "    </tr>\n",
       "    <tr>\n",
       "      <td>3</td>\n",
       "      <td>2019-08-02</td>\n",
       "      <td>246</td>\n",
       "      <td>10946</td>\n",
       "      <td>0.409965</td>\n",
       "    </tr>\n",
       "    <tr>\n",
       "      <td>6</td>\n",
       "      <td>2019-08-03</td>\n",
       "      <td>246</td>\n",
       "      <td>10575</td>\n",
       "      <td>0.448563</td>\n",
       "    </tr>\n",
       "    <tr>\n",
       "      <td>9</td>\n",
       "      <td>2019-08-04</td>\n",
       "      <td>246</td>\n",
       "      <td>11514</td>\n",
       "      <td>0.417790</td>\n",
       "    </tr>\n",
       "    <tr>\n",
       "      <td>12</td>\n",
       "      <td>2019-08-05</td>\n",
       "      <td>246</td>\n",
       "      <td>12368</td>\n",
       "      <td>0.406121</td>\n",
       "    </tr>\n",
       "    <tr>\n",
       "      <td>15</td>\n",
       "      <td>2019-08-06</td>\n",
       "      <td>246</td>\n",
       "      <td>11726</td>\n",
       "      <td>0.400000</td>\n",
       "    </tr>\n",
       "    <tr>\n",
       "      <td>18</td>\n",
       "      <td>2019-08-07</td>\n",
       "      <td>246</td>\n",
       "      <td>10612</td>\n",
       "      <td>0.405949</td>\n",
       "    </tr>\n",
       "  </tbody>\n",
       "</table>\n",
       "</div>"
      ],
      "text/plain": [
       "         date  ExpId  DeviceIDHash     share\n",
       "0  2019-08-01    246         11561  0.396491\n",
       "3  2019-08-02    246         10946  0.409965\n",
       "6  2019-08-03    246         10575  0.448563\n",
       "9  2019-08-04    246         11514  0.417790\n",
       "12 2019-08-05    246         12368  0.406121\n",
       "15 2019-08-06    246         11726  0.400000\n",
       "18 2019-08-07    246         10612  0.405949"
      ]
     },
     "execution_count": 90,
     "metadata": {},
     "output_type": "execute_result"
    }
   ],
   "source": [
    "analysis[analysis['ExpId'] == 246]"
   ]
  },
  {
   "cell_type": "code",
   "execution_count": 91,
   "metadata": {},
   "outputs": [
    {
     "data": {
      "text/plain": [
       "<matplotlib.legend.Legend at 0x7f94f35f9748>"
      ]
     },
     "execution_count": 91,
     "metadata": {},
     "output_type": "execute_result"
    },
    {
     "data": {
      "image/png": "[encoded data removed]",
      "text/plain": [
       "<Figure size 432x288 with 1 Axes>"
      ]
     },
     "metadata": {
      "needs_background": "light"
     },
     "output_type": "display_data"
    }
   ],
   "source": [
    "plt.plot(analysis[analysis['ExpId'] == 246]['date'], analysis[analysis['ExpId'] == 246]['share'], label='246')\n",
    "plt.plot(analysis[analysis['ExpId'] == 247]['date'], analysis[analysis['ExpId'] == 247]['share'], label='247')\n",
    "plt.plot(analysis[analysis['ExpId'] == 248]['date'], analysis[analysis['ExpId'] == 248]['share'], label='248')\n",
    "plt.legend()"
   ]
  },
  {
   "cell_type": "code",
   "execution_count": 92,
   "metadata": {},
   "outputs": [],
   "source": [
    "analysis_246_248 = analysis_246.merge(analysis_248, left_on='date', right_on='date', how='left', suffixes=['246', '248'])"
   ]
  },
  {
   "cell_type": "code",
   "execution_count": 93,
   "metadata": {},
   "outputs": [
    {
     "data": {
      "text/plain": [
       "<matplotlib.lines.Line2D at 0x7f94f3643cc0>"
      ]
     },
     "execution_count": 93,
     "metadata": {},
     "output_type": "execute_result"
    },
    {
     "data": {
      "image/png": "[encoded data removed]",
      "text/plain": [
       "<Figure size 432x288 with 1 Axes>"
      ]
     },
     "metadata": {
      "needs_background": "light"
     },
     "output_type": "display_data"
    }
   ],
   "source": [
    "plt.plot(analysis_246_248['date'], (analysis_246_248['share248']/analysis_246_248['share246'])-1)\n",
    "plt.axhline(y=0, color='red', linestyle='--')"
   ]
  },
  {
   "cell_type": "code",
   "execution_count": 94,
   "metadata": {},
   "outputs": [],
   "source": [
    "analysis_247_248 = analysis_247.merge(analysis_248, left_on='date', right_on='date', how='left', suffixes=['247', '248'])"
   ]
  },
  {
   "cell_type": "code",
   "execution_count": 95,
   "metadata": {},
   "outputs": [
    {
     "data": {
      "text/plain": [
       "<matplotlib.lines.Line2D at 0x7f94f32247f0>"
      ]
     },
     "execution_count": 95,
     "metadata": {},
     "output_type": "execute_result"
    },
    {
     "data": {
      "image/png": "[encoded data removed]",
      "text/plain": [
       "<Figure size 432x288 with 1 Axes>"
      ]
     },
     "metadata": {
      "needs_background": "light"
     },
     "output_type": "display_data"
    }
   ],
   "source": [
    "plt.plot(analysis_247_248['date'], (analysis_247_248['share248']/analysis_247_248['share247'])-1)\n",
    "plt.axhline(y=0, color='red', linestyle='--')"
   ]
  },
  {
   "cell_type": "code",
   "execution_count": 96,
   "metadata": {},
   "outputs": [],
   "source": [
    "import math as mth"
   ]
  },
  {
   "cell_type": "code",
   "execution_count": 97,
   "metadata": {},
   "outputs": [
    {
     "data": {
      "text/html": [
       "<div>\n",
       "<style scoped>\n",
       "    .dataframe tbody tr th:only-of-type {\n",
       "        vertical-align: middle;\n",
       "    }\n",
       "\n",
       "    .dataframe tbody tr th {\n",
       "        vertical-align: top;\n",
       "    }\n",
       "\n",
       "    .dataframe thead th {\n",
       "        text-align: right;\n",
       "    }\n",
       "</style>\n",
       "<table border=\"1\" class=\"dataframe\">\n",
       "  <thead>\n",
       "    <tr style=\"text-align: right;\">\n",
       "      <th></th>\n",
       "      <th>EventName</th>\n",
       "      <th>DeviceIDHash</th>\n",
       "    </tr>\n",
       "  </thead>\n",
       "  <tbody>\n",
       "    <tr>\n",
       "      <td>1</td>\n",
       "      <td>MainScreenAppear</td>\n",
       "      <td>2450</td>\n",
       "    </tr>\n",
       "    <tr>\n",
       "      <td>2</td>\n",
       "      <td>OffersScreenAppear</td>\n",
       "      <td>1542</td>\n",
       "    </tr>\n",
       "    <tr>\n",
       "      <td>0</td>\n",
       "      <td>CartScreenAppear</td>\n",
       "      <td>1266</td>\n",
       "    </tr>\n",
       "    <tr>\n",
       "      <td>3</td>\n",
       "      <td>PaymentScreenSuccessful</td>\n",
       "      <td>1200</td>\n",
       "    </tr>\n",
       "    <tr>\n",
       "      <td>4</td>\n",
       "      <td>Tutorial</td>\n",
       "      <td>278</td>\n",
       "    </tr>\n",
       "  </tbody>\n",
       "</table>\n",
       "</div>"
      ],
      "text/plain": [
       "                 EventName  DeviceIDHash\n",
       "1         MainScreenAppear          2450\n",
       "2       OffersScreenAppear          1542\n",
       "0         CartScreenAppear          1266\n",
       "3  PaymentScreenSuccessful          1200\n",
       "4                 Tutorial           278"
      ]
     },
     "execution_count": 97,
     "metadata": {},
     "output_type": "execute_result"
    }
   ],
   "source": [
    "deviceid_hash_246 = data_adjusted[data_adjusted['ExpId'] == 246].groupby('EventName').agg({'DeviceIDHash': 'nunique'}).reset_index()\n",
    "deviceid_hash_246.sort_values(by='DeviceIDHash', ascending = False)"
   ]
  },
  {
   "cell_type": "code",
   "execution_count": 98,
   "metadata": {},
   "outputs": [
    {
     "data": {
      "text/html": [
       "<div>\n",
       "<style scoped>\n",
       "    .dataframe tbody tr th:only-of-type {\n",
       "        vertical-align: middle;\n",
       "    }\n",
       "\n",
       "    .dataframe tbody tr th {\n",
       "        vertical-align: top;\n",
       "    }\n",
       "\n",
       "    .dataframe thead th {\n",
       "        text-align: right;\n",
       "    }\n",
       "</style>\n",
       "<table border=\"1\" class=\"dataframe\">\n",
       "  <thead>\n",
       "    <tr style=\"text-align: right;\">\n",
       "      <th></th>\n",
       "      <th>EventName</th>\n",
       "      <th>DeviceIDHash</th>\n",
       "    </tr>\n",
       "  </thead>\n",
       "  <tbody>\n",
       "    <tr>\n",
       "      <td>1</td>\n",
       "      <td>MainScreenAppear</td>\n",
       "      <td>2476</td>\n",
       "    </tr>\n",
       "    <tr>\n",
       "      <td>2</td>\n",
       "      <td>OffersScreenAppear</td>\n",
       "      <td>1520</td>\n",
       "    </tr>\n",
       "    <tr>\n",
       "      <td>0</td>\n",
       "      <td>CartScreenAppear</td>\n",
       "      <td>1238</td>\n",
       "    </tr>\n",
       "    <tr>\n",
       "      <td>3</td>\n",
       "      <td>PaymentScreenSuccessful</td>\n",
       "      <td>1158</td>\n",
       "    </tr>\n",
       "    <tr>\n",
       "      <td>4</td>\n",
       "      <td>Tutorial</td>\n",
       "      <td>283</td>\n",
       "    </tr>\n",
       "  </tbody>\n",
       "</table>\n",
       "</div>"
      ],
      "text/plain": [
       "                 EventName  DeviceIDHash\n",
       "1         MainScreenAppear          2476\n",
       "2       OffersScreenAppear          1520\n",
       "0         CartScreenAppear          1238\n",
       "3  PaymentScreenSuccessful          1158\n",
       "4                 Tutorial           283"
      ]
     },
     "execution_count": 98,
     "metadata": {},
     "output_type": "execute_result"
    }
   ],
   "source": [
    "deviceid_hash_247 = data_adjusted[data_adjusted['ExpId'] == 247].groupby('EventName').agg({'DeviceIDHash': 'nunique'}).reset_index()\n",
    "deviceid_hash_247.sort_values(by='DeviceIDHash', ascending = False)"
   ]
  },
  {
   "cell_type": "code",
   "execution_count": 99,
   "metadata": {},
   "outputs": [
    {
     "data": {
      "text/html": [
       "<div>\n",
       "<style scoped>\n",
       "    .dataframe tbody tr th:only-of-type {\n",
       "        vertical-align: middle;\n",
       "    }\n",
       "\n",
       "    .dataframe tbody tr th {\n",
       "        vertical-align: top;\n",
       "    }\n",
       "\n",
       "    .dataframe thead th {\n",
       "        text-align: right;\n",
       "    }\n",
       "</style>\n",
       "<table border=\"1\" class=\"dataframe\">\n",
       "  <thead>\n",
       "    <tr style=\"text-align: right;\">\n",
       "      <th></th>\n",
       "      <th>EventName</th>\n",
       "      <th>DeviceIDHash</th>\n",
       "    </tr>\n",
       "  </thead>\n",
       "  <tbody>\n",
       "    <tr>\n",
       "      <td>1</td>\n",
       "      <td>MainScreenAppear</td>\n",
       "      <td>2493</td>\n",
       "    </tr>\n",
       "    <tr>\n",
       "      <td>2</td>\n",
       "      <td>OffersScreenAppear</td>\n",
       "      <td>1531</td>\n",
       "    </tr>\n",
       "    <tr>\n",
       "      <td>0</td>\n",
       "      <td>CartScreenAppear</td>\n",
       "      <td>1230</td>\n",
       "    </tr>\n",
       "    <tr>\n",
       "      <td>3</td>\n",
       "      <td>PaymentScreenSuccessful</td>\n",
       "      <td>1181</td>\n",
       "    </tr>\n",
       "    <tr>\n",
       "      <td>4</td>\n",
       "      <td>Tutorial</td>\n",
       "      <td>279</td>\n",
       "    </tr>\n",
       "  </tbody>\n",
       "</table>\n",
       "</div>"
      ],
      "text/plain": [
       "                 EventName  DeviceIDHash\n",
       "1         MainScreenAppear          2493\n",
       "2       OffersScreenAppear          1531\n",
       "0         CartScreenAppear          1230\n",
       "3  PaymentScreenSuccessful          1181\n",
       "4                 Tutorial           279"
      ]
     },
     "execution_count": 99,
     "metadata": {},
     "output_type": "execute_result"
    }
   ],
   "source": [
    "deviceid_hash_248 = data_adjusted[data_adjusted['ExpId'] == 248].groupby('EventName').agg({'DeviceIDHash': 'nunique'}).reset_index()\n",
    "deviceid_hash_248.sort_values(by='DeviceIDHash', ascending = False)"
   ]
  },
  {
   "cell_type": "code",
   "execution_count": 100,
   "metadata": {},
   "outputs": [
    {
     "data": {
      "text/html": [
       "<div>\n",
       "<style scoped>\n",
       "    .dataframe tbody tr th:only-of-type {\n",
       "        vertical-align: middle;\n",
       "    }\n",
       "\n",
       "    .dataframe tbody tr th {\n",
       "        vertical-align: top;\n",
       "    }\n",
       "\n",
       "    .dataframe thead th {\n",
       "        text-align: right;\n",
       "    }\n",
       "</style>\n",
       "<table border=\"1\" class=\"dataframe\">\n",
       "  <thead>\n",
       "    <tr style=\"text-align: right;\">\n",
       "      <th></th>\n",
       "      <th>EventName</th>\n",
       "      <th>DeviceIDHash</th>\n",
       "    </tr>\n",
       "  </thead>\n",
       "  <tbody>\n",
       "    <tr>\n",
       "      <td>0</td>\n",
       "      <td>CartScreenAppear</td>\n",
       "      <td>1238</td>\n",
       "    </tr>\n",
       "    <tr>\n",
       "      <td>1</td>\n",
       "      <td>MainScreenAppear</td>\n",
       "      <td>2476</td>\n",
       "    </tr>\n",
       "    <tr>\n",
       "      <td>2</td>\n",
       "      <td>OffersScreenAppear</td>\n",
       "      <td>1520</td>\n",
       "    </tr>\n",
       "    <tr>\n",
       "      <td>3</td>\n",
       "      <td>PaymentScreenSuccessful</td>\n",
       "      <td>1158</td>\n",
       "    </tr>\n",
       "    <tr>\n",
       "      <td>4</td>\n",
       "      <td>Tutorial</td>\n",
       "      <td>283</td>\n",
       "    </tr>\n",
       "  </tbody>\n",
       "</table>\n",
       "</div>"
      ],
      "text/plain": [
       "                 EventName  DeviceIDHash\n",
       "0         CartScreenAppear          1238\n",
       "1         MainScreenAppear          2476\n",
       "2       OffersScreenAppear          1520\n",
       "3  PaymentScreenSuccessful          1158\n",
       "4                 Tutorial           283"
      ]
     },
     "execution_count": 100,
     "metadata": {},
     "output_type": "execute_result"
    }
   ],
   "source": [
    "deviceid_hash_247.head()"
   ]
  },
  {
   "cell_type": "code",
   "execution_count": 101,
   "metadata": {},
   "outputs": [
    {
     "data": {
      "text/html": [
       "<div>\n",
       "<style scoped>\n",
       "    .dataframe tbody tr th:only-of-type {\n",
       "        vertical-align: middle;\n",
       "    }\n",
       "\n",
       "    .dataframe tbody tr th {\n",
       "        vertical-align: top;\n",
       "    }\n",
       "\n",
       "    .dataframe thead th {\n",
       "        text-align: right;\n",
       "    }\n",
       "</style>\n",
       "<table border=\"1\" class=\"dataframe\">\n",
       "  <thead>\n",
       "    <tr style=\"text-align: right;\">\n",
       "      <th></th>\n",
       "      <th>EventName</th>\n",
       "      <th>DeviceIDHash246</th>\n",
       "      <th>DeviceIDHash247</th>\n",
       "      <th>deviation</th>\n",
       "    </tr>\n",
       "  </thead>\n",
       "  <tbody>\n",
       "    <tr>\n",
       "      <td>0</td>\n",
       "      <td>CartScreenAppear</td>\n",
       "      <td>1266</td>\n",
       "      <td>1238</td>\n",
       "      <td>2.261712</td>\n",
       "    </tr>\n",
       "    <tr>\n",
       "      <td>1</td>\n",
       "      <td>MainScreenAppear</td>\n",
       "      <td>2450</td>\n",
       "      <td>2476</td>\n",
       "      <td>1.050081</td>\n",
       "    </tr>\n",
       "    <tr>\n",
       "      <td>2</td>\n",
       "      <td>OffersScreenAppear</td>\n",
       "      <td>1542</td>\n",
       "      <td>1520</td>\n",
       "      <td>1.447368</td>\n",
       "    </tr>\n",
       "    <tr>\n",
       "      <td>3</td>\n",
       "      <td>PaymentScreenSuccessful</td>\n",
       "      <td>1200</td>\n",
       "      <td>1158</td>\n",
       "      <td>3.626943</td>\n",
       "    </tr>\n",
       "    <tr>\n",
       "      <td>4</td>\n",
       "      <td>Tutorial</td>\n",
       "      <td>278</td>\n",
       "      <td>283</td>\n",
       "      <td>1.766784</td>\n",
       "    </tr>\n",
       "  </tbody>\n",
       "</table>\n",
       "</div>"
      ],
      "text/plain": [
       "                 EventName  DeviceIDHash246  DeviceIDHash247  deviation\n",
       "0         CartScreenAppear             1266             1238   2.261712\n",
       "1         MainScreenAppear             2450             2476   1.050081\n",
       "2       OffersScreenAppear             1542             1520   1.447368\n",
       "3  PaymentScreenSuccessful             1200             1158   3.626943\n",
       "4                 Tutorial              278              283   1.766784"
      ]
     },
     "execution_count": 101,
     "metadata": {},
     "output_type": "execute_result"
    }
   ],
   "source": [
    "log_246_247"
   ]
  },
  {
   "cell_type": "markdown",
   "metadata": {},
   "source": [
    "# Комментарий наставника\n",
    "Давай ещё раз попытаемся эту штуку сделать. Тут что-то не то, судя по результатам.\n",
    "\n",
    "1. Давай все-таки сделаем функцию и вызовем её трижды. Выгода будет очевидной. \n",
    " 1. Как минимум мы избежим опечаток, как в строчке `    index_248 = deviceid_hash_247[deviceid_hash_248 .... `. Обрати внимание на 247, хотя должно быть явно 248.\n",
    " 2. Ты сможешь сделать формулы более легковесными, если передашь в функцию уже сами четыер нужных значения. Т.е. у тебя из формул пропадут монстры типа `deviceid_hash_248.loc[index_248, 'DeviceIDHash...` а будут более прозрачные выражения. \n",
    "2. Где-то есть ошибка. Посмотри, не перепутал ли ты условно trails и success, закрыл ли все скобки там, где нужно...  \n",
    "\n",
    "Да, и обрати внимание, что в задании ещё есть ` Сравните результаты с объединённой контрольной группой.`, т.е. нужно сравнить 248 c (246+247). Не потеряй, пожалуйста, эту историю."
   ]
  },
  {
   "cell_type": "markdown",
   "metadata": {},
   "source": [
    "# Доработанный ответ после цикла. \n",
    "\n",
    "Цикл также исправил"
   ]
  },
  {
   "cell_type": "code",
   "execution_count": 102,
   "metadata": {},
   "outputs": [
    {
     "name": "stdout",
     "output_type": "stream",
     "text": [
      "Проверим гипотезу о равенстве долей для лога CartScreenAppear\n",
      "\n",
      "Доли по логу CartScreenAppear групп 246 и 247 различаются\n",
      "H0 - доли CartScreenAppear групп 246 и 247 одинаковые\n",
      "Н1 - доли CartScreenAppear групп 246 и 247 различаются\n",
      "Пороговое значение alpha 0,05%\n",
      "Не получилось отвергнуть нулевую гипотезу, нет оснований считать доли разными\n",
      "\n",
      "Доли по логу CartScreenAppear групп 246 и 248 различаются\n",
      "H0 - доли CartScreenAppear групп 246 и 248 одинаковые\n",
      "Н1 - доли CartScreenAppear групп 246 и 248 различаются\n",
      "Пороговое значение alpha 0,05%\n",
      "Не получилось отвергнуть нулевую гипотезу, нет оснований считать доли разными\n",
      "\n",
      "Доли по логу CartScreenAppear групп 247 и 248 различаются\n",
      "H0 - доли CartScreenAppear групп 247 и 248 одинаковые\n",
      "Н1 - доли CartScreenAppear групп 247 и 248 различаются\n",
      "Пороговое значение alpha 0,05%\n",
      "Не получилось отвергнуть нулевую гипотезу, нет оснований считать доли разными\n",
      "\n",
      "\n",
      "Проверим гипотезу о равенстве долей для лога MainScreenAppear\n",
      "\n",
      "Доли по логу MainScreenAppear групп 246 и 247 различаются\n",
      "H0 - доли MainScreenAppear групп 246 и 247 одинаковые\n",
      "Н1 - доли MainScreenAppear групп 246 и 247 различаются\n",
      "Пороговое значение alpha 0,05%\n",
      "Не получилось отвергнуть нулевую гипотезу, нет оснований считать доли разными\n",
      "\n",
      "Доли по логу MainScreenAppear групп 246 и 248 различаются\n",
      "H0 - доли MainScreenAppear групп 246 и 248 одинаковые\n",
      "Н1 - доли MainScreenAppear групп 246 и 248 различаются\n",
      "Пороговое значение alpha 0,05%\n",
      "Не получилось отвергнуть нулевую гипотезу, нет оснований считать доли разными\n",
      "\n",
      "Доли по логу MainScreenAppear групп 247 и 248 различаются\n",
      "H0 - доли MainScreenAppear групп 247 и 248 одинаковые\n",
      "Н1 - доли MainScreenAppear групп 247 и 248 различаются\n",
      "Пороговое значение alpha 0,05%\n",
      "Не получилось отвергнуть нулевую гипотезу, нет оснований считать доли разными\n",
      "\n",
      "\n",
      "Проверим гипотезу о равенстве долей для лога OffersScreenAppear\n",
      "\n",
      "Доли по логу OffersScreenAppear групп 246 и 247 различаются\n",
      "H0 - доли OffersScreenAppear групп 246 и 247 одинаковые\n",
      "Н1 - доли OffersScreenAppear групп 246 и 247 различаются\n",
      "Пороговое значение alpha 0,05%\n",
      "Не получилось отвергнуть нулевую гипотезу, нет оснований считать доли разными\n",
      "\n",
      "Доли по логу OffersScreenAppear групп 246 и 248 различаются\n",
      "H0 - доли OffersScreenAppear групп 246 и 248 одинаковые\n",
      "Н1 - доли OffersScreenAppear групп 246 и 248 различаются\n",
      "Пороговое значение alpha 0,05%\n",
      "Не получилось отвергнуть нулевую гипотезу, нет оснований считать доли разными\n",
      "\n",
      "Доли по логу OffersScreenAppear групп 247 и 248 различаются\n",
      "H0 - доли OffersScreenAppear групп 247 и 248 одинаковые\n",
      "Н1 - доли OffersScreenAppear групп 247 и 248 различаются\n",
      "Пороговое значение alpha 0,05%\n",
      "Не получилось отвергнуть нулевую гипотезу, нет оснований считать доли разными\n",
      "\n",
      "\n",
      "Проверим гипотезу о равенстве долей для лога PaymentScreenSuccessful\n",
      "\n",
      "Доли по логу PaymentScreenSuccessful групп 246 и 247 различаются\n",
      "H0 - доли PaymentScreenSuccessful групп 246 и 247 одинаковые\n",
      "Н1 - доли PaymentScreenSuccessful групп 246 и 247 различаются\n",
      "Пороговое значение alpha 0,05%\n",
      "Не получилось отвергнуть нулевую гипотезу, нет оснований считать доли разными\n",
      "\n",
      "Доли по логу PaymentScreenSuccessful групп 246 и 248 различаются\n",
      "H0 - доли PaymentScreenSuccessful групп 246 и 248 одинаковые\n",
      "Н1 - доли PaymentScreenSuccessful групп 246 и 248 различаются\n",
      "Пороговое значение alpha 0,05%\n",
      "Не получилось отвергнуть нулевую гипотезу, нет оснований считать доли разными\n",
      "\n",
      "Доли по логу PaymentScreenSuccessful групп 247 и 248 различаются\n",
      "H0 - доли PaymentScreenSuccessful групп 247 и 248 одинаковые\n",
      "Н1 - доли PaymentScreenSuccessful групп 247 и 248 различаются\n",
      "Пороговое значение alpha 0,05%\n",
      "Не получилось отвергнуть нулевую гипотезу, нет оснований считать доли разными\n",
      "\n",
      "\n",
      "Проверим гипотезу о равенстве долей для лога Tutorial\n",
      "\n",
      "Доли по логу Tutorial групп 246 и 247 различаются\n",
      "H0 - доли Tutorial групп 246 и 247 одинаковые\n",
      "Н1 - доли Tutorial групп 246 и 247 различаются\n",
      "Пороговое значение alpha 0,05%\n",
      "Не получилось отвергнуть нулевую гипотезу, нет оснований считать доли разными\n",
      "\n",
      "Доли по логу Tutorial групп 246 и 248 различаются\n",
      "H0 - доли Tutorial групп 246 и 248 одинаковые\n",
      "Н1 - доли Tutorial групп 246 и 248 различаются\n",
      "Пороговое значение alpha 0,05%\n",
      "Не получилось отвергнуть нулевую гипотезу, нет оснований считать доли разными\n",
      "\n",
      "Доли по логу Tutorial групп 247 и 248 различаются\n",
      "H0 - доли Tutorial групп 247 и 248 одинаковые\n",
      "Н1 - доли Tutorial групп 247 и 248 различаются\n",
      "Пороговое значение alpha 0,05%\n",
      "Не получилось отвергнуть нулевую гипотезу, нет оснований считать доли разными\n",
      "\n",
      "\n"
     ]
    },
    {
     "name": "stderr",
     "output_type": "stream",
     "text": [
      "/opt/conda/lib/python3.7/site-packages/ipykernel_launcher.py:15: RuntimeWarning: invalid value encountered in double_scalars\n",
      "  from ipykernel import kernelapp as app\n",
      "/opt/conda/lib/python3.7/site-packages/ipykernel_launcher.py:16: RuntimeWarning: invalid value encountered in double_scalars\n",
      "  app.launch_new_instance()\n",
      "/opt/conda/lib/python3.7/site-packages/ipykernel_launcher.py:17: RuntimeWarning: invalid value encountered in double_scalars\n"
     ]
    }
   ],
   "source": [
    "for row_eventname in log_246_247['EventName']:\n",
    "    print('Проверим гипотезу о равенстве долей для лога', row_eventname)\n",
    "    index_246 = deviceid_hash_246[deviceid_hash_246['EventName'] == row_eventname].index.tolist()[0]\n",
    "    index_247 = deviceid_hash_247[deviceid_hash_247['EventName'] == row_eventname].index.tolist()[0]\n",
    "    index_248 = deviceid_hash_248[deviceid_hash_248['EventName'] == row_eventname].index.tolist()[0]\n",
    "    p_246 = deviceid_hash_246.loc[index_246, 'DeviceIDHash'] / deviceid_hash_246['DeviceIDHash'].max()\n",
    "    p_247 = deviceid_hash_247.loc[index_247, 'DeviceIDHash'] / deviceid_hash_247['DeviceIDHash'].max()\n",
    "    p_248 = deviceid_hash_248.loc[index_248, 'DeviceIDHash'] / deviceid_hash_248['DeviceIDHash'].max()\n",
    "    p_combined_246_247 = (deviceid_hash_246.loc[index_246, 'DeviceIDHash'] + deviceid_hash_247.loc[index_247, 'DeviceIDHash']) / (deviceid_hash_246['DeviceIDHash'].max() + deviceid_hash_247['DeviceIDHash'].max())\n",
    "    p_combined_246_248 = (deviceid_hash_246.loc[index_246, 'DeviceIDHash'] + deviceid_hash_248.loc[index_248, 'DeviceIDHash']) / (deviceid_hash_246['DeviceIDHash'].max() + deviceid_hash_248['DeviceIDHash'].max())\n",
    "    p_combined_247_248 = (deviceid_hash_247.loc[index_247, 'DeviceIDHash'] + deviceid_hash_248.loc[index_248, 'DeviceIDHash']) / (deviceid_hash_247['DeviceIDHash'].max() + deviceid_hash_248['DeviceIDHash'].max())\n",
    "    difference_246_247 = p_246 - p_247\n",
    "    difference_246_248 = p_246 - p_248\n",
    "    difference_247_248 = p_247 - p_248\n",
    "    z_value_246_247 = difference_246_247 / mth.sqrt(p_combined_246_247 * (1 - p_combined_246_247) * (1/deviceid_hash_246.loc[index_246, 'DeviceIDHash'] + 1/deviceid_hash_247.loc[index_247, 'DeviceIDHash']))\n",
    "    z_value_246_248 = difference_246_248 / mth.sqrt(p_combined_246_248 * (1 - p_combined_246_248) * (1/deviceid_hash_246.loc[index_246, 'DeviceIDHash'] + 1/deviceid_hash_248.loc[index_248, 'DeviceIDHash']))\n",
    "    z_value_247_248 = difference_247_248 / mth.sqrt(p_combined_247_248 * (1 - p_combined_247_248) * (1/deviceid_hash_247.loc[index_247, 'DeviceIDHash'] + 1/deviceid_hash_248.loc[index_248, 'DeviceIDHash']))\n",
    "    distr = st.norm(0, 1)\n",
    "    p_value_246_247 =  (1 - distr.cdf(abs(z_value_246_247))) * 2\n",
    "    p_value_246_248 =  (1 - distr.cdf(abs(z_value_246_248))) * 2\n",
    "    p_value_247_248 =  (1 - distr.cdf(abs(z_value_247_248))) * 2\n",
    "    print()    \n",
    "    print('Доли по логу',  row_eventname, 'групп 246 и 247 различаются')\n",
    "    print('H0 - доли', row_eventname, 'групп 246 и 247 одинаковые')\n",
    "    print('Н1 - доли', row_eventname, 'групп 246 и 247 различаются')\n",
    "    print ('Пороговое значение alpha 0,05%')\n",
    "    alpha = 0.05\n",
    "    if p_value_246_247 < alpha:\n",
    "        print('Отвергаем нулевую гипотезу: между долями есть значимая разница')\n",
    "    else:\n",
    "        print('Не получилось отвергнуть нулевую гипотезу, нет оснований считать доли разными')\n",
    "    print()\n",
    "    print('Доли по логу',  row_eventname, 'групп 246 и 248 различаются')\n",
    "    print('H0 - доли', row_eventname, 'групп 246 и 248 одинаковые')\n",
    "    print('Н1 - доли', row_eventname, 'групп 246 и 248 различаются')\n",
    "    print ('Пороговое значение alpha 0,05%')\n",
    "    alpha = 0.05\n",
    "    if p_value_246_248 < alpha:\n",
    "        print('Отвергаем нулевую гипотезу: между долями есть значимая разница')\n",
    "    else:\n",
    "        print('Не получилось отвергнуть нулевую гипотезу, нет оснований считать доли разными')\n",
    "    print()\n",
    "    print('Доли по логу',  row_eventname, 'групп 247 и 248 различаются')\n",
    "    print('H0 - доли', row_eventname, 'групп 247 и 248 одинаковые')\n",
    "    print('Н1 - доли', row_eventname, 'групп 247 и 248 различаются')\n",
    "    print ('Пороговое значение alpha 0,05%')\n",
    "    alpha = 0.05\n",
    "    if p_value_247_248 < alpha:\n",
    "        print('Отвергаем нулевую гипотезу: между долями есть значимая разница')\n",
    "    else:\n",
    "        print('Не получилось отвергнуть нулевую гипотезу, нет оснований считать доли разными')\n",
    "    print()\n",
    "    print()"
   ]
  },
  {
   "cell_type": "code",
   "execution_count": 103,
   "metadata": {},
   "outputs": [],
   "source": [
    "def stat_ch(group_1, group_2, data, alfa):\n",
    "    df1 = data[data['ExpId'] == group_1]\n",
    "    df2 = data[data['ExpId'] == group_2]\n",
    "    user_all_1 = df1['DeviceIDHash'].nunique()\n",
    "    user_all_2 = df2['DeviceIDHash'].nunique()\n",
    "    for row in log_246_247['EventName']:\n",
    "        users_1 = df1[df1['EventName'] == row]['DeviceIDHash'].nunique()\n",
    "        users_2 = df2[df2['EventName'] == row]['DeviceIDHash'].nunique()\n",
    "        successes = np.array([users_1, users_2])\n",
    "        trials = np.array([user_all_1, user_all_2])\n",
    "        p1 = successes[0]/trials[0]\n",
    "        p2 = successes[1]/trials[1]\n",
    "        p_combined = (successes[0] + successes[1]) / (trials[0] + trials[1])\n",
    "        difference = p1 - p2\n",
    "        z_value = difference / mth.sqrt(p_combined * (1 - p_combined) * (1/trials[0] + 1/trials[1]))\n",
    "        distr = st.norm(0, 1)\n",
    "        p_value = (1 - distr.cdf(abs(z_value))) * 2\n",
    "        print('Доли по логу',  row, 'групп', group_1, 'и', group_2, 'различаются')\n",
    "        print('H0 - доли', row, 'групп', group_1, 'и', group_2, 'одинаковые')\n",
    "        print('Н1 - доли', row, 'групп', group_1, 'и', group_2, 'различаются')\n",
    "        print('p-значение: ', p_value)\n",
    "        if (p_value < alpha):\n",
    "            print('Отвергаем нулевую гипотезу: между долями есть значимая разница')\n",
    "        else:\n",
    "            print('Не получилось отвергнуть нулевую гипотезу, нет оснований считать доли разными')\n",
    "        print()"
   ]
  },
  {
   "cell_type": "code",
   "execution_count": 104,
   "metadata": {},
   "outputs": [
    {
     "name": "stdout",
     "output_type": "stream",
     "text": [
      "Доли по логу CartScreenAppear групп 246 и 247 различаются\n",
      "H0 - доли CartScreenAppear групп 246 и 247 одинаковые\n",
      "Н1 - доли CartScreenAppear групп 246 и 247 различаются\n",
      "p-значение:  0.22883372237997213\n",
      "Не получилось отвергнуть нулевую гипотезу, нет оснований считать доли разными\n",
      "\n",
      "Доли по логу MainScreenAppear групп 246 и 247 различаются\n",
      "H0 - доли MainScreenAppear групп 246 и 247 одинаковые\n",
      "Н1 - доли MainScreenAppear групп 246 и 247 различаются\n",
      "p-значение:  0.7570597232046099\n",
      "Не получилось отвергнуть нулевую гипотезу, нет оснований считать доли разными\n",
      "\n",
      "Доли по логу OffersScreenAppear групп 246 и 247 различаются\n",
      "H0 - доли OffersScreenAppear групп 246 и 247 одинаковые\n",
      "Н1 - доли OffersScreenAppear групп 246 и 247 различаются\n",
      "p-значение:  0.2480954578522181\n",
      "Не получилось отвергнуть нулевую гипотезу, нет оснований считать доли разными\n",
      "\n",
      "Доли по логу PaymentScreenSuccessful групп 246 и 247 различаются\n",
      "H0 - доли PaymentScreenSuccessful групп 246 и 247 одинаковые\n",
      "Н1 - доли PaymentScreenSuccessful групп 246 и 247 различаются\n",
      "p-значение:  0.11456679313141849\n",
      "Не получилось отвергнуть нулевую гипотезу, нет оснований считать доли разными\n",
      "\n",
      "Доли по логу Tutorial групп 246 и 247 различаются\n",
      "H0 - доли Tutorial групп 246 и 247 одинаковые\n",
      "Н1 - доли Tutorial групп 246 и 247 различаются\n",
      "p-значение:  0.9376996189257114\n",
      "Не получилось отвергнуть нулевую гипотезу, нет оснований считать доли разными\n",
      "\n"
     ]
    }
   ],
   "source": [
    "stat_ch(246, 247, data_adjusted, 0.05)"
   ]
  },
  {
   "cell_type": "code",
   "execution_count": 105,
   "metadata": {},
   "outputs": [
    {
     "name": "stdout",
     "output_type": "stream",
     "text": [
      "Доли по логу CartScreenAppear групп 246 и 248 различаются\n",
      "H0 - доли CartScreenAppear групп 246 и 248 одинаковые\n",
      "Н1 - доли CartScreenAppear групп 246 и 248 различаются\n",
      "p-значение:  0.07842923237520116\n",
      "Не получилось отвергнуть нулевую гипотезу, нет оснований считать доли разными\n",
      "\n",
      "Доли по логу MainScreenAppear групп 246 и 248 различаются\n",
      "H0 - доли MainScreenAppear групп 246 и 248 одинаковые\n",
      "Н1 - доли MainScreenAppear групп 246 и 248 различаются\n",
      "p-значение:  0.2949721933554552\n",
      "Не получилось отвергнуть нулевую гипотезу, нет оснований считать доли разными\n",
      "\n",
      "Доли по логу OffersScreenAppear групп 246 и 248 различаются\n",
      "H0 - доли OffersScreenAppear групп 246 и 248 одинаковые\n",
      "Н1 - доли OffersScreenAppear групп 246 и 248 различаются\n",
      "p-значение:  0.20836205402738917\n",
      "Не получилось отвергнуть нулевую гипотезу, нет оснований считать доли разными\n",
      "\n",
      "Доли по логу PaymentScreenSuccessful групп 246 и 248 различаются\n",
      "H0 - доли PaymentScreenSuccessful групп 246 и 248 одинаковые\n",
      "Н1 - доли PaymentScreenSuccessful групп 246 и 248 различаются\n",
      "p-значение:  0.2122553275697796\n",
      "Не получилось отвергнуть нулевую гипотезу, нет оснований считать доли разными\n",
      "\n",
      "Доли по логу Tutorial групп 246 и 248 различаются\n",
      "H0 - доли Tutorial групп 246 и 248 одинаковые\n",
      "Н1 - доли Tutorial групп 246 и 248 различаются\n",
      "p-значение:  0.8264294010087645\n",
      "Не получилось отвергнуть нулевую гипотезу, нет оснований считать доли разными\n",
      "\n"
     ]
    }
   ],
   "source": [
    "stat_ch(246, 248, data_adjusted, 0.05)"
   ]
  },
  {
   "cell_type": "code",
   "execution_count": 106,
   "metadata": {},
   "outputs": [
    {
     "name": "stdout",
     "output_type": "stream",
     "text": [
      "Доли по логу CartScreenAppear групп 247 и 248 различаются\n",
      "H0 - доли CartScreenAppear групп 247 и 248 одинаковые\n",
      "Н1 - доли CartScreenAppear групп 247 и 248 различаются\n",
      "p-значение:  0.5786197879539783\n",
      "Не получилось отвергнуть нулевую гипотезу, нет оснований считать доли разными\n",
      "\n",
      "Доли по логу MainScreenAppear групп 247 и 248 различаются\n",
      "H0 - доли MainScreenAppear групп 247 и 248 одинаковые\n",
      "Н1 - доли MainScreenAppear групп 247 и 248 различаются\n",
      "p-значение:  0.4587053616621515\n",
      "Не получилось отвергнуть нулевую гипотезу, нет оснований считать доли разными\n",
      "\n",
      "Доли по логу OffersScreenAppear групп 247 и 248 различаются\n",
      "H0 - доли OffersScreenAppear групп 247 и 248 одинаковые\n",
      "Н1 - доли OffersScreenAppear групп 247 и 248 различаются\n",
      "p-значение:  0.9197817830592261\n",
      "Не получилось отвергнуть нулевую гипотезу, нет оснований считать доли разными\n",
      "\n",
      "Доли по логу PaymentScreenSuccessful групп 247 и 248 различаются\n",
      "H0 - доли PaymentScreenSuccessful групп 247 и 248 одинаковые\n",
      "Н1 - доли PaymentScreenSuccessful групп 247 и 248 различаются\n",
      "p-значение:  0.7373415053803964\n",
      "Не получилось отвергнуть нулевую гипотезу, нет оснований считать доли разными\n",
      "\n",
      "Доли по логу Tutorial групп 247 и 248 различаются\n",
      "H0 - доли Tutorial групп 247 и 248 одинаковые\n",
      "Н1 - доли Tutorial групп 247 и 248 различаются\n",
      "p-значение:  0.765323922474501\n",
      "Не получилось отвергнуть нулевую гипотезу, нет оснований считать доли разными\n",
      "\n"
     ]
    }
   ],
   "source": [
    "stat_ch(247, 248, data_adjusted, 0.05)"
   ]
  },
  {
   "cell_type": "code",
   "execution_count": 107,
   "metadata": {},
   "outputs": [],
   "source": [
    "data_adjusted_AB = data_adjusted.copy()"
   ]
  },
  {
   "cell_type": "code",
   "execution_count": 108,
   "metadata": {},
   "outputs": [],
   "source": [
    "data_adjusted_AB.loc[data_adjusted_AB['ExpId'] == 246, 'ExpId'] = 'A'\n",
    "data_adjusted_AB.loc[data_adjusted_AB['ExpId'] == 247, 'ExpId'] = 'A'\n",
    "data_adjusted_AB.loc[data_adjusted_AB['ExpId'] == 248, 'ExpId'] = 'B'\n"
   ]
  },
  {
   "cell_type": "code",
   "execution_count": 109,
   "metadata": {},
   "outputs": [
    {
     "data": {
      "text/html": [
       "<div>\n",
       "<style scoped>\n",
       "    .dataframe tbody tr th:only-of-type {\n",
       "        vertical-align: middle;\n",
       "    }\n",
       "\n",
       "    .dataframe tbody tr th {\n",
       "        vertical-align: top;\n",
       "    }\n",
       "\n",
       "    .dataframe thead th {\n",
       "        text-align: right;\n",
       "    }\n",
       "</style>\n",
       "<table border=\"1\" class=\"dataframe\">\n",
       "  <thead>\n",
       "    <tr style=\"text-align: right;\">\n",
       "      <th></th>\n",
       "      <th>EventName</th>\n",
       "      <th>DeviceIDHash</th>\n",
       "      <th>EventTimestamp</th>\n",
       "      <th>ExpId</th>\n",
       "      <th>time</th>\n",
       "      <th>date</th>\n",
       "      <th>first_visit</th>\n",
       "      <th>first_visit_adjusted</th>\n",
       "      <th>week</th>\n",
       "    </tr>\n",
       "  </thead>\n",
       "  <tbody>\n",
       "    <tr>\n",
       "      <td>2826</td>\n",
       "      <td>Tutorial</td>\n",
       "      <td>3737462046622621720</td>\n",
       "      <td>1564618048</td>\n",
       "      <td>A</td>\n",
       "      <td>2019-08-01 00:07:28</td>\n",
       "      <td>2019-08-01</td>\n",
       "      <td>1</td>\n",
       "      <td>1</td>\n",
       "      <td>31</td>\n",
       "    </tr>\n",
       "    <tr>\n",
       "      <td>2827</td>\n",
       "      <td>MainScreenAppear</td>\n",
       "      <td>3737462046622621720</td>\n",
       "      <td>1564618080</td>\n",
       "      <td>A</td>\n",
       "      <td>2019-08-01 00:08:00</td>\n",
       "      <td>2019-08-01</td>\n",
       "      <td>0</td>\n",
       "      <td>0</td>\n",
       "      <td>31</td>\n",
       "    </tr>\n",
       "    <tr>\n",
       "      <td>2828</td>\n",
       "      <td>MainScreenAppear</td>\n",
       "      <td>3737462046622621720</td>\n",
       "      <td>1564618135</td>\n",
       "      <td>A</td>\n",
       "      <td>2019-08-01 00:08:55</td>\n",
       "      <td>2019-08-01</td>\n",
       "      <td>0</td>\n",
       "      <td>0</td>\n",
       "      <td>31</td>\n",
       "    </tr>\n",
       "    <tr>\n",
       "      <td>2829</td>\n",
       "      <td>OffersScreenAppear</td>\n",
       "      <td>3737462046622621720</td>\n",
       "      <td>1564618138</td>\n",
       "      <td>A</td>\n",
       "      <td>2019-08-01 00:08:58</td>\n",
       "      <td>2019-08-01</td>\n",
       "      <td>0</td>\n",
       "      <td>0</td>\n",
       "      <td>31</td>\n",
       "    </tr>\n",
       "    <tr>\n",
       "      <td>2830</td>\n",
       "      <td>MainScreenAppear</td>\n",
       "      <td>1433840883824088890</td>\n",
       "      <td>1564618139</td>\n",
       "      <td>A</td>\n",
       "      <td>2019-08-01 00:08:59</td>\n",
       "      <td>2019-08-01</td>\n",
       "      <td>1</td>\n",
       "      <td>1</td>\n",
       "      <td>31</td>\n",
       "    </tr>\n",
       "  </tbody>\n",
       "</table>\n",
       "</div>"
      ],
      "text/plain": [
       "               EventName         DeviceIDHash  EventTimestamp ExpId  \\\n",
       "2826            Tutorial  3737462046622621720      1564618048     A   \n",
       "2827    MainScreenAppear  3737462046622621720      1564618080     A   \n",
       "2828    MainScreenAppear  3737462046622621720      1564618135     A   \n",
       "2829  OffersScreenAppear  3737462046622621720      1564618138     A   \n",
       "2830    MainScreenAppear  1433840883824088890      1564618139     A   \n",
       "\n",
       "                    time       date  first_visit  first_visit_adjusted  week  \n",
       "2826 2019-08-01 00:07:28 2019-08-01            1                     1    31  \n",
       "2827 2019-08-01 00:08:00 2019-08-01            0                     0    31  \n",
       "2828 2019-08-01 00:08:55 2019-08-01            0                     0    31  \n",
       "2829 2019-08-01 00:08:58 2019-08-01            0                     0    31  \n",
       "2830 2019-08-01 00:08:59 2019-08-01            1                     1    31  "
      ]
     },
     "execution_count": 109,
     "metadata": {},
     "output_type": "execute_result"
    }
   ],
   "source": [
    "data_adjusted_AB.head()"
   ]
  },
  {
   "cell_type": "code",
   "execution_count": 110,
   "metadata": {},
   "outputs": [
    {
     "name": "stdout",
     "output_type": "stream",
     "text": [
      "Доли по логу CartScreenAppear групп A и B различаются\n",
      "H0 - доли CartScreenAppear групп A и B одинаковые\n",
      "Н1 - доли CartScreenAppear групп A и B различаются\n",
      "p-значение:  0.18175875284404386\n",
      "Не получилось отвергнуть нулевую гипотезу, нет оснований считать доли разными\n",
      "\n",
      "Доли по логу MainScreenAppear групп A и B различаются\n",
      "H0 - доли MainScreenAppear групп A и B одинаковые\n",
      "Н1 - доли MainScreenAppear групп A и B различаются\n",
      "p-значение:  0.29424526837179577\n",
      "Не получилось отвергнуть нулевую гипотезу, нет оснований считать доли разными\n",
      "\n",
      "Доли по логу OffersScreenAppear групп A и B различаются\n",
      "H0 - доли OffersScreenAppear групп A и B одинаковые\n",
      "Н1 - доли OffersScreenAppear групп A и B различаются\n",
      "p-значение:  0.43425549655188256\n",
      "Не получилось отвергнуть нулевую гипотезу, нет оснований считать доли разными\n",
      "\n",
      "Доли по логу PaymentScreenSuccessful групп A и B различаются\n",
      "H0 - доли PaymentScreenSuccessful групп A и B одинаковые\n",
      "Н1 - доли PaymentScreenSuccessful групп A и B различаются\n",
      "p-значение:  0.6004294282308704\n",
      "Не получилось отвергнуть нулевую гипотезу, нет оснований считать доли разными\n",
      "\n",
      "Доли по логу Tutorial групп A и B различаются\n",
      "H0 - доли Tutorial групп A и B одинаковые\n",
      "Н1 - доли Tutorial групп A и B различаются\n",
      "p-значение:  0.764862472531507\n",
      "Не получилось отвергнуть нулевую гипотезу, нет оснований считать доли разными\n",
      "\n"
     ]
    }
   ],
   "source": [
    "stat_ch('A', 'B', data_adjusted_AB, 0.05)"
   ]
  },
  {
   "cell_type": "markdown",
   "metadata": {},
   "source": [
    "# <font color='red'> Объясни, почему мы должны использовать в данном виде __.nunique()__ </font>\n",
    "\n",
    "Я не согласен с данным утверждением по следующим причинам:\n",
    "   1. Поведение потребителя намного сложнение, чем по схеме _Main Screen Appear → Offers Screen Appear → Cart Screen Appear → Payment Screen Successful_. В его поведении могут быть различные вариации, которые могут приводить к \"лучшему\" успеху, что и показывает использование .count()\n",
    "   2. .nunique() данная форма, если я ее правильно понимаю, находит уникальный id пользователя и выбирает только один вариант: движение по цепочке _Main Screen Appear → Offers Screen Appear → Cart Screen Appear → Payment Screen Successful_. __А если он заходил каждый день или два раза в день?__. Соотвественно это также может быть связано с изменением шрифта. В данном случае .nunique() лучше использовать при определении посуточной конверсии, как это сделано на графиках, и сразу видно, что изменение шрифта несет отритцательное значение и значение в группах не стабилизировалось."
   ]
  },
  {
   "cell_type": "markdown",
   "metadata": {},
   "source": [
    "# Попытка ответа\n",
    "Хороший вопрос на самом деле. Я бы как-то так сформулировал:\n",
    "1. Мы проверяем, какая доля пользователей, оказавшаяся на шаге Х переходит к следующему шагу Х+1\n",
    "2. Какая доля переходов на шаг Х ведет к переходу на шаг Х+1.\n",
    "\n",
    "Мне кажется, если честно, что у двух этих вариантов есть плюсы и минусы. Ты верно заметил, что, вариант 1 (nunique) ведет к потере информации о том, что пользователь мог дваждый перейти с шага Х на шаг Х+1, а ведь это довольно значимо. \n",
    "\n",
    "С другой стороны, давай рассмотрим твой вариант. У него тоже есть недостаток. Нам важно, в конце концов, чтобы пользователь сделал переход на следующий шаг. Может ведь быть два таких поведения:\n",
    "`Шаг1- Шаг2 - Шаг1 - Шаг2 - Шаг3`\n",
    "или\n",
    "`Шаг1- Шаг2 - Шаг1 - Шаг2 - Шаг1 - Шаг2 - Шаг3`\n",
    "\n",
    "Во втором случае конверсия из шага 2 в шаг 3 будет меньше, если считать просто count. Но в действительности пользователь пришел и точно также дошел до нужного нам шага 3. Можно, конечно, обсуждать тот факт, что ему потребовалось больше суеты для этого, но сделал ведь в итоге :) \n",
    "\n",
    "И ещё один пример: \n",
    "`Шаг1- Шаг2 - Шаг1 - Шаг2`\n",
    "или\n",
    "`Шаг1- Шаг2 - Шаг1 - Шаг2 - Шаг1 - Шаг2`\n",
    "\n",
    "Count сильнее \"оштрафует\" конверсию за то, что шагов 1 и 2 много, а третьего нет. А вариант с nunique так штрафовать не будет. Действительно ли нам важно, сколько шагов 1 и 2 сделал пользователь, если он потом не сделал шаг 3? Для unique оба эти варианта одинаковы (один пользователь не дошел до шага 3), а для count второй вариант хуже первого, т.к. Шагов 1 и 2 больше, а шага 3 - нет. Это не очень-то логично не так ли?\n",
    "\n",
    "Мне кажется, хорошего варианта нет. Возможно, если бы у нас были идентификаторы условных сессий, то было бы логично считать кол-во сессий где мы перешли от Шага N к шагу N+1. А так, вариант с nunique больше заточен на ответ на вопрос: насколько чаще мы заставили пользователя дойти до нужной кнопки (почти наверняка она называется Купить :) ), а вариант с count отвечает на вопрос: насколько быстрее пользователь доходит до нужной кнопки.\n",
    "\n",
    "Можешь попробовать закинуть это в преподавателя и послушать его ответ. Возможно, есть нюансы, о которых я не догадался. "
   ]
  },
  {
   "cell_type": "markdown",
   "metadata": {},
   "source": [
    "# Вывод \n",
    "\n",
    "Изменение шрифта не приводит к изменение конверсии на сайте"
   ]
  },
  {
   "cell_type": "code",
   "execution_count": null,
   "metadata": {},
   "outputs": [],
   "source": []
  }
 ],
 "metadata": {
  "kernelspec": {
   "display_name": "Python 3",
   "language": "python",
   "name": "python3"
  },
  "language_info": {
   "codemirror_mode": {
    "name": "ipython",
    "version": 3
   },
   "file_extension": ".py",
   "mimetype": "text/x-python",
   "name": "python",
   "nbconvert_exporter": "python",
   "pygments_lexer": "ipython3",
   "version": "3.7.3"
  }
 },
 "nbformat": 4,
 "nbformat_minor": 2
}
