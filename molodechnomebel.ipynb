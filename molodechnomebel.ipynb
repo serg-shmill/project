{
 "cells": [
  {
   "cell_type": "code",
   "execution_count": 120,
   "metadata": {},
   "outputs": [],
   "source": [
    "import pandas as pd\n",
    "import random\n",
    "from sklearn.model_selection import train_test_split \n",
    "from sklearn.ensemble import RandomForestRegressor \n",
    "from sklearn import metrics\n",
    "from sklearn.preprocessing import LabelEncoder\n",
    "import datetime\n",
    "import matplotlib.pyplot as plt\n",
    "import numpy as np\n",
    "\n"
   ]
  },
  {
   "cell_type": "code",
   "execution_count": 121,
   "metadata": {},
   "outputs": [
    {
     "name": "stderr",
     "output_type": "stream",
     "text": [
      "C:\\Users\\User\\Anaconda3\\lib\\site-packages\\IPython\\core\\interactiveshell.py:3058: DtypeWarning: Columns (2,3,4,5,6,7,9) have mixed types. Specify dtype option on import or set low_memory=False.\n",
      "  interactivity=interactivity, compiler=compiler, result=result)\n"
     ]
    }
   ],
   "source": [
    "df = pd.read_csv('D://test/bd prognozowanie.csv', encoding='cp1251', sep = ';')"
   ]
  },
  {
   "cell_type": "code",
   "execution_count": 122,
   "metadata": {},
   "outputs": [
    {
     "data": {
      "text/html": [
       "<div>\n",
       "<style scoped>\n",
       "    .dataframe tbody tr th:only-of-type {\n",
       "        vertical-align: middle;\n",
       "    }\n",
       "\n",
       "    .dataframe tbody tr th {\n",
       "        vertical-align: top;\n",
       "    }\n",
       "\n",
       "    .dataframe thead th {\n",
       "        text-align: right;\n",
       "    }\n",
       "</style>\n",
       "<table border=\"1\" class=\"dataframe\">\n",
       "  <thead>\n",
       "    <tr style=\"text-align: right;\">\n",
       "      <th></th>\n",
       "      <th>Код клиента</th>\n",
       "      <th>Страна происхождения клиента</th>\n",
       "      <th>Серия</th>\n",
       "      <th>Назначение</th>\n",
       "      <th>Наименование изделия</th>\n",
       "      <th>характеристики товара</th>\n",
       "      <th>артикул</th>\n",
       "      <th>Тип отделки</th>\n",
       "      <th>Остатки на начало месяца (или конец предыдущего)</th>\n",
       "      <th>Дата конца месяца (месяц заказа)</th>\n",
       "      <th>Заказ, шт</th>\n",
       "      <th>Факт поставки</th>\n",
       "    </tr>\n",
       "  </thead>\n",
       "  <tbody>\n",
       "    <tr>\n",
       "      <td>0</td>\n",
       "      <td>NaN</td>\n",
       "      <td>NaN</td>\n",
       "      <td>Дуэт</td>\n",
       "      <td>Спальня</td>\n",
       "      <td>Шкаф для одежды</td>\n",
       "      <td>3-х дверный</td>\n",
       "      <td>233-01/03</td>\n",
       "      <td>Без отделки</td>\n",
       "      <td>NaN</td>\n",
       "      <td>31.05.2020</td>\n",
       "      <td>1.0</td>\n",
       "      <td>NaN</td>\n",
       "    </tr>\n",
       "    <tr>\n",
       "      <td>1</td>\n",
       "      <td>NaN</td>\n",
       "      <td>NaN</td>\n",
       "      <td>Дуэт</td>\n",
       "      <td>Спальня</td>\n",
       "      <td>Шкаф для одежды</td>\n",
       "      <td>3-х дверный (без зеркала)</td>\n",
       "      <td>233-01/03Б</td>\n",
       "      <td>Без отделки</td>\n",
       "      <td>NaN</td>\n",
       "      <td>31.05.2020</td>\n",
       "      <td>1.0</td>\n",
       "      <td>NaN</td>\n",
       "    </tr>\n",
       "    <tr>\n",
       "      <td>2</td>\n",
       "      <td>NaN</td>\n",
       "      <td>NaN</td>\n",
       "      <td>Дуэт</td>\n",
       "      <td>Спальня</td>\n",
       "      <td>Шкаф для одежды</td>\n",
       "      <td>4-х дверный (без зеркала)</td>\n",
       "      <td>233-01/04Б</td>\n",
       "      <td>Без отделки</td>\n",
       "      <td>NaN</td>\n",
       "      <td>31.05.2020</td>\n",
       "      <td>1.0</td>\n",
       "      <td>NaN</td>\n",
       "    </tr>\n",
       "    <tr>\n",
       "      <td>3</td>\n",
       "      <td>NaN</td>\n",
       "      <td>NaN</td>\n",
       "      <td>Дуэт</td>\n",
       "      <td>Спальня</td>\n",
       "      <td>Комод</td>\n",
       "      <td>NaN</td>\n",
       "      <td>233-04</td>\n",
       "      <td>Без отделки</td>\n",
       "      <td>NaN</td>\n",
       "      <td>31.05.2020</td>\n",
       "      <td>5.0</td>\n",
       "      <td>NaN</td>\n",
       "    </tr>\n",
       "    <tr>\n",
       "      <td>4</td>\n",
       "      <td>NaN</td>\n",
       "      <td>NaN</td>\n",
       "      <td>Дуэт</td>\n",
       "      <td>Спальня</td>\n",
       "      <td>Зеркало</td>\n",
       "      <td>NaN</td>\n",
       "      <td>233-05</td>\n",
       "      <td>Без отделки</td>\n",
       "      <td>NaN</td>\n",
       "      <td>31.05.2020</td>\n",
       "      <td>2.0</td>\n",
       "      <td>NaN</td>\n",
       "    </tr>\n",
       "  </tbody>\n",
       "</table>\n",
       "</div>"
      ],
      "text/plain": [
       "   Код клиента  Страна происхождения клиента  Серия Назначение  \\\n",
       "0          NaN                           NaN  Дуэт     Спальня   \n",
       "1          NaN                           NaN  Дуэт     Спальня   \n",
       "2          NaN                           NaN  Дуэт     Спальня   \n",
       "3          NaN                           NaN  Дуэт     Спальня   \n",
       "4          NaN                           NaN  Дуэт     Спальня   \n",
       "\n",
       "  Наименование изделия      характеристики товара     артикул  Тип отделки  \\\n",
       "0      Шкаф для одежды                3-х дверный   233-01/03  Без отделки   \n",
       "1      Шкаф для одежды  3-х дверный (без зеркала)  233-01/03Б  Без отделки   \n",
       "2      Шкаф для одежды  4-х дверный (без зеркала)  233-01/04Б  Без отделки   \n",
       "3                Комод                        NaN      233-04  Без отделки   \n",
       "4              Зеркало                        NaN      233-05  Без отделки   \n",
       "\n",
       "   Остатки на начало месяца (или конец предыдущего)  \\\n",
       "0                                               NaN   \n",
       "1                                               NaN   \n",
       "2                                               NaN   \n",
       "3                                               NaN   \n",
       "4                                               NaN   \n",
       "\n",
       "  Дата конца месяца (месяц заказа)  Заказ, шт  Факт поставки  \n",
       "0                       31.05.2020        1.0            NaN  \n",
       "1                       31.05.2020        1.0            NaN  \n",
       "2                       31.05.2020        1.0            NaN  \n",
       "3                       31.05.2020        5.0            NaN  \n",
       "4                       31.05.2020        2.0            NaN  "
      ]
     },
     "execution_count": 122,
     "metadata": {},
     "output_type": "execute_result"
    }
   ],
   "source": [
    "df.head()"
   ]
  },
  {
   "cell_type": "code",
   "execution_count": 123,
   "metadata": {},
   "outputs": [
    {
     "name": "stdout",
     "output_type": "stream",
     "text": [
      "<class 'pandas.core.frame.DataFrame'>\n",
      "RangeIndex: 1047939 entries, 0 to 1047938\n",
      "Data columns (total 12 columns):\n",
      "Код клиента                                         0 non-null float64\n",
      "Страна происхождения клиента                        0 non-null float64\n",
      "Серия                                               2298 non-null object\n",
      "Назначение                                          2298 non-null object\n",
      "Наименование изделия                                2298 non-null object\n",
      "характеристики товара                               984 non-null object\n",
      "артикул                                             2298 non-null object\n",
      "Тип отделки                                         2298 non-null object\n",
      "Остатки на начало месяца (или конец предыдущего)    0 non-null float64\n",
      "Дата конца месяца (месяц заказа)                    2298 non-null object\n",
      "Заказ, шт                                           2298 non-null float64\n",
      "Факт поставки                                       0 non-null float64\n",
      "dtypes: float64(5), object(7)\n",
      "memory usage: 95.9+ MB\n"
     ]
    }
   ],
   "source": [
    "df.info()"
   ]
  },
  {
   "cell_type": "code",
   "execution_count": 124,
   "metadata": {},
   "outputs": [],
   "source": [
    "# заполним недостающие данные\n",
    "# код клиента предположим, что у нас  клинта оптовик(1), розничный магазин(2)\n",
    "\n",
    "def cod_customer(data):\n",
    "    return random.randint(1, 2)\n",
    "df['Код клиента'] = df['Код клиента'].apply(cod_customer)"
   ]
  },
  {
   "cell_type": "code",
   "execution_count": 125,
   "metadata": {},
   "outputs": [],
   "source": [
    "# заполним недостающие данные\n",
    "# код клиента предположим, что у нас  РБ(1), РОССИЯ(2), Казахстан(3)\n",
    "\n",
    "def cod_country(data):\n",
    "    return random.randint(1, 3)\n",
    "df['Страна происхождения клиента'] = df['Страна происхождения клиента'].apply(cod_customer)"
   ]
  },
  {
   "cell_type": "code",
   "execution_count": 126,
   "metadata": {},
   "outputs": [
    {
     "data": {
      "text/html": [
       "<div>\n",
       "<style scoped>\n",
       "    .dataframe tbody tr th:only-of-type {\n",
       "        vertical-align: middle;\n",
       "    }\n",
       "\n",
       "    .dataframe tbody tr th {\n",
       "        vertical-align: top;\n",
       "    }\n",
       "\n",
       "    .dataframe thead th {\n",
       "        text-align: right;\n",
       "    }\n",
       "</style>\n",
       "<table border=\"1\" class=\"dataframe\">\n",
       "  <thead>\n",
       "    <tr style=\"text-align: right;\">\n",
       "      <th></th>\n",
       "      <th>Код клиента</th>\n",
       "      <th>Страна происхождения клиента</th>\n",
       "      <th>Серия</th>\n",
       "      <th>Назначение</th>\n",
       "      <th>Наименование изделия</th>\n",
       "      <th>характеристики товара</th>\n",
       "      <th>артикул</th>\n",
       "      <th>Тип отделки</th>\n",
       "      <th>Остатки на начало месяца (или конец предыдущего)</th>\n",
       "      <th>Дата конца месяца (месяц заказа)</th>\n",
       "      <th>Заказ, шт</th>\n",
       "      <th>Факт поставки</th>\n",
       "    </tr>\n",
       "  </thead>\n",
       "  <tbody>\n",
       "    <tr>\n",
       "      <td>0</td>\n",
       "      <td>2</td>\n",
       "      <td>2</td>\n",
       "      <td>Дуэт</td>\n",
       "      <td>Спальня</td>\n",
       "      <td>Шкаф для одежды</td>\n",
       "      <td>3-х дверный</td>\n",
       "      <td>233-01/03</td>\n",
       "      <td>Без отделки</td>\n",
       "      <td>NaN</td>\n",
       "      <td>31.05.2020</td>\n",
       "      <td>1.0</td>\n",
       "      <td>NaN</td>\n",
       "    </tr>\n",
       "    <tr>\n",
       "      <td>1</td>\n",
       "      <td>1</td>\n",
       "      <td>1</td>\n",
       "      <td>Дуэт</td>\n",
       "      <td>Спальня</td>\n",
       "      <td>Шкаф для одежды</td>\n",
       "      <td>3-х дверный (без зеркала)</td>\n",
       "      <td>233-01/03Б</td>\n",
       "      <td>Без отделки</td>\n",
       "      <td>NaN</td>\n",
       "      <td>31.05.2020</td>\n",
       "      <td>1.0</td>\n",
       "      <td>NaN</td>\n",
       "    </tr>\n",
       "    <tr>\n",
       "      <td>2</td>\n",
       "      <td>1</td>\n",
       "      <td>2</td>\n",
       "      <td>Дуэт</td>\n",
       "      <td>Спальня</td>\n",
       "      <td>Шкаф для одежды</td>\n",
       "      <td>4-х дверный (без зеркала)</td>\n",
       "      <td>233-01/04Б</td>\n",
       "      <td>Без отделки</td>\n",
       "      <td>NaN</td>\n",
       "      <td>31.05.2020</td>\n",
       "      <td>1.0</td>\n",
       "      <td>NaN</td>\n",
       "    </tr>\n",
       "    <tr>\n",
       "      <td>3</td>\n",
       "      <td>2</td>\n",
       "      <td>1</td>\n",
       "      <td>Дуэт</td>\n",
       "      <td>Спальня</td>\n",
       "      <td>Комод</td>\n",
       "      <td>NaN</td>\n",
       "      <td>233-04</td>\n",
       "      <td>Без отделки</td>\n",
       "      <td>NaN</td>\n",
       "      <td>31.05.2020</td>\n",
       "      <td>5.0</td>\n",
       "      <td>NaN</td>\n",
       "    </tr>\n",
       "    <tr>\n",
       "      <td>4</td>\n",
       "      <td>1</td>\n",
       "      <td>2</td>\n",
       "      <td>Дуэт</td>\n",
       "      <td>Спальня</td>\n",
       "      <td>Зеркало</td>\n",
       "      <td>NaN</td>\n",
       "      <td>233-05</td>\n",
       "      <td>Без отделки</td>\n",
       "      <td>NaN</td>\n",
       "      <td>31.05.2020</td>\n",
       "      <td>2.0</td>\n",
       "      <td>NaN</td>\n",
       "    </tr>\n",
       "  </tbody>\n",
       "</table>\n",
       "</div>"
      ],
      "text/plain": [
       "   Код клиента  Страна происхождения клиента  Серия Назначение  \\\n",
       "0            2                             2  Дуэт     Спальня   \n",
       "1            1                             1  Дуэт     Спальня   \n",
       "2            1                             2  Дуэт     Спальня   \n",
       "3            2                             1  Дуэт     Спальня   \n",
       "4            1                             2  Дуэт     Спальня   \n",
       "\n",
       "  Наименование изделия      характеристики товара     артикул  Тип отделки  \\\n",
       "0      Шкаф для одежды                3-х дверный   233-01/03  Без отделки   \n",
       "1      Шкаф для одежды  3-х дверный (без зеркала)  233-01/03Б  Без отделки   \n",
       "2      Шкаф для одежды  4-х дверный (без зеркала)  233-01/04Б  Без отделки   \n",
       "3                Комод                        NaN      233-04  Без отделки   \n",
       "4              Зеркало                        NaN      233-05  Без отделки   \n",
       "\n",
       "   Остатки на начало месяца (или конец предыдущего)  \\\n",
       "0                                               NaN   \n",
       "1                                               NaN   \n",
       "2                                               NaN   \n",
       "3                                               NaN   \n",
       "4                                               NaN   \n",
       "\n",
       "  Дата конца месяца (месяц заказа)  Заказ, шт  Факт поставки  \n",
       "0                       31.05.2020        1.0            NaN  \n",
       "1                       31.05.2020        1.0            NaN  \n",
       "2                       31.05.2020        1.0            NaN  \n",
       "3                       31.05.2020        5.0            NaN  \n",
       "4                       31.05.2020        2.0            NaN  "
      ]
     },
     "execution_count": 126,
     "metadata": {},
     "output_type": "execute_result"
    }
   ],
   "source": [
    "df.head()"
   ]
  },
  {
   "cell_type": "code",
   "execution_count": 127,
   "metadata": {},
   "outputs": [],
   "source": [
    "df['Заказ, шт'] = pd.to_numeric(df['Заказ, шт'], errors='coerce')\n",
    "df['Заказ, шт'] = df['Заказ, шт'].fillna(0)"
   ]
  },
  {
   "cell_type": "code",
   "execution_count": 128,
   "metadata": {},
   "outputs": [],
   "source": [
    "df['Остатки на начало месяца (или конец предыдущего)'] = df['Остатки на начало месяца (или конец предыдущего)'].fillna(0)"
   ]
  },
  {
   "cell_type": "code",
   "execution_count": 129,
   "metadata": {},
   "outputs": [],
   "source": [
    "for row in range(0, 2298):\n",
    "    offer = df.loc[row]['Заказ, шт']\n",
    "    df.loc[row, 'Остатки на начало месяца (или конец предыдущего)'] = round(random.uniform(0, 3) * offer, 0)"
   ]
  },
  {
   "cell_type": "code",
   "execution_count": 130,
   "metadata": {},
   "outputs": [
    {
     "name": "stdout",
     "output_type": "stream",
     "text": [
      "<class 'pandas.core.frame.DataFrame'>\n",
      "RangeIndex: 1047939 entries, 0 to 1047938\n",
      "Data columns (total 12 columns):\n",
      "Код клиента                                         1047939 non-null int64\n",
      "Страна происхождения клиента                        1047939 non-null int64\n",
      "Серия                                               2298 non-null object\n",
      "Назначение                                          2298 non-null object\n",
      "Наименование изделия                                2298 non-null object\n",
      "характеристики товара                               984 non-null object\n",
      "артикул                                             2298 non-null object\n",
      "Тип отделки                                         2298 non-null object\n",
      "Остатки на начало месяца (или конец предыдущего)    1047939 non-null float64\n",
      "Дата конца месяца (месяц заказа)                    2298 non-null object\n",
      "Заказ, шт                                           1047939 non-null float64\n",
      "Факт поставки                                       0 non-null float64\n",
      "dtypes: float64(3), int64(2), object(7)\n",
      "memory usage: 95.9+ MB\n"
     ]
    }
   ],
   "source": [
    "df.info()"
   ]
  },
  {
   "cell_type": "code",
   "execution_count": 131,
   "metadata": {},
   "outputs": [],
   "source": [
    "for row in range(0, 2298):\n",
    "    offer = df.loc[row]['Заказ, шт']\n",
    "    #print(round(random.uniform(0, 1) * offer, 0))\n",
    "    df.loc[row, 'Факт поставки'] = round(random.uniform(0, 1) * offer, 0)"
   ]
  },
  {
   "cell_type": "code",
   "execution_count": 132,
   "metadata": {},
   "outputs": [
    {
     "data": {
      "text/html": [
       "<div>\n",
       "<style scoped>\n",
       "    .dataframe tbody tr th:only-of-type {\n",
       "        vertical-align: middle;\n",
       "    }\n",
       "\n",
       "    .dataframe tbody tr th {\n",
       "        vertical-align: top;\n",
       "    }\n",
       "\n",
       "    .dataframe thead th {\n",
       "        text-align: right;\n",
       "    }\n",
       "</style>\n",
       "<table border=\"1\" class=\"dataframe\">\n",
       "  <thead>\n",
       "    <tr style=\"text-align: right;\">\n",
       "      <th></th>\n",
       "      <th>Код клиента</th>\n",
       "      <th>Страна происхождения клиента</th>\n",
       "      <th>Серия</th>\n",
       "      <th>Назначение</th>\n",
       "      <th>Наименование изделия</th>\n",
       "      <th>характеристики товара</th>\n",
       "      <th>артикул</th>\n",
       "      <th>Тип отделки</th>\n",
       "      <th>Остатки на начало месяца (или конец предыдущего)</th>\n",
       "      <th>Дата конца месяца (месяц заказа)</th>\n",
       "      <th>Заказ, шт</th>\n",
       "      <th>Факт поставки</th>\n",
       "    </tr>\n",
       "  </thead>\n",
       "  <tbody>\n",
       "    <tr>\n",
       "      <td>0</td>\n",
       "      <td>2</td>\n",
       "      <td>2</td>\n",
       "      <td>Дуэт</td>\n",
       "      <td>Спальня</td>\n",
       "      <td>Шкаф для одежды</td>\n",
       "      <td>3-х дверный</td>\n",
       "      <td>233-01/03</td>\n",
       "      <td>Без отделки</td>\n",
       "      <td>0.0</td>\n",
       "      <td>31.05.2020</td>\n",
       "      <td>1.0</td>\n",
       "      <td>1.0</td>\n",
       "    </tr>\n",
       "    <tr>\n",
       "      <td>1</td>\n",
       "      <td>1</td>\n",
       "      <td>1</td>\n",
       "      <td>Дуэт</td>\n",
       "      <td>Спальня</td>\n",
       "      <td>Шкаф для одежды</td>\n",
       "      <td>3-х дверный (без зеркала)</td>\n",
       "      <td>233-01/03Б</td>\n",
       "      <td>Без отделки</td>\n",
       "      <td>3.0</td>\n",
       "      <td>31.05.2020</td>\n",
       "      <td>1.0</td>\n",
       "      <td>1.0</td>\n",
       "    </tr>\n",
       "    <tr>\n",
       "      <td>2</td>\n",
       "      <td>1</td>\n",
       "      <td>2</td>\n",
       "      <td>Дуэт</td>\n",
       "      <td>Спальня</td>\n",
       "      <td>Шкаф для одежды</td>\n",
       "      <td>4-х дверный (без зеркала)</td>\n",
       "      <td>233-01/04Б</td>\n",
       "      <td>Без отделки</td>\n",
       "      <td>3.0</td>\n",
       "      <td>31.05.2020</td>\n",
       "      <td>1.0</td>\n",
       "      <td>0.0</td>\n",
       "    </tr>\n",
       "    <tr>\n",
       "      <td>3</td>\n",
       "      <td>2</td>\n",
       "      <td>1</td>\n",
       "      <td>Дуэт</td>\n",
       "      <td>Спальня</td>\n",
       "      <td>Комод</td>\n",
       "      <td>NaN</td>\n",
       "      <td>233-04</td>\n",
       "      <td>Без отделки</td>\n",
       "      <td>11.0</td>\n",
       "      <td>31.05.2020</td>\n",
       "      <td>5.0</td>\n",
       "      <td>3.0</td>\n",
       "    </tr>\n",
       "    <tr>\n",
       "      <td>4</td>\n",
       "      <td>1</td>\n",
       "      <td>2</td>\n",
       "      <td>Дуэт</td>\n",
       "      <td>Спальня</td>\n",
       "      <td>Зеркало</td>\n",
       "      <td>NaN</td>\n",
       "      <td>233-05</td>\n",
       "      <td>Без отделки</td>\n",
       "      <td>2.0</td>\n",
       "      <td>31.05.2020</td>\n",
       "      <td>2.0</td>\n",
       "      <td>1.0</td>\n",
       "    </tr>\n",
       "  </tbody>\n",
       "</table>\n",
       "</div>"
      ],
      "text/plain": [
       "   Код клиента  Страна происхождения клиента  Серия Назначение  \\\n",
       "0            2                             2  Дуэт     Спальня   \n",
       "1            1                             1  Дуэт     Спальня   \n",
       "2            1                             2  Дуэт     Спальня   \n",
       "3            2                             1  Дуэт     Спальня   \n",
       "4            1                             2  Дуэт     Спальня   \n",
       "\n",
       "  Наименование изделия      характеристики товара     артикул  Тип отделки  \\\n",
       "0      Шкаф для одежды                3-х дверный   233-01/03  Без отделки   \n",
       "1      Шкаф для одежды  3-х дверный (без зеркала)  233-01/03Б  Без отделки   \n",
       "2      Шкаф для одежды  4-х дверный (без зеркала)  233-01/04Б  Без отделки   \n",
       "3                Комод                        NaN      233-04  Без отделки   \n",
       "4              Зеркало                        NaN      233-05  Без отделки   \n",
       "\n",
       "   Остатки на начало месяца (или конец предыдущего)  \\\n",
       "0                                               0.0   \n",
       "1                                               3.0   \n",
       "2                                               3.0   \n",
       "3                                              11.0   \n",
       "4                                               2.0   \n",
       "\n",
       "  Дата конца месяца (месяц заказа)  Заказ, шт  Факт поставки  \n",
       "0                       31.05.2020        1.0            1.0  \n",
       "1                       31.05.2020        1.0            1.0  \n",
       "2                       31.05.2020        1.0            0.0  \n",
       "3                       31.05.2020        5.0            3.0  \n",
       "4                       31.05.2020        2.0            1.0  "
      ]
     },
     "execution_count": 132,
     "metadata": {},
     "output_type": "execute_result"
    }
   ],
   "source": [
    "df.head()"
   ]
  },
  {
   "cell_type": "code",
   "execution_count": 133,
   "metadata": {},
   "outputs": [],
   "source": [
    "df_train = df[df.index < 2298].copy()"
   ]
  },
  {
   "cell_type": "code",
   "execution_count": 134,
   "metadata": {},
   "outputs": [],
   "source": [
    "dict_series = {'Дуэт ': 'duet', 'Нинель': 'Ninel', 'Сабрина': 'Sabrina', \n",
    "               'Соната': 'Sonata', 'Трио': 'Trio', 'Влада': 'Vlada', \n",
    "               'Глория': 'Gloria', 'Лаура': 'Laura', 'Лика': 'Lika', 'Лолита': 'Lolita', \n",
    "               'Лорена': 'Lorena', 'Луиза': 'Louise', 'Милана': 'Milan', 'Мокко': 'Mocha',\n",
    "               'Оливия': 'Olivia', 'Оскар': 'Oscar', 'Яна': 'Yana', 'Давиль': 'Daville', \n",
    "               'Полонез': 'Polonaise', 'Луи': 'Louis', 'Янина': 'Ioannina',\n",
    "               'Амадей': 'Amadeus', 'Оксфорд': 'Oxford', 'Грация': 'Grace', \n",
    "               'Вика': 'Vika', 'Орхидея': 'Orchid', 'Стелла': 'Stella', 'Турин': 'Turin'}"
   ]
  },
  {
   "cell_type": "code",
   "execution_count": 135,
   "metadata": {},
   "outputs": [],
   "source": [
    "df_train['Серия'] = df_train['Серия'].apply(lambda row: dict_series[row])"
   ]
  },
  {
   "cell_type": "code",
   "execution_count": 136,
   "metadata": {},
   "outputs": [
    {
     "data": {
      "text/html": [
       "<div>\n",
       "<style scoped>\n",
       "    .dataframe tbody tr th:only-of-type {\n",
       "        vertical-align: middle;\n",
       "    }\n",
       "\n",
       "    .dataframe tbody tr th {\n",
       "        vertical-align: top;\n",
       "    }\n",
       "\n",
       "    .dataframe thead th {\n",
       "        text-align: right;\n",
       "    }\n",
       "</style>\n",
       "<table border=\"1\" class=\"dataframe\">\n",
       "  <thead>\n",
       "    <tr style=\"text-align: right;\">\n",
       "      <th></th>\n",
       "      <th>Код клиента</th>\n",
       "      <th>Страна происхождения клиента</th>\n",
       "      <th>Серия</th>\n",
       "      <th>Назначение</th>\n",
       "      <th>Наименование изделия</th>\n",
       "      <th>характеристики товара</th>\n",
       "      <th>артикул</th>\n",
       "      <th>Тип отделки</th>\n",
       "      <th>Остатки на начало месяца (или конец предыдущего)</th>\n",
       "      <th>Дата конца месяца (месяц заказа)</th>\n",
       "      <th>Заказ, шт</th>\n",
       "      <th>Факт поставки</th>\n",
       "    </tr>\n",
       "  </thead>\n",
       "  <tbody>\n",
       "    <tr>\n",
       "      <td>0</td>\n",
       "      <td>2</td>\n",
       "      <td>2</td>\n",
       "      <td>duet</td>\n",
       "      <td>Спальня</td>\n",
       "      <td>Шкаф для одежды</td>\n",
       "      <td>3-х дверный</td>\n",
       "      <td>233-01/03</td>\n",
       "      <td>Без отделки</td>\n",
       "      <td>0.0</td>\n",
       "      <td>31.05.2020</td>\n",
       "      <td>1.0</td>\n",
       "      <td>1.0</td>\n",
       "    </tr>\n",
       "  </tbody>\n",
       "</table>\n",
       "</div>"
      ],
      "text/plain": [
       "   Код клиента  Страна происхождения клиента Серия Назначение  \\\n",
       "0            2                             2  duet    Спальня   \n",
       "\n",
       "  Наименование изделия характеристики товара    артикул  Тип отделки  \\\n",
       "0      Шкаф для одежды           3-х дверный  233-01/03  Без отделки   \n",
       "\n",
       "   Остатки на начало месяца (или конец предыдущего)  \\\n",
       "0                                               0.0   \n",
       "\n",
       "  Дата конца месяца (месяц заказа)  Заказ, шт  Факт поставки  \n",
       "0                       31.05.2020        1.0            1.0  "
      ]
     },
     "execution_count": 136,
     "metadata": {},
     "output_type": "execute_result"
    }
   ],
   "source": [
    "df_train.head(1)"
   ]
  },
  {
   "cell_type": "code",
   "execution_count": 137,
   "metadata": {},
   "outputs": [],
   "source": [
    "le = LabelEncoder()\n",
    "le.fit(df_train['Серия'])\n",
    "df_train['Series_code'] = le.transform(df_train['Серия'])"
   ]
  },
  {
   "cell_type": "code",
   "execution_count": 138,
   "metadata": {},
   "outputs": [],
   "source": [
    "dict_name_goods = {'Шкаф для одежды': 'Wardrobe', 'Комод': 'Chest of drawers', \n",
    "                   'Зеркало': 'Mirror', 'Кровать': 'Bed', 'Тумба прикроватная': 'Nightstand', \n",
    "                   'Стол туалетный': 'Dressing table', 'Шкаф комбинированный': 'Combined cabinet',\n",
    "                   'Стол письменный': 'Desk', 'Полка': 'Shelf', 'Тумба': 'Curbstone', \n",
    "                   'Сундук': 'Chest', 'Банкетка': 'Bench', 'Шкаф с витриной': 'Wardrobe with showcase', \n",
    "                   'Стол обеденный': 'Dining table', 'Шкаф навесной': 'Wall cabinet', 'Цоколь': 'Plinth',\n",
    "                   'Стол журнальный': 'Coffee table', 'Тумба под телевизор': 'TV table', \n",
    "                   'Щит навесной': 'Hinged shield', 'Консоль': 'Console'}"
   ]
  },
  {
   "cell_type": "code",
   "execution_count": 139,
   "metadata": {},
   "outputs": [],
   "source": [
    "df_train['Наименование изделия'] = df_train['Наименование изделия'].apply(lambda row: dict_name_goods[row])"
   ]
  },
  {
   "cell_type": "code",
   "execution_count": 140,
   "metadata": {},
   "outputs": [],
   "source": [
    "le = LabelEncoder()\n",
    "le.fit(df_train['Наименование изделия'])\n",
    "df_train['name_goods_code'] = le.transform(df_train['Наименование изделия'])"
   ]
  },
  {
   "cell_type": "code",
   "execution_count": 141,
   "metadata": {},
   "outputs": [],
   "source": [
    "dict_name_aim ={'Спальня': 'Bedroom', 'Общая комната': 'common room', 'Столовая': 'Canteen', \n",
    "                'Гостинная': 'Living room', 'Банкетки': 'Banquet',\n",
    "                'Шкаф для одежды': 'Wardrobe', 'Кровать': 'Bed', \n",
    "                'Тумба прикроватная': 'Nightstand', 'Комод': 'Chest of drawers',\n",
    "                'Зеркало': 'Mirror', 'Стол туалетный': 'Dressing table', 'Шкаф комбинированный': 'Combined cabinet',\n",
    "                'Стол письменный': 'Desk', 'Полка': 'Shelf', 'Тумба': 'Curbstone', 'Сундук': 'Chest',\n",
    "                'Банкетка': 'Bench', 'Шкаф с витриной': 'Wardrobe with showcase', \n",
    "                'Стол обеденный': 'Dining table', 'Стол журнальный': 'Coffee table',\n",
    "                'Шкаф навесной': 'Wall cabinet', 'Цоколь': 'Plinth', \n",
    "                'Тумба под телевизор': 'TV table', 'Консоль': 'Console',\n",
    "                'Щит навесной': 'Hinged shield', 'Библиотека': 'Library'}"
   ]
  },
  {
   "cell_type": "code",
   "execution_count": 142,
   "metadata": {},
   "outputs": [],
   "source": [
    "df_train['Назначение'] = df_train['Назначение'].apply(lambda row: dict_name_aim[row])"
   ]
  },
  {
   "cell_type": "code",
   "execution_count": 143,
   "metadata": {},
   "outputs": [],
   "source": [
    "le = LabelEncoder()\n",
    "le.fit(df_train['Назначение'])\n",
    "df_train['name_aim_code'] = le.transform(df_train['Назначение'])"
   ]
  },
  {
   "cell_type": "code",
   "execution_count": 144,
   "metadata": {},
   "outputs": [],
   "source": [
    "df_train['NAN_characteristic'] = pd.isna(df_train['характеристики товара']).astype('int')"
   ]
  },
  {
   "cell_type": "code",
   "execution_count": 145,
   "metadata": {},
   "outputs": [],
   "source": [
    "df_train['characteristic'] = df_train['NAN_characteristic'].apply(lambda x: 0 if (x == 1) else 1)"
   ]
  },
  {
   "cell_type": "code",
   "execution_count": 146,
   "metadata": {},
   "outputs": [],
   "source": [
    "df_train['month'] = df_train['Дата конца месяца (месяц заказа)'].apply(lambda x: pd.to_datetime(x).month)"
   ]
  },
  {
   "cell_type": "code",
   "execution_count": 147,
   "metadata": {},
   "outputs": [],
   "source": [
    "df_train['артикул'] = df_train['артикул'].str.replace('Б', 'B')\n",
    "df_train['артикул'] = df_train['артикул'].str.replace('б', 'B')\n",
    "df_train['артикул'] = df_train['артикул'].str.replace('Р', 'R')\n",
    "df_train['артикул'] = df_train['артикул'].str.replace('З', 'Z')\n",
    "df_train['артикул'] = df_train['артикул'].str.replace('У', 'U')\n",
    "df_train['артикул'] = df_train['артикул'].str.replace('П', 'P')"
   ]
  },
  {
   "cell_type": "code",
   "execution_count": 148,
   "metadata": {},
   "outputs": [],
   "source": [
    "le = LabelEncoder()\n",
    "le.fit(df_train['артикул'])\n",
    "df_train['articul_code'] = le.transform(df_train['артикул'])"
   ]
  },
  {
   "cell_type": "code",
   "execution_count": 149,
   "metadata": {},
   "outputs": [
    {
     "data": {
      "text/html": [
       "<div>\n",
       "<style scoped>\n",
       "    .dataframe tbody tr th:only-of-type {\n",
       "        vertical-align: middle;\n",
       "    }\n",
       "\n",
       "    .dataframe tbody tr th {\n",
       "        vertical-align: top;\n",
       "    }\n",
       "\n",
       "    .dataframe thead th {\n",
       "        text-align: right;\n",
       "    }\n",
       "</style>\n",
       "<table border=\"1\" class=\"dataframe\">\n",
       "  <thead>\n",
       "    <tr style=\"text-align: right;\">\n",
       "      <th></th>\n",
       "      <th>Код клиента</th>\n",
       "      <th>Страна происхождения клиента</th>\n",
       "      <th>Серия</th>\n",
       "      <th>Назначение</th>\n",
       "      <th>Наименование изделия</th>\n",
       "      <th>характеристики товара</th>\n",
       "      <th>артикул</th>\n",
       "      <th>Тип отделки</th>\n",
       "      <th>Остатки на начало месяца (или конец предыдущего)</th>\n",
       "      <th>Дата конца месяца (месяц заказа)</th>\n",
       "      <th>Заказ, шт</th>\n",
       "      <th>Факт поставки</th>\n",
       "      <th>Series_code</th>\n",
       "      <th>name_goods_code</th>\n",
       "      <th>name_aim_code</th>\n",
       "      <th>NAN_characteristic</th>\n",
       "      <th>characteristic</th>\n",
       "      <th>month</th>\n",
       "      <th>articul_code</th>\n",
       "    </tr>\n",
       "  </thead>\n",
       "  <tbody>\n",
       "    <tr>\n",
       "      <td>0</td>\n",
       "      <td>2</td>\n",
       "      <td>2</td>\n",
       "      <td>duet</td>\n",
       "      <td>Bedroom</td>\n",
       "      <td>Wardrobe</td>\n",
       "      <td>3-х дверный</td>\n",
       "      <td>233-01/03</td>\n",
       "      <td>Без отделки</td>\n",
       "      <td>0.0</td>\n",
       "      <td>31.05.2020</td>\n",
       "      <td>1.0</td>\n",
       "      <td>1.0</td>\n",
       "      <td>27</td>\n",
       "      <td>18</td>\n",
       "      <td>2</td>\n",
       "      <td>0</td>\n",
       "      <td>1</td>\n",
       "      <td>5</td>\n",
       "      <td>145</td>\n",
       "    </tr>\n",
       "    <tr>\n",
       "      <td>1</td>\n",
       "      <td>1</td>\n",
       "      <td>1</td>\n",
       "      <td>duet</td>\n",
       "      <td>Bedroom</td>\n",
       "      <td>Wardrobe</td>\n",
       "      <td>3-х дверный (без зеркала)</td>\n",
       "      <td>233-01/03B</td>\n",
       "      <td>Без отделки</td>\n",
       "      <td>3.0</td>\n",
       "      <td>31.05.2020</td>\n",
       "      <td>1.0</td>\n",
       "      <td>1.0</td>\n",
       "      <td>27</td>\n",
       "      <td>18</td>\n",
       "      <td>2</td>\n",
       "      <td>0</td>\n",
       "      <td>1</td>\n",
       "      <td>5</td>\n",
       "      <td>146</td>\n",
       "    </tr>\n",
       "    <tr>\n",
       "      <td>2</td>\n",
       "      <td>1</td>\n",
       "      <td>2</td>\n",
       "      <td>duet</td>\n",
       "      <td>Bedroom</td>\n",
       "      <td>Wardrobe</td>\n",
       "      <td>4-х дверный (без зеркала)</td>\n",
       "      <td>233-01/04B</td>\n",
       "      <td>Без отделки</td>\n",
       "      <td>3.0</td>\n",
       "      <td>31.05.2020</td>\n",
       "      <td>1.0</td>\n",
       "      <td>0.0</td>\n",
       "      <td>27</td>\n",
       "      <td>18</td>\n",
       "      <td>2</td>\n",
       "      <td>0</td>\n",
       "      <td>1</td>\n",
       "      <td>5</td>\n",
       "      <td>147</td>\n",
       "    </tr>\n",
       "    <tr>\n",
       "      <td>3</td>\n",
       "      <td>2</td>\n",
       "      <td>1</td>\n",
       "      <td>duet</td>\n",
       "      <td>Bedroom</td>\n",
       "      <td>Chest of drawers</td>\n",
       "      <td>NaN</td>\n",
       "      <td>233-04</td>\n",
       "      <td>Без отделки</td>\n",
       "      <td>11.0</td>\n",
       "      <td>31.05.2020</td>\n",
       "      <td>5.0</td>\n",
       "      <td>3.0</td>\n",
       "      <td>27</td>\n",
       "      <td>3</td>\n",
       "      <td>2</td>\n",
       "      <td>1</td>\n",
       "      <td>0</td>\n",
       "      <td>5</td>\n",
       "      <td>151</td>\n",
       "    </tr>\n",
       "    <tr>\n",
       "      <td>4</td>\n",
       "      <td>1</td>\n",
       "      <td>2</td>\n",
       "      <td>duet</td>\n",
       "      <td>Bedroom</td>\n",
       "      <td>Mirror</td>\n",
       "      <td>NaN</td>\n",
       "      <td>233-05</td>\n",
       "      <td>Без отделки</td>\n",
       "      <td>2.0</td>\n",
       "      <td>31.05.2020</td>\n",
       "      <td>2.0</td>\n",
       "      <td>1.0</td>\n",
       "      <td>27</td>\n",
       "      <td>12</td>\n",
       "      <td>2</td>\n",
       "      <td>1</td>\n",
       "      <td>0</td>\n",
       "      <td>5</td>\n",
       "      <td>152</td>\n",
       "    </tr>\n",
       "  </tbody>\n",
       "</table>\n",
       "</div>"
      ],
      "text/plain": [
       "   Код клиента  Страна происхождения клиента Серия Назначение  \\\n",
       "0            2                             2  duet    Bedroom   \n",
       "1            1                             1  duet    Bedroom   \n",
       "2            1                             2  duet    Bedroom   \n",
       "3            2                             1  duet    Bedroom   \n",
       "4            1                             2  duet    Bedroom   \n",
       "\n",
       "  Наименование изделия      характеристики товара     артикул  Тип отделки  \\\n",
       "0             Wardrobe                3-х дверный   233-01/03  Без отделки   \n",
       "1             Wardrobe  3-х дверный (без зеркала)  233-01/03B  Без отделки   \n",
       "2             Wardrobe  4-х дверный (без зеркала)  233-01/04B  Без отделки   \n",
       "3     Chest of drawers                        NaN      233-04  Без отделки   \n",
       "4               Mirror                        NaN      233-05  Без отделки   \n",
       "\n",
       "   Остатки на начало месяца (или конец предыдущего)  \\\n",
       "0                                               0.0   \n",
       "1                                               3.0   \n",
       "2                                               3.0   \n",
       "3                                              11.0   \n",
       "4                                               2.0   \n",
       "\n",
       "  Дата конца месяца (месяц заказа)  Заказ, шт  Факт поставки  Series_code  \\\n",
       "0                       31.05.2020        1.0            1.0           27   \n",
       "1                       31.05.2020        1.0            1.0           27   \n",
       "2                       31.05.2020        1.0            0.0           27   \n",
       "3                       31.05.2020        5.0            3.0           27   \n",
       "4                       31.05.2020        2.0            1.0           27   \n",
       "\n",
       "   name_goods_code  name_aim_code  NAN_characteristic  characteristic  month  \\\n",
       "0               18              2                   0               1      5   \n",
       "1               18              2                   0               1      5   \n",
       "2               18              2                   0               1      5   \n",
       "3                3              2                   1               0      5   \n",
       "4               12              2                   1               0      5   \n",
       "\n",
       "   articul_code  \n",
       "0           145  \n",
       "1           146  \n",
       "2           147  \n",
       "3           151  \n",
       "4           152  "
      ]
     },
     "execution_count": 149,
     "metadata": {},
     "output_type": "execute_result"
    }
   ],
   "source": [
    "df_train.head()"
   ]
  },
  {
   "cell_type": "code",
   "execution_count": 150,
   "metadata": {},
   "outputs": [],
   "source": [
    "df_model = df_train[['Остатки на начало месяца (или конец предыдущего)', 'Заказ, шт', 'Series_code', \n",
    "                     'name_goods_code', 'name_aim_code', 'NAN_characteristic', \n",
    "                     'characteristic', 'month', 'articul_code']]\n",
    "Y = df_train['Факт поставки']"
   ]
  },
  {
   "cell_type": "code",
   "execution_count": 151,
   "metadata": {},
   "outputs": [],
   "source": [
    "from sklearn.model_selection import train_test_split \n",
    "from sklearn.ensemble import RandomForestRegressor \n",
    "from sklearn import metrics\n",
    "from sklearn.preprocessing import StandardScaler\n",
    "import matplotlib.pyplot as plt\n",
    "from math import *\n"
   ]
  },
  {
   "cell_type": "code",
   "execution_count": 152,
   "metadata": {},
   "outputs": [
    {
     "name": "stderr",
     "output_type": "stream",
     "text": [
      "C:\\Users\\User\\Anaconda3\\lib\\site-packages\\ipykernel_launcher.py:7: SettingWithCopyWarning: \n",
      "A value is trying to be set on a copy of a slice from a DataFrame.\n",
      "Try using .loc[row_indexer,col_indexer] = value instead\n",
      "\n",
      "See the caveats in the documentation: http://pandas.pydata.org/pandas-docs/stable/user_guide/indexing.html#returning-a-view-versus-a-copy\n",
      "  import sys\n",
      "C:\\Users\\User\\Anaconda3\\lib\\site-packages\\ipykernel_launcher.py:9: SettingWithCopyWarning: \n",
      "A value is trying to be set on a copy of a slice from a DataFrame.\n",
      "Try using .loc[row_indexer,col_indexer] = value instead\n",
      "\n",
      "See the caveats in the documentation: http://pandas.pydata.org/pandas-docs/stable/user_guide/indexing.html#returning-a-view-versus-a-copy\n",
      "  if __name__ == '__main__':\n",
      "C:\\Users\\User\\Anaconda3\\lib\\site-packages\\ipykernel_launcher.py:7: SettingWithCopyWarning: \n",
      "A value is trying to be set on a copy of a slice from a DataFrame.\n",
      "Try using .loc[row_indexer,col_indexer] = value instead\n",
      "\n",
      "See the caveats in the documentation: http://pandas.pydata.org/pandas-docs/stable/user_guide/indexing.html#returning-a-view-versus-a-copy\n",
      "  import sys\n",
      "C:\\Users\\User\\Anaconda3\\lib\\site-packages\\ipykernel_launcher.py:9: SettingWithCopyWarning: \n",
      "A value is trying to be set on a copy of a slice from a DataFrame.\n",
      "Try using .loc[row_indexer,col_indexer] = value instead\n",
      "\n",
      "See the caveats in the documentation: http://pandas.pydata.org/pandas-docs/stable/user_guide/indexing.html#returning-a-view-versus-a-copy\n",
      "  if __name__ == '__main__':\n",
      "C:\\Users\\User\\Anaconda3\\lib\\site-packages\\ipykernel_launcher.py:7: SettingWithCopyWarning: \n",
      "A value is trying to be set on a copy of a slice from a DataFrame.\n",
      "Try using .loc[row_indexer,col_indexer] = value instead\n",
      "\n",
      "See the caveats in the documentation: http://pandas.pydata.org/pandas-docs/stable/user_guide/indexing.html#returning-a-view-versus-a-copy\n",
      "  import sys\n",
      "C:\\Users\\User\\Anaconda3\\lib\\site-packages\\ipykernel_launcher.py:9: SettingWithCopyWarning: \n",
      "A value is trying to be set on a copy of a slice from a DataFrame.\n",
      "Try using .loc[row_indexer,col_indexer] = value instead\n",
      "\n",
      "See the caveats in the documentation: http://pandas.pydata.org/pandas-docs/stable/user_guide/indexing.html#returning-a-view-versus-a-copy\n",
      "  if __name__ == '__main__':\n",
      "C:\\Users\\User\\Anaconda3\\lib\\site-packages\\ipykernel_launcher.py:7: SettingWithCopyWarning: \n",
      "A value is trying to be set on a copy of a slice from a DataFrame.\n",
      "Try using .loc[row_indexer,col_indexer] = value instead\n",
      "\n",
      "See the caveats in the documentation: http://pandas.pydata.org/pandas-docs/stable/user_guide/indexing.html#returning-a-view-versus-a-copy\n",
      "  import sys\n",
      "C:\\Users\\User\\Anaconda3\\lib\\site-packages\\ipykernel_launcher.py:9: SettingWithCopyWarning: \n",
      "A value is trying to be set on a copy of a slice from a DataFrame.\n",
      "Try using .loc[row_indexer,col_indexer] = value instead\n",
      "\n",
      "See the caveats in the documentation: http://pandas.pydata.org/pandas-docs/stable/user_guide/indexing.html#returning-a-view-versus-a-copy\n",
      "  if __name__ == '__main__':\n",
      "C:\\Users\\User\\Anaconda3\\lib\\site-packages\\ipykernel_launcher.py:7: SettingWithCopyWarning: \n",
      "A value is trying to be set on a copy of a slice from a DataFrame.\n",
      "Try using .loc[row_indexer,col_indexer] = value instead\n",
      "\n",
      "See the caveats in the documentation: http://pandas.pydata.org/pandas-docs/stable/user_guide/indexing.html#returning-a-view-versus-a-copy\n",
      "  import sys\n",
      "C:\\Users\\User\\Anaconda3\\lib\\site-packages\\ipykernel_launcher.py:9: SettingWithCopyWarning: \n",
      "A value is trying to be set on a copy of a slice from a DataFrame.\n",
      "Try using .loc[row_indexer,col_indexer] = value instead\n",
      "\n",
      "See the caveats in the documentation: http://pandas.pydata.org/pandas-docs/stable/user_guide/indexing.html#returning-a-view-versus-a-copy\n",
      "  if __name__ == '__main__':\n",
      "C:\\Users\\User\\Anaconda3\\lib\\site-packages\\ipykernel_launcher.py:7: SettingWithCopyWarning: \n",
      "A value is trying to be set on a copy of a slice from a DataFrame.\n",
      "Try using .loc[row_indexer,col_indexer] = value instead\n",
      "\n",
      "See the caveats in the documentation: http://pandas.pydata.org/pandas-docs/stable/user_guide/indexing.html#returning-a-view-versus-a-copy\n",
      "  import sys\n",
      "C:\\Users\\User\\Anaconda3\\lib\\site-packages\\ipykernel_launcher.py:9: SettingWithCopyWarning: \n",
      "A value is trying to be set on a copy of a slice from a DataFrame.\n",
      "Try using .loc[row_indexer,col_indexer] = value instead\n",
      "\n",
      "See the caveats in the documentation: http://pandas.pydata.org/pandas-docs/stable/user_guide/indexing.html#returning-a-view-versus-a-copy\n",
      "  if __name__ == '__main__':\n",
      "C:\\Users\\User\\Anaconda3\\lib\\site-packages\\ipykernel_launcher.py:7: SettingWithCopyWarning: \n",
      "A value is trying to be set on a copy of a slice from a DataFrame.\n",
      "Try using .loc[row_indexer,col_indexer] = value instead\n",
      "\n",
      "See the caveats in the documentation: http://pandas.pydata.org/pandas-docs/stable/user_guide/indexing.html#returning-a-view-versus-a-copy\n",
      "  import sys\n",
      "C:\\Users\\User\\Anaconda3\\lib\\site-packages\\ipykernel_launcher.py:9: SettingWithCopyWarning: \n",
      "A value is trying to be set on a copy of a slice from a DataFrame.\n",
      "Try using .loc[row_indexer,col_indexer] = value instead\n",
      "\n",
      "See the caveats in the documentation: http://pandas.pydata.org/pandas-docs/stable/user_guide/indexing.html#returning-a-view-versus-a-copy\n",
      "  if __name__ == '__main__':\n",
      "C:\\Users\\User\\Anaconda3\\lib\\site-packages\\ipykernel_launcher.py:7: SettingWithCopyWarning: \n",
      "A value is trying to be set on a copy of a slice from a DataFrame.\n",
      "Try using .loc[row_indexer,col_indexer] = value instead\n",
      "\n",
      "See the caveats in the documentation: http://pandas.pydata.org/pandas-docs/stable/user_guide/indexing.html#returning-a-view-versus-a-copy\n",
      "  import sys\n",
      "C:\\Users\\User\\Anaconda3\\lib\\site-packages\\ipykernel_launcher.py:9: SettingWithCopyWarning: \n",
      "A value is trying to be set on a copy of a slice from a DataFrame.\n",
      "Try using .loc[row_indexer,col_indexer] = value instead\n",
      "\n",
      "See the caveats in the documentation: http://pandas.pydata.org/pandas-docs/stable/user_guide/indexing.html#returning-a-view-versus-a-copy\n",
      "  if __name__ == '__main__':\n",
      "C:\\Users\\User\\Anaconda3\\lib\\site-packages\\ipykernel_launcher.py:7: SettingWithCopyWarning: \n",
      "A value is trying to be set on a copy of a slice from a DataFrame.\n",
      "Try using .loc[row_indexer,col_indexer] = value instead\n",
      "\n",
      "See the caveats in the documentation: http://pandas.pydata.org/pandas-docs/stable/user_guide/indexing.html#returning-a-view-versus-a-copy\n",
      "  import sys\n",
      "C:\\Users\\User\\Anaconda3\\lib\\site-packages\\ipykernel_launcher.py:9: SettingWithCopyWarning: \n",
      "A value is trying to be set on a copy of a slice from a DataFrame.\n",
      "Try using .loc[row_indexer,col_indexer] = value instead\n",
      "\n",
      "See the caveats in the documentation: http://pandas.pydata.org/pandas-docs/stable/user_guide/indexing.html#returning-a-view-versus-a-copy\n",
      "  if __name__ == '__main__':\n"
     ]
    }
   ],
   "source": [
    "def StandardScaler_column(d_col):\n",
    "    scaler = StandardScaler()\n",
    "    scaler.fit(df_model[[d_col]])\n",
    "    return scaler.transform(df_model[[d_col]])\n",
    "\n",
    "for column in df_model.columns:\n",
    "    df_model[column] = StandardScaler_column(column)\n",
    "    if len(df_model[df_model[column].isna()]) < len(df_model):\n",
    "        df_model[column] = df_model[column].fillna(0)"
   ]
  },
  {
   "cell_type": "code",
   "execution_count": 153,
   "metadata": {},
   "outputs": [],
   "source": [
    "X_train, X_test, y_train, y_test = train_test_split(df_model, Y, test_size=0.2, random_state=42)"
   ]
  },
  {
   "cell_type": "code",
   "execution_count": 154,
   "metadata": {},
   "outputs": [],
   "source": [
    "model = RandomForestRegressor(n_estimators=100, verbose=1, n_jobs=-1, random_state=42)"
   ]
  },
  {
   "cell_type": "code",
   "execution_count": 155,
   "metadata": {},
   "outputs": [
    {
     "name": "stderr",
     "output_type": "stream",
     "text": [
      "[Parallel(n_jobs=-1)]: Using backend ThreadingBackend with 8 concurrent workers.\n",
      "[Parallel(n_jobs=-1)]: Done  34 tasks      | elapsed:    0.0s\n",
      "[Parallel(n_jobs=-1)]: Done 100 out of 100 | elapsed:    0.1s finished\n"
     ]
    },
    {
     "data": {
      "text/plain": [
       "RandomForestRegressor(bootstrap=True, criterion='mse', max_depth=None,\n",
       "                      max_features='auto', max_leaf_nodes=None,\n",
       "                      min_impurity_decrease=0.0, min_impurity_split=None,\n",
       "                      min_samples_leaf=1, min_samples_split=2,\n",
       "                      min_weight_fraction_leaf=0.0, n_estimators=100, n_jobs=-1,\n",
       "                      oob_score=False, random_state=42, verbose=1,\n",
       "                      warm_start=False)"
      ]
     },
     "execution_count": 155,
     "metadata": {},
     "output_type": "execute_result"
    }
   ],
   "source": [
    "model.fit(X_train, y_train)"
   ]
  },
  {
   "cell_type": "code",
   "execution_count": 156,
   "metadata": {},
   "outputs": [
    {
     "name": "stderr",
     "output_type": "stream",
     "text": [
      "[Parallel(n_jobs=8)]: Using backend ThreadingBackend with 8 concurrent workers.\n",
      "[Parallel(n_jobs=8)]: Done  34 tasks      | elapsed:    0.0s\n",
      "[Parallel(n_jobs=8)]: Done 100 out of 100 | elapsed:    0.0s finished\n"
     ]
    }
   ],
   "source": [
    "y_pred = model.predict(X_test)"
   ]
  },
  {
   "cell_type": "code",
   "execution_count": 157,
   "metadata": {},
   "outputs": [],
   "source": [
    "pred_y = []\n",
    "for element in y_pred:\n",
    "    pred_y.append(trunc(element))"
   ]
  },
  {
   "cell_type": "code",
   "execution_count": 158,
   "metadata": {},
   "outputs": [],
   "source": [
    "pred_y = pd.DataFrame(pred_y)"
   ]
  },
  {
   "cell_type": "code",
   "execution_count": 159,
   "metadata": {},
   "outputs": [
    {
     "name": "stdout",
     "output_type": "stream",
     "text": [
      "MAE: 1.1717391304347826\n"
     ]
    }
   ],
   "source": [
    "MAE = metrics.mean_absolute_error(y_test, pred_y)\n",
    "print('MAE:', MAE)"
   ]
  },
  {
   "cell_type": "code",
   "execution_count": 160,
   "metadata": {},
   "outputs": [],
   "source": [
    "y_test_list = []\n",
    "for element in y_test:\n",
    "    y_test_list.append(element)"
   ]
  },
  {
   "cell_type": "code",
   "execution_count": 161,
   "metadata": {},
   "outputs": [],
   "source": [
    "pred = pd.concat([pd.DataFrame(y_test_list),pred_y], axis=1)\n",
    "pred.columns = ['факт реализации', 'прогноз']"
   ]
  },
  {
   "cell_type": "code",
   "execution_count": 162,
   "metadata": {},
   "outputs": [
    {
     "data": {
      "text/html": [
       "<div>\n",
       "<style scoped>\n",
       "    .dataframe tbody tr th:only-of-type {\n",
       "        vertical-align: middle;\n",
       "    }\n",
       "\n",
       "    .dataframe tbody tr th {\n",
       "        vertical-align: top;\n",
       "    }\n",
       "\n",
       "    .dataframe thead th {\n",
       "        text-align: right;\n",
       "    }\n",
       "</style>\n",
       "<table border=\"1\" class=\"dataframe\">\n",
       "  <thead>\n",
       "    <tr style=\"text-align: right;\">\n",
       "      <th></th>\n",
       "      <th>факт реализации</th>\n",
       "      <th>прогноз</th>\n",
       "    </tr>\n",
       "  </thead>\n",
       "  <tbody>\n",
       "    <tr>\n",
       "      <td>0</td>\n",
       "      <td>2.0</td>\n",
       "      <td>1</td>\n",
       "    </tr>\n",
       "    <tr>\n",
       "      <td>1</td>\n",
       "      <td>0.0</td>\n",
       "      <td>1</td>\n",
       "    </tr>\n",
       "    <tr>\n",
       "      <td>2</td>\n",
       "      <td>1.0</td>\n",
       "      <td>0</td>\n",
       "    </tr>\n",
       "    <tr>\n",
       "      <td>3</td>\n",
       "      <td>2.0</td>\n",
       "      <td>2</td>\n",
       "    </tr>\n",
       "    <tr>\n",
       "      <td>4</td>\n",
       "      <td>2.0</td>\n",
       "      <td>1</td>\n",
       "    </tr>\n",
       "    <tr>\n",
       "      <td>...</td>\n",
       "      <td>...</td>\n",
       "      <td>...</td>\n",
       "    </tr>\n",
       "    <tr>\n",
       "      <td>455</td>\n",
       "      <td>1.0</td>\n",
       "      <td>1</td>\n",
       "    </tr>\n",
       "    <tr>\n",
       "      <td>456</td>\n",
       "      <td>1.0</td>\n",
       "      <td>0</td>\n",
       "    </tr>\n",
       "    <tr>\n",
       "      <td>457</td>\n",
       "      <td>1.0</td>\n",
       "      <td>4</td>\n",
       "    </tr>\n",
       "    <tr>\n",
       "      <td>458</td>\n",
       "      <td>0.0</td>\n",
       "      <td>2</td>\n",
       "    </tr>\n",
       "    <tr>\n",
       "      <td>459</td>\n",
       "      <td>1.0</td>\n",
       "      <td>0</td>\n",
       "    </tr>\n",
       "  </tbody>\n",
       "</table>\n",
       "<p>460 rows × 2 columns</p>\n",
       "</div>"
      ],
      "text/plain": [
       "     факт реализации  прогноз\n",
       "0                2.0        1\n",
       "1                0.0        1\n",
       "2                1.0        0\n",
       "3                2.0        2\n",
       "4                2.0        1\n",
       "..               ...      ...\n",
       "455              1.0        1\n",
       "456              1.0        0\n",
       "457              1.0        4\n",
       "458              0.0        2\n",
       "459              1.0        0\n",
       "\n",
       "[460 rows x 2 columns]"
      ]
     },
     "execution_count": 162,
     "metadata": {},
     "output_type": "execute_result"
    }
   ],
   "source": [
    "# факт и прогноз\n",
    "\n",
    "pred"
   ]
  },
  {
   "cell_type": "code",
   "execution_count": 163,
   "metadata": {},
   "outputs": [],
   "source": [
    "date = []\n",
    "for i in X_test.index:\n",
    "    date.append(df.loc[i, 'Дата конца месяца (месяц заказа)']) \n",
    "    "
   ]
  },
  {
   "cell_type": "code",
   "execution_count": 164,
   "metadata": {},
   "outputs": [],
   "source": [
    "pred = pd.concat([pred, pd.DataFrame(date)], axis=1)\n",
    "pred.columns = ['факт реализации', 'прогноз', 'date']"
   ]
  },
  {
   "cell_type": "code",
   "execution_count": 165,
   "metadata": {},
   "outputs": [
    {
     "data": {
      "text/html": [
       "<div>\n",
       "<style scoped>\n",
       "    .dataframe tbody tr th:only-of-type {\n",
       "        vertical-align: middle;\n",
       "    }\n",
       "\n",
       "    .dataframe tbody tr th {\n",
       "        vertical-align: top;\n",
       "    }\n",
       "\n",
       "    .dataframe thead th {\n",
       "        text-align: right;\n",
       "    }\n",
       "</style>\n",
       "<table border=\"1\" class=\"dataframe\">\n",
       "  <thead>\n",
       "    <tr style=\"text-align: right;\">\n",
       "      <th></th>\n",
       "      <th>факт реализации</th>\n",
       "      <th>прогноз</th>\n",
       "      <th>date</th>\n",
       "    </tr>\n",
       "  </thead>\n",
       "  <tbody>\n",
       "    <tr>\n",
       "      <td>0</td>\n",
       "      <td>2.0</td>\n",
       "      <td>1</td>\n",
       "      <td>31.03.2020</td>\n",
       "    </tr>\n",
       "    <tr>\n",
       "      <td>1</td>\n",
       "      <td>0.0</td>\n",
       "      <td>1</td>\n",
       "      <td>31.01.2020</td>\n",
       "    </tr>\n",
       "    <tr>\n",
       "      <td>2</td>\n",
       "      <td>1.0</td>\n",
       "      <td>0</td>\n",
       "      <td>31.05.2020</td>\n",
       "    </tr>\n",
       "    <tr>\n",
       "      <td>3</td>\n",
       "      <td>2.0</td>\n",
       "      <td>2</td>\n",
       "      <td>31.03.2020</td>\n",
       "    </tr>\n",
       "    <tr>\n",
       "      <td>4</td>\n",
       "      <td>2.0</td>\n",
       "      <td>1</td>\n",
       "      <td>31.05.2020</td>\n",
       "    </tr>\n",
       "  </tbody>\n",
       "</table>\n",
       "</div>"
      ],
      "text/plain": [
       "   факт реализации  прогноз        date\n",
       "0              2.0        1  31.03.2020\n",
       "1              0.0        1  31.01.2020\n",
       "2              1.0        0  31.05.2020\n",
       "3              2.0        2  31.03.2020\n",
       "4              2.0        1  31.05.2020"
      ]
     },
     "execution_count": 165,
     "metadata": {},
     "output_type": "execute_result"
    }
   ],
   "source": [
    "pred.head()"
   ]
  },
  {
   "cell_type": "code",
   "execution_count": 173,
   "metadata": {},
   "outputs": [
    {
     "data": {
      "text/plain": [
       "<matplotlib.legend.Legend at 0x23e0097dfc8>"
      ]
     },
     "execution_count": 173,
     "metadata": {},
     "output_type": "execute_result"
    },
    {
     "data": {
      "image/png": "[encoded data removed]",
      "text/plain": [
       "<Figure size 432x288 with 1 Axes>"
      ]
     },
     "metadata": {
      "needs_background": "light"
     },
     "output_type": "display_data"
    }
   ],
   "source": [
    "fig = plt.figure()\n",
    "axes = fig.add_axes([0, 0, 1, 1])\n",
    "axes.set_ylim(0, 60)\n",
    "axes.bar(x = pred.index, height = pred['прогноз'], \n",
    "                width = 0.4, align = 'edge', label = 'Прогноз продажи')\n",
    "axes.bar(x = pred.index, height = pred['факт реализации'], \n",
    "                width = -0.4, align = 'edge', label = 'Фактические продажи')\n",
    "axes.legend(loc = 1)"
   ]
  },
  {
   "cell_type": "code",
   "execution_count": 166,
   "metadata": {},
   "outputs": [],
   "source": [
    "pred_1 = pred.groupby('date').agg({'факт реализации': 'sum', 'прогноз': 'sum'}).reset_index()"
   ]
  },
  {
   "cell_type": "code",
   "execution_count": 169,
   "metadata": {},
   "outputs": [
    {
     "data": {
      "text/html": [
       "<div>\n",
       "<style scoped>\n",
       "    .dataframe tbody tr th:only-of-type {\n",
       "        vertical-align: middle;\n",
       "    }\n",
       "\n",
       "    .dataframe tbody tr th {\n",
       "        vertical-align: top;\n",
       "    }\n",
       "\n",
       "    .dataframe thead th {\n",
       "        text-align: right;\n",
       "    }\n",
       "</style>\n",
       "<table border=\"1\" class=\"dataframe\">\n",
       "  <thead>\n",
       "    <tr style=\"text-align: right;\">\n",
       "      <th></th>\n",
       "      <th>date</th>\n",
       "      <th>факт реализации</th>\n",
       "      <th>прогноз</th>\n",
       "    </tr>\n",
       "  </thead>\n",
       "  <tbody>\n",
       "    <tr>\n",
       "      <td>0</td>\n",
       "      <td>29.02.2020</td>\n",
       "      <td>194.0</td>\n",
       "      <td>165</td>\n",
       "    </tr>\n",
       "    <tr>\n",
       "      <td>1</td>\n",
       "      <td>30.04.2020</td>\n",
       "      <td>113.0</td>\n",
       "      <td>68</td>\n",
       "    </tr>\n",
       "    <tr>\n",
       "      <td>2</td>\n",
       "      <td>31.01.2020</td>\n",
       "      <td>284.0</td>\n",
       "      <td>226</td>\n",
       "    </tr>\n",
       "    <tr>\n",
       "      <td>3</td>\n",
       "      <td>31.03.2020</td>\n",
       "      <td>208.0</td>\n",
       "      <td>176</td>\n",
       "    </tr>\n",
       "    <tr>\n",
       "      <td>4</td>\n",
       "      <td>31.05.2020</td>\n",
       "      <td>112.0</td>\n",
       "      <td>61</td>\n",
       "    </tr>\n",
       "  </tbody>\n",
       "</table>\n",
       "</div>"
      ],
      "text/plain": [
       "         date  факт реализации  прогноз\n",
       "0  29.02.2020            194.0      165\n",
       "1  30.04.2020            113.0       68\n",
       "2  31.01.2020            284.0      226\n",
       "3  31.03.2020            208.0      176\n",
       "4  31.05.2020            112.0       61"
      ]
     },
     "execution_count": 169,
     "metadata": {},
     "output_type": "execute_result"
    }
   ],
   "source": [
    "pred_1.head()"
   ]
  },
  {
   "cell_type": "code",
   "execution_count": 172,
   "metadata": {},
   "outputs": [
    {
     "data": {
      "text/plain": [
       "<matplotlib.legend.Legend at 0x23e0091f0c8>"
      ]
     },
     "execution_count": 172,
     "metadata": {},
     "output_type": "execute_result"
    },
    {
     "data": {
      "image/png": "[encoded data removed]",
      "text/plain": [
       "<Figure size 432x288 with 1 Axes>"
      ]
     },
     "metadata": {
      "needs_background": "light"
     },
     "output_type": "display_data"
    }
   ],
   "source": [
    "fig = plt.figure()\n",
    "axes = fig.add_axes([0, 0, 1, 1])\n",
    "axes.set_ylim(0, 60)\n",
    "axes.bar(x = pred_1.date, height = pred_1['прогноз'], \n",
    "                width = 0.4, align = 'edge', label = 'Прогноз продажи')\n",
    "axes.bar(x = pred_1.date, height = pred_1['факт реализации'], \n",
    "                width = -0.4, align = 'edge', label = 'Фактические продажи')\n",
    "axes.legend(loc = 1)"
   ]
  },
  {
   "cell_type": "code",
   "execution_count": null,
   "metadata": {},
   "outputs": [],
   "source": [
    "X_test.head()"
   ]
  },
  {
   "cell_type": "code",
   "execution_count": null,
   "metadata": {},
   "outputs": [],
   "source": [
    "df.head()"
   ]
  },
  {
   "cell_type": "code",
   "execution_count": null,
   "metadata": {},
   "outputs": [],
   "source": [
    "df.loc[0, 'Дата конца месяца (месяц заказа)']"
   ]
  },
  {
   "cell_type": "code",
   "execution_count": null,
   "metadata": {},
   "outputs": [],
   "source": []
  }
 ],
 "metadata": {
  "kernelspec": {
   "display_name": "Python 3",
   "language": "python",
   "name": "python3"
  },
  "language_info": {
   "codemirror_mode": {
    "name": "ipython",
    "version": 3
   },
   "file_extension": ".py",
   "mimetype": "text/x-python",
   "name": "python",
   "nbconvert_exporter": "python",
   "pygments_lexer": "ipython3",
   "version": "3.7.4"
  }
 },
 "nbformat": 4,
 "nbformat_minor": 2
}
