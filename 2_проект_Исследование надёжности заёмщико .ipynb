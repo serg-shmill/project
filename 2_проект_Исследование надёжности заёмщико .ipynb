{
 "cells": [
  {
   "cell_type": "markdown",
   "metadata": {},
   "source": [
    "------------\n",
    "\n",
    "# Комментарии\n",
    "\n",
    "Привет, Сергей!\n",
    "\n",
    "Я проверила твою работу и оставила в ней комментарии. Комментарии оформлены в таких ячейках и вставлены сразу после ячейки или группы ячеек, к которым относятся. А в самом низу общие комментарии по работе. Надеюсь, тебе все будет понятно :)\n",
    "\n",
    "Ты справился с проектом, поздравляю)\n",
    "\n",
    "------------"
   ]
  },
  {
   "cell_type": "markdown",
   "metadata": {},
   "source": [
    "Открытие файла\n",
    "-----\n",
    "Открываем файл __.csv__ с данными по адрессу _/datasets/data.csv_ \n",
    "Вывели общую информацию: название столбцев, количество, тип данных.\n",
    "Вывели первые 5 строк на экран для понимания, как представленны данные"
   ]
  },
  {
   "cell_type": "code",
   "execution_count": 1,
   "metadata": {
    "scrolled": true
   },
   "outputs": [
    {
     "name": "stdout",
     "output_type": "stream",
     "text": [
      "<class 'pandas.core.frame.DataFrame'>\n",
      "RangeIndex: 21525 entries, 0 to 21524\n",
      "Data columns (total 12 columns):\n",
      "children            21525 non-null int64\n",
      "days_employed       19351 non-null float64\n",
      "dob_years           21525 non-null int64\n",
      "education           21525 non-null object\n",
      "education_id        21525 non-null int64\n",
      "family_status       21525 non-null object\n",
      "family_status_id    21525 non-null int64\n",
      "gender              21525 non-null object\n",
      "income_type         21525 non-null object\n",
      "debt                21525 non-null int64\n",
      "total_income        19351 non-null float64\n",
      "purpose             21525 non-null object\n",
      "dtypes: float64(2), int64(5), object(5)\n",
      "memory usage: 2.0+ MB\n",
      "None\n",
      "\n"
     ]
    },
    {
     "data": {
      "text/html": [
       "<div>\n",
       "<style scoped>\n",
       "    .dataframe tbody tr th:only-of-type {\n",
       "        vertical-align: middle;\n",
       "    }\n",
       "\n",
       "    .dataframe tbody tr th {\n",
       "        vertical-align: top;\n",
       "    }\n",
       "\n",
       "    .dataframe thead th {\n",
       "        text-align: right;\n",
       "    }\n",
       "</style>\n",
       "<table border=\"1\" class=\"dataframe\">\n",
       "  <thead>\n",
       "    <tr style=\"text-align: right;\">\n",
       "      <th></th>\n",
       "      <th>children</th>\n",
       "      <th>days_employed</th>\n",
       "      <th>dob_years</th>\n",
       "      <th>education</th>\n",
       "      <th>education_id</th>\n",
       "      <th>family_status</th>\n",
       "      <th>family_status_id</th>\n",
       "      <th>gender</th>\n",
       "      <th>income_type</th>\n",
       "      <th>debt</th>\n",
       "      <th>total_income</th>\n",
       "      <th>purpose</th>\n",
       "    </tr>\n",
       "  </thead>\n",
       "  <tbody>\n",
       "    <tr>\n",
       "      <td>0</td>\n",
       "      <td>1</td>\n",
       "      <td>-8437.673028</td>\n",
       "      <td>42</td>\n",
       "      <td>высшее</td>\n",
       "      <td>0</td>\n",
       "      <td>женат / замужем</td>\n",
       "      <td>0</td>\n",
       "      <td>F</td>\n",
       "      <td>сотрудник</td>\n",
       "      <td>0</td>\n",
       "      <td>253875.639453</td>\n",
       "      <td>покупка жилья</td>\n",
       "    </tr>\n",
       "    <tr>\n",
       "      <td>1</td>\n",
       "      <td>1</td>\n",
       "      <td>-4024.803754</td>\n",
       "      <td>36</td>\n",
       "      <td>среднее</td>\n",
       "      <td>1</td>\n",
       "      <td>женат / замужем</td>\n",
       "      <td>0</td>\n",
       "      <td>F</td>\n",
       "      <td>сотрудник</td>\n",
       "      <td>0</td>\n",
       "      <td>112080.014102</td>\n",
       "      <td>приобретение автомобиля</td>\n",
       "    </tr>\n",
       "    <tr>\n",
       "      <td>2</td>\n",
       "      <td>0</td>\n",
       "      <td>-5623.422610</td>\n",
       "      <td>33</td>\n",
       "      <td>Среднее</td>\n",
       "      <td>1</td>\n",
       "      <td>женат / замужем</td>\n",
       "      <td>0</td>\n",
       "      <td>M</td>\n",
       "      <td>сотрудник</td>\n",
       "      <td>0</td>\n",
       "      <td>145885.952297</td>\n",
       "      <td>покупка жилья</td>\n",
       "    </tr>\n",
       "    <tr>\n",
       "      <td>3</td>\n",
       "      <td>3</td>\n",
       "      <td>-4124.747207</td>\n",
       "      <td>32</td>\n",
       "      <td>среднее</td>\n",
       "      <td>1</td>\n",
       "      <td>женат / замужем</td>\n",
       "      <td>0</td>\n",
       "      <td>M</td>\n",
       "      <td>сотрудник</td>\n",
       "      <td>0</td>\n",
       "      <td>267628.550329</td>\n",
       "      <td>дополнительное образование</td>\n",
       "    </tr>\n",
       "    <tr>\n",
       "      <td>4</td>\n",
       "      <td>0</td>\n",
       "      <td>340266.072047</td>\n",
       "      <td>53</td>\n",
       "      <td>среднее</td>\n",
       "      <td>1</td>\n",
       "      <td>гражданский брак</td>\n",
       "      <td>1</td>\n",
       "      <td>F</td>\n",
       "      <td>пенсионер</td>\n",
       "      <td>0</td>\n",
       "      <td>158616.077870</td>\n",
       "      <td>сыграть свадьбу</td>\n",
       "    </tr>\n",
       "    <tr>\n",
       "      <td>5</td>\n",
       "      <td>0</td>\n",
       "      <td>-926.185831</td>\n",
       "      <td>27</td>\n",
       "      <td>высшее</td>\n",
       "      <td>0</td>\n",
       "      <td>гражданский брак</td>\n",
       "      <td>1</td>\n",
       "      <td>M</td>\n",
       "      <td>компаньон</td>\n",
       "      <td>0</td>\n",
       "      <td>255763.565419</td>\n",
       "      <td>покупка жилья</td>\n",
       "    </tr>\n",
       "    <tr>\n",
       "      <td>6</td>\n",
       "      <td>0</td>\n",
       "      <td>-2879.202052</td>\n",
       "      <td>43</td>\n",
       "      <td>высшее</td>\n",
       "      <td>0</td>\n",
       "      <td>женат / замужем</td>\n",
       "      <td>0</td>\n",
       "      <td>F</td>\n",
       "      <td>компаньон</td>\n",
       "      <td>0</td>\n",
       "      <td>240525.971920</td>\n",
       "      <td>операции с жильем</td>\n",
       "    </tr>\n",
       "    <tr>\n",
       "      <td>7</td>\n",
       "      <td>0</td>\n",
       "      <td>-152.779569</td>\n",
       "      <td>50</td>\n",
       "      <td>СРЕДНЕЕ</td>\n",
       "      <td>1</td>\n",
       "      <td>женат / замужем</td>\n",
       "      <td>0</td>\n",
       "      <td>M</td>\n",
       "      <td>сотрудник</td>\n",
       "      <td>0</td>\n",
       "      <td>135823.934197</td>\n",
       "      <td>образование</td>\n",
       "    </tr>\n",
       "    <tr>\n",
       "      <td>8</td>\n",
       "      <td>2</td>\n",
       "      <td>-6929.865299</td>\n",
       "      <td>35</td>\n",
       "      <td>ВЫСШЕЕ</td>\n",
       "      <td>0</td>\n",
       "      <td>гражданский брак</td>\n",
       "      <td>1</td>\n",
       "      <td>F</td>\n",
       "      <td>сотрудник</td>\n",
       "      <td>0</td>\n",
       "      <td>95856.832424</td>\n",
       "      <td>на проведение свадьбы</td>\n",
       "    </tr>\n",
       "    <tr>\n",
       "      <td>9</td>\n",
       "      <td>0</td>\n",
       "      <td>-2188.756445</td>\n",
       "      <td>41</td>\n",
       "      <td>среднее</td>\n",
       "      <td>1</td>\n",
       "      <td>женат / замужем</td>\n",
       "      <td>0</td>\n",
       "      <td>M</td>\n",
       "      <td>сотрудник</td>\n",
       "      <td>0</td>\n",
       "      <td>144425.938277</td>\n",
       "      <td>покупка жилья для семьи</td>\n",
       "    </tr>\n",
       "  </tbody>\n",
       "</table>\n",
       "</div>"
      ],
      "text/plain": [
       "   children  days_employed  dob_years education  education_id  \\\n",
       "0         1   -8437.673028         42    высшее             0   \n",
       "1         1   -4024.803754         36   среднее             1   \n",
       "2         0   -5623.422610         33   Среднее             1   \n",
       "3         3   -4124.747207         32   среднее             1   \n",
       "4         0  340266.072047         53   среднее             1   \n",
       "5         0    -926.185831         27    высшее             0   \n",
       "6         0   -2879.202052         43    высшее             0   \n",
       "7         0    -152.779569         50   СРЕДНЕЕ             1   \n",
       "8         2   -6929.865299         35    ВЫСШЕЕ             0   \n",
       "9         0   -2188.756445         41   среднее             1   \n",
       "\n",
       "      family_status  family_status_id gender income_type  debt   total_income  \\\n",
       "0   женат / замужем                 0      F   сотрудник     0  253875.639453   \n",
       "1   женат / замужем                 0      F   сотрудник     0  112080.014102   \n",
       "2   женат / замужем                 0      M   сотрудник     0  145885.952297   \n",
       "3   женат / замужем                 0      M   сотрудник     0  267628.550329   \n",
       "4  гражданский брак                 1      F   пенсионер     0  158616.077870   \n",
       "5  гражданский брак                 1      M   компаньон     0  255763.565419   \n",
       "6   женат / замужем                 0      F   компаньон     0  240525.971920   \n",
       "7   женат / замужем                 0      M   сотрудник     0  135823.934197   \n",
       "8  гражданский брак                 1      F   сотрудник     0   95856.832424   \n",
       "9   женат / замужем                 0      M   сотрудник     0  144425.938277   \n",
       "\n",
       "                      purpose  \n",
       "0               покупка жилья  \n",
       "1     приобретение автомобиля  \n",
       "2               покупка жилья  \n",
       "3  дополнительное образование  \n",
       "4             сыграть свадьбу  \n",
       "5               покупка жилья  \n",
       "6           операции с жильем  \n",
       "7                 образование  \n",
       "8       на проведение свадьбы  \n",
       "9     покупка жилья для семьи  "
      ]
     },
     "execution_count": 1,
     "metadata": {},
     "output_type": "execute_result"
    }
   ],
   "source": [
    "import pandas as pd\n",
    "data_loan_users = pd.read_csv('/datasets/data.csv')\n",
    "print(data_loan_users.info())\n",
    "print()\n",
    "data_loan_users.head(10)"
   ]
  },
  {
   "cell_type": "markdown",
   "metadata": {},
   "source": [
    "------------\n",
    "\n",
    "# Комментарии\n",
    "\n",
    "Отлично, данные загружены, есть их краткое описание)\n",
    "\n",
    "Мой совет: выводи первые строки таблицы в отдельной ячейке и без использования функции __print__ - это позволит увидеть таблицу в нормальном виде, без переноса столбцов на следующии строки. Также, строки таблицы и информацию о данных в таблице лучше выводить в разных ячейках - это облегчит восприятие информации)\n",
    "\n",
    "------------"
   ]
  },
  {
   "cell_type": "markdown",
   "metadata": {},
   "source": [
    "В столбце 'education' большое количество дубликатов. Убираем их с помощью функции str.lower() "
   ]
  },
  {
   "cell_type": "code",
   "execution_count": 2,
   "metadata": {
    "scrolled": false
   },
   "outputs": [
    {
     "data": {
      "text/html": [
       "<div>\n",
       "<style scoped>\n",
       "    .dataframe tbody tr th:only-of-type {\n",
       "        vertical-align: middle;\n",
       "    }\n",
       "\n",
       "    .dataframe tbody tr th {\n",
       "        vertical-align: top;\n",
       "    }\n",
       "\n",
       "    .dataframe thead th {\n",
       "        text-align: right;\n",
       "    }\n",
       "</style>\n",
       "<table border=\"1\" class=\"dataframe\">\n",
       "  <thead>\n",
       "    <tr style=\"text-align: right;\">\n",
       "      <th></th>\n",
       "      <th>children</th>\n",
       "      <th>days_employed</th>\n",
       "      <th>dob_years</th>\n",
       "      <th>education_id</th>\n",
       "      <th>family_status</th>\n",
       "      <th>family_status_id</th>\n",
       "      <th>gender</th>\n",
       "      <th>income_type</th>\n",
       "      <th>debt</th>\n",
       "      <th>total_income</th>\n",
       "      <th>purpose</th>\n",
       "    </tr>\n",
       "    <tr>\n",
       "      <th>education</th>\n",
       "      <th></th>\n",
       "      <th></th>\n",
       "      <th></th>\n",
       "      <th></th>\n",
       "      <th></th>\n",
       "      <th></th>\n",
       "      <th></th>\n",
       "      <th></th>\n",
       "      <th></th>\n",
       "      <th></th>\n",
       "      <th></th>\n",
       "    </tr>\n",
       "  </thead>\n",
       "  <tbody>\n",
       "    <tr>\n",
       "      <td>высшее</td>\n",
       "      <td>5260</td>\n",
       "      <td>4716</td>\n",
       "      <td>5260</td>\n",
       "      <td>5260</td>\n",
       "      <td>5260</td>\n",
       "      <td>5260</td>\n",
       "      <td>5260</td>\n",
       "      <td>5260</td>\n",
       "      <td>5260</td>\n",
       "      <td>4716</td>\n",
       "      <td>5260</td>\n",
       "    </tr>\n",
       "    <tr>\n",
       "      <td>начальное</td>\n",
       "      <td>282</td>\n",
       "      <td>261</td>\n",
       "      <td>282</td>\n",
       "      <td>282</td>\n",
       "      <td>282</td>\n",
       "      <td>282</td>\n",
       "      <td>282</td>\n",
       "      <td>282</td>\n",
       "      <td>282</td>\n",
       "      <td>261</td>\n",
       "      <td>282</td>\n",
       "    </tr>\n",
       "    <tr>\n",
       "      <td>неоконченное высшее</td>\n",
       "      <td>744</td>\n",
       "      <td>675</td>\n",
       "      <td>744</td>\n",
       "      <td>744</td>\n",
       "      <td>744</td>\n",
       "      <td>744</td>\n",
       "      <td>744</td>\n",
       "      <td>744</td>\n",
       "      <td>744</td>\n",
       "      <td>675</td>\n",
       "      <td>744</td>\n",
       "    </tr>\n",
       "    <tr>\n",
       "      <td>среднее</td>\n",
       "      <td>15233</td>\n",
       "      <td>13693</td>\n",
       "      <td>15233</td>\n",
       "      <td>15233</td>\n",
       "      <td>15233</td>\n",
       "      <td>15233</td>\n",
       "      <td>15233</td>\n",
       "      <td>15233</td>\n",
       "      <td>15233</td>\n",
       "      <td>13693</td>\n",
       "      <td>15233</td>\n",
       "    </tr>\n",
       "    <tr>\n",
       "      <td>ученая степень</td>\n",
       "      <td>6</td>\n",
       "      <td>6</td>\n",
       "      <td>6</td>\n",
       "      <td>6</td>\n",
       "      <td>6</td>\n",
       "      <td>6</td>\n",
       "      <td>6</td>\n",
       "      <td>6</td>\n",
       "      <td>6</td>\n",
       "      <td>6</td>\n",
       "      <td>6</td>\n",
       "    </tr>\n",
       "  </tbody>\n",
       "</table>\n",
       "</div>"
      ],
      "text/plain": [
       "                     children  days_employed  dob_years  education_id  \\\n",
       "education                                                               \n",
       "высшее                   5260           4716       5260          5260   \n",
       "начальное                 282            261        282           282   \n",
       "неоконченное высшее       744            675        744           744   \n",
       "среднее                 15233          13693      15233         15233   \n",
       "ученая степень              6              6          6             6   \n",
       "\n",
       "                     family_status  family_status_id  gender  income_type  \\\n",
       "education                                                                   \n",
       "высшее                        5260              5260    5260         5260   \n",
       "начальное                      282               282     282          282   \n",
       "неоконченное высшее            744               744     744          744   \n",
       "среднее                      15233             15233   15233        15233   \n",
       "ученая степень                   6                 6       6            6   \n",
       "\n",
       "                      debt  total_income  purpose  \n",
       "education                                          \n",
       "высшее                5260          4716     5260  \n",
       "начальное              282           261      282  \n",
       "неоконченное высшее    744           675      744  \n",
       "среднее              15233         13693    15233  \n",
       "ученая степень           6             6        6  "
      ]
     },
     "execution_count": 2,
     "metadata": {},
     "output_type": "execute_result"
    }
   ],
   "source": [
    "data_loan_users['education'] = data_loan_users['education'].str.lower()\n",
    "data_loan_users.groupby('education').count()"
   ]
  },
  {
   "cell_type": "markdown",
   "metadata": {},
   "source": [
    "Как видно, дубликаты убраны и данные из столбика __'education'__ можно использовать для анализа"
   ]
  },
  {
   "cell_type": "markdown",
   "metadata": {},
   "source": [
    "------------\n",
    "\n",
    "# Комментарии\n",
    "\n",
    "Отлично) избавились от дубликатов категорий в разных регистрах)\n",
    "\n",
    "Не хватает описания того, почему именно такой метод избавления от дубликатов выбран (указания типа дубликатов).\n",
    "\n",
    "Здесь для вывода можно было не использовать функцию __print__ . Достаточно просто написать выражение в скобках и получить таблицу более приятную для прочтения) \n",
    "\n",
    "------------"
   ]
  },
  {
   "cell_type": "markdown",
   "metadata": {},
   "source": [
    "Проверяе таблицу на дубликаты"
   ]
  },
  {
   "cell_type": "code",
   "execution_count": 3,
   "metadata": {
    "scrolled": false
   },
   "outputs": [
    {
     "data": {
      "text/plain": [
       "71"
      ]
     },
     "execution_count": 3,
     "metadata": {},
     "output_type": "execute_result"
    }
   ],
   "source": [
    "data_loan_users.duplicated().sum()\n"
   ]
  },
  {
   "cell_type": "code",
   "execution_count": 4,
   "metadata": {
    "scrolled": true
   },
   "outputs": [
    {
     "data": {
      "text/html": [
       "<div>\n",
       "<style scoped>\n",
       "    .dataframe tbody tr th:only-of-type {\n",
       "        vertical-align: middle;\n",
       "    }\n",
       "\n",
       "    .dataframe tbody tr th {\n",
       "        vertical-align: top;\n",
       "    }\n",
       "\n",
       "    .dataframe thead th {\n",
       "        text-align: right;\n",
       "    }\n",
       "</style>\n",
       "<table border=\"1\" class=\"dataframe\">\n",
       "  <thead>\n",
       "    <tr style=\"text-align: right;\">\n",
       "      <th></th>\n",
       "      <th>children</th>\n",
       "      <th>days_employed</th>\n",
       "      <th>dob_years</th>\n",
       "      <th>education</th>\n",
       "      <th>education_id</th>\n",
       "      <th>family_status</th>\n",
       "      <th>family_status_id</th>\n",
       "      <th>gender</th>\n",
       "      <th>income_type</th>\n",
       "      <th>debt</th>\n",
       "      <th>total_income</th>\n",
       "      <th>purpose</th>\n",
       "    </tr>\n",
       "  </thead>\n",
       "  <tbody>\n",
       "    <tr>\n",
       "      <td>2849</td>\n",
       "      <td>0</td>\n",
       "      <td>NaN</td>\n",
       "      <td>41</td>\n",
       "      <td>среднее</td>\n",
       "      <td>1</td>\n",
       "      <td>женат / замужем</td>\n",
       "      <td>0</td>\n",
       "      <td>F</td>\n",
       "      <td>сотрудник</td>\n",
       "      <td>0</td>\n",
       "      <td>NaN</td>\n",
       "      <td>покупка жилья для семьи</td>\n",
       "    </tr>\n",
       "    <tr>\n",
       "      <td>3290</td>\n",
       "      <td>0</td>\n",
       "      <td>NaN</td>\n",
       "      <td>58</td>\n",
       "      <td>среднее</td>\n",
       "      <td>1</td>\n",
       "      <td>гражданский брак</td>\n",
       "      <td>1</td>\n",
       "      <td>F</td>\n",
       "      <td>пенсионер</td>\n",
       "      <td>0</td>\n",
       "      <td>NaN</td>\n",
       "      <td>сыграть свадьбу</td>\n",
       "    </tr>\n",
       "    <tr>\n",
       "      <td>4182</td>\n",
       "      <td>1</td>\n",
       "      <td>NaN</td>\n",
       "      <td>34</td>\n",
       "      <td>высшее</td>\n",
       "      <td>0</td>\n",
       "      <td>гражданский брак</td>\n",
       "      <td>1</td>\n",
       "      <td>F</td>\n",
       "      <td>сотрудник</td>\n",
       "      <td>0</td>\n",
       "      <td>NaN</td>\n",
       "      <td>свадьба</td>\n",
       "    </tr>\n",
       "    <tr>\n",
       "      <td>4851</td>\n",
       "      <td>0</td>\n",
       "      <td>NaN</td>\n",
       "      <td>60</td>\n",
       "      <td>среднее</td>\n",
       "      <td>1</td>\n",
       "      <td>гражданский брак</td>\n",
       "      <td>1</td>\n",
       "      <td>F</td>\n",
       "      <td>пенсионер</td>\n",
       "      <td>0</td>\n",
       "      <td>NaN</td>\n",
       "      <td>свадьба</td>\n",
       "    </tr>\n",
       "    <tr>\n",
       "      <td>5557</td>\n",
       "      <td>0</td>\n",
       "      <td>NaN</td>\n",
       "      <td>58</td>\n",
       "      <td>среднее</td>\n",
       "      <td>1</td>\n",
       "      <td>гражданский брак</td>\n",
       "      <td>1</td>\n",
       "      <td>F</td>\n",
       "      <td>пенсионер</td>\n",
       "      <td>0</td>\n",
       "      <td>NaN</td>\n",
       "      <td>сыграть свадьбу</td>\n",
       "    </tr>\n",
       "    <tr>\n",
       "      <td>...</td>\n",
       "      <td>...</td>\n",
       "      <td>...</td>\n",
       "      <td>...</td>\n",
       "      <td>...</td>\n",
       "      <td>...</td>\n",
       "      <td>...</td>\n",
       "      <td>...</td>\n",
       "      <td>...</td>\n",
       "      <td>...</td>\n",
       "      <td>...</td>\n",
       "      <td>...</td>\n",
       "      <td>...</td>\n",
       "    </tr>\n",
       "    <tr>\n",
       "      <td>20702</td>\n",
       "      <td>0</td>\n",
       "      <td>NaN</td>\n",
       "      <td>64</td>\n",
       "      <td>среднее</td>\n",
       "      <td>1</td>\n",
       "      <td>женат / замужем</td>\n",
       "      <td>0</td>\n",
       "      <td>F</td>\n",
       "      <td>пенсионер</td>\n",
       "      <td>0</td>\n",
       "      <td>NaN</td>\n",
       "      <td>дополнительное образование</td>\n",
       "    </tr>\n",
       "    <tr>\n",
       "      <td>21032</td>\n",
       "      <td>0</td>\n",
       "      <td>NaN</td>\n",
       "      <td>60</td>\n",
       "      <td>среднее</td>\n",
       "      <td>1</td>\n",
       "      <td>женат / замужем</td>\n",
       "      <td>0</td>\n",
       "      <td>F</td>\n",
       "      <td>пенсионер</td>\n",
       "      <td>0</td>\n",
       "      <td>NaN</td>\n",
       "      <td>заняться образованием</td>\n",
       "    </tr>\n",
       "    <tr>\n",
       "      <td>21132</td>\n",
       "      <td>0</td>\n",
       "      <td>NaN</td>\n",
       "      <td>47</td>\n",
       "      <td>среднее</td>\n",
       "      <td>1</td>\n",
       "      <td>женат / замужем</td>\n",
       "      <td>0</td>\n",
       "      <td>F</td>\n",
       "      <td>сотрудник</td>\n",
       "      <td>0</td>\n",
       "      <td>NaN</td>\n",
       "      <td>ремонт жилью</td>\n",
       "    </tr>\n",
       "    <tr>\n",
       "      <td>21281</td>\n",
       "      <td>1</td>\n",
       "      <td>NaN</td>\n",
       "      <td>30</td>\n",
       "      <td>высшее</td>\n",
       "      <td>0</td>\n",
       "      <td>женат / замужем</td>\n",
       "      <td>0</td>\n",
       "      <td>F</td>\n",
       "      <td>сотрудник</td>\n",
       "      <td>0</td>\n",
       "      <td>NaN</td>\n",
       "      <td>покупка коммерческой недвижимости</td>\n",
       "    </tr>\n",
       "    <tr>\n",
       "      <td>21415</td>\n",
       "      <td>0</td>\n",
       "      <td>NaN</td>\n",
       "      <td>54</td>\n",
       "      <td>среднее</td>\n",
       "      <td>1</td>\n",
       "      <td>женат / замужем</td>\n",
       "      <td>0</td>\n",
       "      <td>F</td>\n",
       "      <td>пенсионер</td>\n",
       "      <td>0</td>\n",
       "      <td>NaN</td>\n",
       "      <td>операции с жильем</td>\n",
       "    </tr>\n",
       "  </tbody>\n",
       "</table>\n",
       "<p>71 rows × 12 columns</p>\n",
       "</div>"
      ],
      "text/plain": [
       "       children  days_employed  dob_years education  education_id  \\\n",
       "2849          0            NaN         41   среднее             1   \n",
       "3290          0            NaN         58   среднее             1   \n",
       "4182          1            NaN         34    высшее             0   \n",
       "4851          0            NaN         60   среднее             1   \n",
       "5557          0            NaN         58   среднее             1   \n",
       "...         ...            ...        ...       ...           ...   \n",
       "20702         0            NaN         64   среднее             1   \n",
       "21032         0            NaN         60   среднее             1   \n",
       "21132         0            NaN         47   среднее             1   \n",
       "21281         1            NaN         30    высшее             0   \n",
       "21415         0            NaN         54   среднее             1   \n",
       "\n",
       "          family_status  family_status_id gender income_type  debt  \\\n",
       "2849    женат / замужем                 0      F   сотрудник     0   \n",
       "3290   гражданский брак                 1      F   пенсионер     0   \n",
       "4182   гражданский брак                 1      F   сотрудник     0   \n",
       "4851   гражданский брак                 1      F   пенсионер     0   \n",
       "5557   гражданский брак                 1      F   пенсионер     0   \n",
       "...                 ...               ...    ...         ...   ...   \n",
       "20702   женат / замужем                 0      F   пенсионер     0   \n",
       "21032   женат / замужем                 0      F   пенсионер     0   \n",
       "21132   женат / замужем                 0      F   сотрудник     0   \n",
       "21281   женат / замужем                 0      F   сотрудник     0   \n",
       "21415   женат / замужем                 0      F   пенсионер     0   \n",
       "\n",
       "       total_income                            purpose  \n",
       "2849            NaN            покупка жилья для семьи  \n",
       "3290            NaN                    сыграть свадьбу  \n",
       "4182            NaN                            свадьба  \n",
       "4851            NaN                            свадьба  \n",
       "5557            NaN                    сыграть свадьбу  \n",
       "...             ...                                ...  \n",
       "20702           NaN         дополнительное образование  \n",
       "21032           NaN              заняться образованием  \n",
       "21132           NaN                       ремонт жилью  \n",
       "21281           NaN  покупка коммерческой недвижимости  \n",
       "21415           NaN                  операции с жильем  \n",
       "\n",
       "[71 rows x 12 columns]"
      ]
     },
     "execution_count": 4,
     "metadata": {},
     "output_type": "execute_result"
    }
   ],
   "source": [
    "data_loan_users[data_loan_users.duplicated()]"
   ]
  },
  {
   "cell_type": "markdown",
   "metadata": {},
   "source": [
    "------------\n",
    "\n",
    "# Комментарии\n",
    "\n",
    "Такой формат вывода (без __print__) кажется более удобным для восприятия, как думаешь?\n",
    "\n",
    "------------"
   ]
  },
  {
   "cell_type": "markdown",
   "metadata": {},
   "source": [
    "Удаляем дубликаты с помощью функции .drop_duplicates() и проверяем на наличие дубликатов"
   ]
  },
  {
   "cell_type": "code",
   "execution_count": 5,
   "metadata": {},
   "outputs": [],
   "source": [
    "data_loan_users = data_loan_users.drop_duplicates().reset_index(drop=True)                                 "
   ]
  },
  {
   "cell_type": "code",
   "execution_count": 6,
   "metadata": {},
   "outputs": [
    {
     "data": {
      "text/plain": [
       "0"
      ]
     },
     "execution_count": 6,
     "metadata": {},
     "output_type": "execute_result"
    }
   ],
   "source": [
    "data_loan_users.duplicated().sum()"
   ]
  },
  {
   "cell_type": "markdown",
   "metadata": {},
   "source": [
    "------------\n",
    "\n",
    "# Комментарии\n",
    "\n",
    "Отлично) только я не вижу проверки на \"наличие дубликатов\" :(\n",
    "\n",
    "------------"
   ]
  },
  {
   "cell_type": "markdown",
   "metadata": {},
   "source": [
    "Проверяем на отритцательные значения данные"
   ]
  },
  {
   "cell_type": "code",
   "execution_count": 7,
   "metadata": {},
   "outputs": [
    {
     "name": "stdout",
     "output_type": "stream",
     "text": [
      "47\n"
     ]
    }
   ],
   "source": [
    "minus_children = data_loan_users[data_loan_users['children'] < 0]['children'].count()\n",
    "print(minus_children)"
   ]
  },
  {
   "cell_type": "code",
   "execution_count": 8,
   "metadata": {},
   "outputs": [
    {
     "name": "stdout",
     "output_type": "stream",
     "text": [
      "15906\n"
     ]
    }
   ],
   "source": [
    "minus_days_employed = data_loan_users[data_loan_users['days_employed'] < 0]['days_employed'].count()\n",
    "print(minus_days_employed)"
   ]
  },
  {
   "cell_type": "code",
   "execution_count": 9,
   "metadata": {},
   "outputs": [
    {
     "name": "stdout",
     "output_type": "stream",
     "text": [
      "0\n"
     ]
    }
   ],
   "source": [
    "minus_days_dob_years = data_loan_users[data_loan_users['dob_years'] < 0]['dob_years'].count()\n",
    "print(minus_days_dob_years)"
   ]
  },
  {
   "cell_type": "code",
   "execution_count": 10,
   "metadata": {},
   "outputs": [
    {
     "name": "stdout",
     "output_type": "stream",
     "text": [
      "0\n"
     ]
    }
   ],
   "source": [
    "minus_days_total_income = data_loan_users[data_loan_users['total_income'] < 0]['total_income'].count()\n",
    "print(minus_days_total_income)"
   ]
  },
  {
   "cell_type": "markdown",
   "metadata": {},
   "source": [
    "Как видно отритцательны значения есть в столбцах 'children' и 'days_employed'. Просмотрим данные в столбце 'children'"
   ]
  },
  {
   "cell_type": "code",
   "execution_count": 11,
   "metadata": {},
   "outputs": [
    {
     "data": {
      "text/html": [
       "<div>\n",
       "<style scoped>\n",
       "    .dataframe tbody tr th:only-of-type {\n",
       "        vertical-align: middle;\n",
       "    }\n",
       "\n",
       "    .dataframe tbody tr th {\n",
       "        vertical-align: top;\n",
       "    }\n",
       "\n",
       "    .dataframe thead th {\n",
       "        text-align: right;\n",
       "    }\n",
       "</style>\n",
       "<table border=\"1\" class=\"dataframe\">\n",
       "  <thead>\n",
       "    <tr style=\"text-align: right;\">\n",
       "      <th></th>\n",
       "      <th>children</th>\n",
       "      <th>days_employed</th>\n",
       "      <th>dob_years</th>\n",
       "      <th>education</th>\n",
       "      <th>education_id</th>\n",
       "      <th>family_status</th>\n",
       "      <th>family_status_id</th>\n",
       "      <th>gender</th>\n",
       "      <th>income_type</th>\n",
       "      <th>debt</th>\n",
       "      <th>total_income</th>\n",
       "      <th>purpose</th>\n",
       "    </tr>\n",
       "  </thead>\n",
       "  <tbody>\n",
       "    <tr>\n",
       "      <td>291</td>\n",
       "      <td>-1</td>\n",
       "      <td>-4417.703588</td>\n",
       "      <td>46</td>\n",
       "      <td>среднее</td>\n",
       "      <td>1</td>\n",
       "      <td>гражданский брак</td>\n",
       "      <td>1</td>\n",
       "      <td>F</td>\n",
       "      <td>сотрудник</td>\n",
       "      <td>0</td>\n",
       "      <td>102816.346412</td>\n",
       "      <td>профильное образование</td>\n",
       "    </tr>\n",
       "    <tr>\n",
       "      <td>705</td>\n",
       "      <td>-1</td>\n",
       "      <td>-902.084528</td>\n",
       "      <td>50</td>\n",
       "      <td>среднее</td>\n",
       "      <td>1</td>\n",
       "      <td>женат / замужем</td>\n",
       "      <td>0</td>\n",
       "      <td>F</td>\n",
       "      <td>госслужащий</td>\n",
       "      <td>0</td>\n",
       "      <td>137882.899271</td>\n",
       "      <td>приобретение автомобиля</td>\n",
       "    </tr>\n",
       "    <tr>\n",
       "      <td>742</td>\n",
       "      <td>-1</td>\n",
       "      <td>-3174.456205</td>\n",
       "      <td>57</td>\n",
       "      <td>среднее</td>\n",
       "      <td>1</td>\n",
       "      <td>женат / замужем</td>\n",
       "      <td>0</td>\n",
       "      <td>F</td>\n",
       "      <td>сотрудник</td>\n",
       "      <td>0</td>\n",
       "      <td>64268.044444</td>\n",
       "      <td>дополнительное образование</td>\n",
       "    </tr>\n",
       "    <tr>\n",
       "      <td>800</td>\n",
       "      <td>-1</td>\n",
       "      <td>349987.852217</td>\n",
       "      <td>54</td>\n",
       "      <td>среднее</td>\n",
       "      <td>1</td>\n",
       "      <td>Не женат / не замужем</td>\n",
       "      <td>4</td>\n",
       "      <td>F</td>\n",
       "      <td>пенсионер</td>\n",
       "      <td>0</td>\n",
       "      <td>86293.724153</td>\n",
       "      <td>дополнительное образование</td>\n",
       "    </tr>\n",
       "    <tr>\n",
       "      <td>941</td>\n",
       "      <td>-1</td>\n",
       "      <td>NaN</td>\n",
       "      <td>57</td>\n",
       "      <td>среднее</td>\n",
       "      <td>1</td>\n",
       "      <td>женат / замужем</td>\n",
       "      <td>0</td>\n",
       "      <td>F</td>\n",
       "      <td>пенсионер</td>\n",
       "      <td>0</td>\n",
       "      <td>NaN</td>\n",
       "      <td>на покупку своего автомобиля</td>\n",
       "    </tr>\n",
       "    <tr>\n",
       "      <td>1363</td>\n",
       "      <td>-1</td>\n",
       "      <td>-1195.264956</td>\n",
       "      <td>55</td>\n",
       "      <td>среднее</td>\n",
       "      <td>1</td>\n",
       "      <td>женат / замужем</td>\n",
       "      <td>0</td>\n",
       "      <td>F</td>\n",
       "      <td>компаньон</td>\n",
       "      <td>0</td>\n",
       "      <td>69550.699692</td>\n",
       "      <td>профильное образование</td>\n",
       "    </tr>\n",
       "    <tr>\n",
       "      <td>1929</td>\n",
       "      <td>-1</td>\n",
       "      <td>-1461.303336</td>\n",
       "      <td>38</td>\n",
       "      <td>среднее</td>\n",
       "      <td>1</td>\n",
       "      <td>Не женат / не замужем</td>\n",
       "      <td>4</td>\n",
       "      <td>M</td>\n",
       "      <td>сотрудник</td>\n",
       "      <td>0</td>\n",
       "      <td>109121.569013</td>\n",
       "      <td>покупка жилья</td>\n",
       "    </tr>\n",
       "    <tr>\n",
       "      <td>2073</td>\n",
       "      <td>-1</td>\n",
       "      <td>-2539.761232</td>\n",
       "      <td>42</td>\n",
       "      <td>среднее</td>\n",
       "      <td>1</td>\n",
       "      <td>в разводе</td>\n",
       "      <td>3</td>\n",
       "      <td>F</td>\n",
       "      <td>компаньон</td>\n",
       "      <td>0</td>\n",
       "      <td>162638.609373</td>\n",
       "      <td>покупка жилья</td>\n",
       "    </tr>\n",
       "    <tr>\n",
       "      <td>3812</td>\n",
       "      <td>-1</td>\n",
       "      <td>-3045.290443</td>\n",
       "      <td>26</td>\n",
       "      <td>среднее</td>\n",
       "      <td>1</td>\n",
       "      <td>гражданский брак</td>\n",
       "      <td>1</td>\n",
       "      <td>F</td>\n",
       "      <td>госслужащий</td>\n",
       "      <td>0</td>\n",
       "      <td>131892.785435</td>\n",
       "      <td>на проведение свадьбы</td>\n",
       "    </tr>\n",
       "    <tr>\n",
       "      <td>4198</td>\n",
       "      <td>-1</td>\n",
       "      <td>-901.101738</td>\n",
       "      <td>41</td>\n",
       "      <td>среднее</td>\n",
       "      <td>1</td>\n",
       "      <td>женат / замужем</td>\n",
       "      <td>0</td>\n",
       "      <td>F</td>\n",
       "      <td>госслужащий</td>\n",
       "      <td>0</td>\n",
       "      <td>226375.766751</td>\n",
       "      <td>операции со своей недвижимостью</td>\n",
       "    </tr>\n",
       "    <tr>\n",
       "      <td>4399</td>\n",
       "      <td>-1</td>\n",
       "      <td>398001.302888</td>\n",
       "      <td>64</td>\n",
       "      <td>среднее</td>\n",
       "      <td>1</td>\n",
       "      <td>женат / замужем</td>\n",
       "      <td>0</td>\n",
       "      <td>F</td>\n",
       "      <td>пенсионер</td>\n",
       "      <td>0</td>\n",
       "      <td>163264.062064</td>\n",
       "      <td>покупка недвижимости</td>\n",
       "    </tr>\n",
       "    <tr>\n",
       "      <td>4539</td>\n",
       "      <td>-1</td>\n",
       "      <td>-1811.899756</td>\n",
       "      <td>32</td>\n",
       "      <td>среднее</td>\n",
       "      <td>1</td>\n",
       "      <td>женат / замужем</td>\n",
       "      <td>0</td>\n",
       "      <td>F</td>\n",
       "      <td>сотрудник</td>\n",
       "      <td>0</td>\n",
       "      <td>160544.718446</td>\n",
       "      <td>образование</td>\n",
       "    </tr>\n",
       "    <tr>\n",
       "      <td>5268</td>\n",
       "      <td>-1</td>\n",
       "      <td>-1143.485347</td>\n",
       "      <td>46</td>\n",
       "      <td>среднее</td>\n",
       "      <td>1</td>\n",
       "      <td>вдовец / вдова</td>\n",
       "      <td>2</td>\n",
       "      <td>F</td>\n",
       "      <td>сотрудник</td>\n",
       "      <td>0</td>\n",
       "      <td>278708.018820</td>\n",
       "      <td>покупка недвижимости</td>\n",
       "    </tr>\n",
       "    <tr>\n",
       "      <td>6008</td>\n",
       "      <td>-1</td>\n",
       "      <td>-1361.258696</td>\n",
       "      <td>46</td>\n",
       "      <td>высшее</td>\n",
       "      <td>0</td>\n",
       "      <td>женат / замужем</td>\n",
       "      <td>0</td>\n",
       "      <td>F</td>\n",
       "      <td>сотрудник</td>\n",
       "      <td>0</td>\n",
       "      <td>143008.454914</td>\n",
       "      <td>строительство собственной недвижимости</td>\n",
       "    </tr>\n",
       "    <tr>\n",
       "      <td>6379</td>\n",
       "      <td>-1</td>\n",
       "      <td>370215.476226</td>\n",
       "      <td>48</td>\n",
       "      <td>среднее</td>\n",
       "      <td>1</td>\n",
       "      <td>вдовец / вдова</td>\n",
       "      <td>2</td>\n",
       "      <td>F</td>\n",
       "      <td>пенсионер</td>\n",
       "      <td>0</td>\n",
       "      <td>36052.447435</td>\n",
       "      <td>образование</td>\n",
       "    </tr>\n",
       "    <tr>\n",
       "      <td>7184</td>\n",
       "      <td>-1</td>\n",
       "      <td>-5928.202068</td>\n",
       "      <td>34</td>\n",
       "      <td>среднее</td>\n",
       "      <td>1</td>\n",
       "      <td>женат / замужем</td>\n",
       "      <td>0</td>\n",
       "      <td>M</td>\n",
       "      <td>сотрудник</td>\n",
       "      <td>0</td>\n",
       "      <td>184315.121979</td>\n",
       "      <td>приобретение автомобиля</td>\n",
       "    </tr>\n",
       "    <tr>\n",
       "      <td>7272</td>\n",
       "      <td>-1</td>\n",
       "      <td>-526.318451</td>\n",
       "      <td>51</td>\n",
       "      <td>среднее</td>\n",
       "      <td>1</td>\n",
       "      <td>женат / замужем</td>\n",
       "      <td>0</td>\n",
       "      <td>F</td>\n",
       "      <td>сотрудник</td>\n",
       "      <td>0</td>\n",
       "      <td>146928.769439</td>\n",
       "      <td>операции с коммерческой недвижимостью</td>\n",
       "    </tr>\n",
       "    <tr>\n",
       "      <td>7609</td>\n",
       "      <td>-1</td>\n",
       "      <td>NaN</td>\n",
       "      <td>35</td>\n",
       "      <td>среднее</td>\n",
       "      <td>1</td>\n",
       "      <td>женат / замужем</td>\n",
       "      <td>0</td>\n",
       "      <td>M</td>\n",
       "      <td>сотрудник</td>\n",
       "      <td>0</td>\n",
       "      <td>NaN</td>\n",
       "      <td>образование</td>\n",
       "    </tr>\n",
       "    <tr>\n",
       "      <td>7679</td>\n",
       "      <td>-1</td>\n",
       "      <td>-3237.360455</td>\n",
       "      <td>53</td>\n",
       "      <td>среднее</td>\n",
       "      <td>1</td>\n",
       "      <td>вдовец / вдова</td>\n",
       "      <td>2</td>\n",
       "      <td>F</td>\n",
       "      <td>сотрудник</td>\n",
       "      <td>0</td>\n",
       "      <td>159676.174958</td>\n",
       "      <td>строительство жилой недвижимости</td>\n",
       "    </tr>\n",
       "    <tr>\n",
       "      <td>8220</td>\n",
       "      <td>-1</td>\n",
       "      <td>-1803.441074</td>\n",
       "      <td>54</td>\n",
       "      <td>высшее</td>\n",
       "      <td>0</td>\n",
       "      <td>женат / замужем</td>\n",
       "      <td>0</td>\n",
       "      <td>F</td>\n",
       "      <td>компаньон</td>\n",
       "      <td>0</td>\n",
       "      <td>138809.082930</td>\n",
       "      <td>покупка недвижимости</td>\n",
       "    </tr>\n",
       "    <tr>\n",
       "      <td>8242</td>\n",
       "      <td>-1</td>\n",
       "      <td>-3113.998449</td>\n",
       "      <td>31</td>\n",
       "      <td>среднее</td>\n",
       "      <td>1</td>\n",
       "      <td>гражданский брак</td>\n",
       "      <td>1</td>\n",
       "      <td>F</td>\n",
       "      <td>сотрудник</td>\n",
       "      <td>0</td>\n",
       "      <td>54412.056005</td>\n",
       "      <td>свой автомобиль</td>\n",
       "    </tr>\n",
       "    <tr>\n",
       "      <td>8552</td>\n",
       "      <td>-1</td>\n",
       "      <td>-195.479496</td>\n",
       "      <td>31</td>\n",
       "      <td>среднее</td>\n",
       "      <td>1</td>\n",
       "      <td>женат / замужем</td>\n",
       "      <td>0</td>\n",
       "      <td>F</td>\n",
       "      <td>сотрудник</td>\n",
       "      <td>0</td>\n",
       "      <td>145577.881522</td>\n",
       "      <td>ремонт жилью</td>\n",
       "    </tr>\n",
       "    <tr>\n",
       "      <td>9553</td>\n",
       "      <td>-1</td>\n",
       "      <td>-2896.629686</td>\n",
       "      <td>34</td>\n",
       "      <td>высшее</td>\n",
       "      <td>0</td>\n",
       "      <td>женат / замужем</td>\n",
       "      <td>0</td>\n",
       "      <td>M</td>\n",
       "      <td>сотрудник</td>\n",
       "      <td>0</td>\n",
       "      <td>126754.656529</td>\n",
       "      <td>операции с недвижимостью</td>\n",
       "    </tr>\n",
       "    <tr>\n",
       "      <td>9562</td>\n",
       "      <td>-1</td>\n",
       "      <td>-2710.419901</td>\n",
       "      <td>28</td>\n",
       "      <td>высшее</td>\n",
       "      <td>0</td>\n",
       "      <td>женат / замужем</td>\n",
       "      <td>0</td>\n",
       "      <td>M</td>\n",
       "      <td>госслужащий</td>\n",
       "      <td>0</td>\n",
       "      <td>303137.161001</td>\n",
       "      <td>получение дополнительного образования</td>\n",
       "    </tr>\n",
       "    <tr>\n",
       "      <td>10162</td>\n",
       "      <td>-1</td>\n",
       "      <td>-1743.604011</td>\n",
       "      <td>37</td>\n",
       "      <td>среднее</td>\n",
       "      <td>1</td>\n",
       "      <td>женат / замужем</td>\n",
       "      <td>0</td>\n",
       "      <td>M</td>\n",
       "      <td>сотрудник</td>\n",
       "      <td>0</td>\n",
       "      <td>310367.509001</td>\n",
       "      <td>получение образования</td>\n",
       "    </tr>\n",
       "    <tr>\n",
       "      <td>10350</td>\n",
       "      <td>-1</td>\n",
       "      <td>345774.125957</td>\n",
       "      <td>63</td>\n",
       "      <td>высшее</td>\n",
       "      <td>0</td>\n",
       "      <td>вдовец / вдова</td>\n",
       "      <td>2</td>\n",
       "      <td>F</td>\n",
       "      <td>пенсионер</td>\n",
       "      <td>0</td>\n",
       "      <td>170762.751325</td>\n",
       "      <td>строительство жилой недвижимости</td>\n",
       "    </tr>\n",
       "    <tr>\n",
       "      <td>10900</td>\n",
       "      <td>-1</td>\n",
       "      <td>340499.039342</td>\n",
       "      <td>50</td>\n",
       "      <td>среднее</td>\n",
       "      <td>1</td>\n",
       "      <td>женат / замужем</td>\n",
       "      <td>0</td>\n",
       "      <td>M</td>\n",
       "      <td>пенсионер</td>\n",
       "      <td>0</td>\n",
       "      <td>170762.773162</td>\n",
       "      <td>покупка своего жилья</td>\n",
       "    </tr>\n",
       "    <tr>\n",
       "      <td>11090</td>\n",
       "      <td>-1</td>\n",
       "      <td>-3438.463024</td>\n",
       "      <td>59</td>\n",
       "      <td>среднее</td>\n",
       "      <td>1</td>\n",
       "      <td>женат / замужем</td>\n",
       "      <td>0</td>\n",
       "      <td>F</td>\n",
       "      <td>сотрудник</td>\n",
       "      <td>0</td>\n",
       "      <td>219874.012345</td>\n",
       "      <td>операции с жильем</td>\n",
       "    </tr>\n",
       "    <tr>\n",
       "      <td>11249</td>\n",
       "      <td>-1</td>\n",
       "      <td>-1048.782203</td>\n",
       "      <td>30</td>\n",
       "      <td>высшее</td>\n",
       "      <td>0</td>\n",
       "      <td>гражданский брак</td>\n",
       "      <td>1</td>\n",
       "      <td>F</td>\n",
       "      <td>компаньон</td>\n",
       "      <td>0</td>\n",
       "      <td>321603.700207</td>\n",
       "      <td>на покупку автомобиля</td>\n",
       "    </tr>\n",
       "    <tr>\n",
       "      <td>11598</td>\n",
       "      <td>-1</td>\n",
       "      <td>-370.827130</td>\n",
       "      <td>27</td>\n",
       "      <td>среднее</td>\n",
       "      <td>1</td>\n",
       "      <td>женат / замужем</td>\n",
       "      <td>0</td>\n",
       "      <td>F</td>\n",
       "      <td>компаньон</td>\n",
       "      <td>0</td>\n",
       "      <td>164591.260338</td>\n",
       "      <td>покупка жилья для сдачи</td>\n",
       "    </tr>\n",
       "    <tr>\n",
       "      <td>12284</td>\n",
       "      <td>-1</td>\n",
       "      <td>-8493.101252</td>\n",
       "      <td>61</td>\n",
       "      <td>неоконченное высшее</td>\n",
       "      <td>2</td>\n",
       "      <td>женат / замужем</td>\n",
       "      <td>0</td>\n",
       "      <td>M</td>\n",
       "      <td>сотрудник</td>\n",
       "      <td>0</td>\n",
       "      <td>315006.182056</td>\n",
       "      <td>недвижимость</td>\n",
       "    </tr>\n",
       "    <tr>\n",
       "      <td>13760</td>\n",
       "      <td>-1</td>\n",
       "      <td>NaN</td>\n",
       "      <td>42</td>\n",
       "      <td>среднее</td>\n",
       "      <td>1</td>\n",
       "      <td>Не женат / не замужем</td>\n",
       "      <td>4</td>\n",
       "      <td>M</td>\n",
       "      <td>компаньон</td>\n",
       "      <td>0</td>\n",
       "      <td>NaN</td>\n",
       "      <td>автомобиль</td>\n",
       "    </tr>\n",
       "    <tr>\n",
       "      <td>14328</td>\n",
       "      <td>-1</td>\n",
       "      <td>-268.337037</td>\n",
       "      <td>23</td>\n",
       "      <td>среднее</td>\n",
       "      <td>1</td>\n",
       "      <td>в разводе</td>\n",
       "      <td>3</td>\n",
       "      <td>F</td>\n",
       "      <td>компаньон</td>\n",
       "      <td>0</td>\n",
       "      <td>92257.579312</td>\n",
       "      <td>покупка жилой недвижимости</td>\n",
       "    </tr>\n",
       "    <tr>\n",
       "      <td>15114</td>\n",
       "      <td>-1</td>\n",
       "      <td>-9851.184337</td>\n",
       "      <td>44</td>\n",
       "      <td>среднее</td>\n",
       "      <td>1</td>\n",
       "      <td>в разводе</td>\n",
       "      <td>3</td>\n",
       "      <td>F</td>\n",
       "      <td>сотрудник</td>\n",
       "      <td>0</td>\n",
       "      <td>110990.810581</td>\n",
       "      <td>свой автомобиль</td>\n",
       "    </tr>\n",
       "    <tr>\n",
       "      <td>15400</td>\n",
       "      <td>-1</td>\n",
       "      <td>-3614.220232</td>\n",
       "      <td>40</td>\n",
       "      <td>высшее</td>\n",
       "      <td>0</td>\n",
       "      <td>гражданский брак</td>\n",
       "      <td>1</td>\n",
       "      <td>F</td>\n",
       "      <td>сотрудник</td>\n",
       "      <td>0</td>\n",
       "      <td>98127.537462</td>\n",
       "      <td>сыграть свадьбу</td>\n",
       "    </tr>\n",
       "    <tr>\n",
       "      <td>16093</td>\n",
       "      <td>-1</td>\n",
       "      <td>-457.861760</td>\n",
       "      <td>33</td>\n",
       "      <td>среднее</td>\n",
       "      <td>1</td>\n",
       "      <td>женат / замужем</td>\n",
       "      <td>0</td>\n",
       "      <td>F</td>\n",
       "      <td>сотрудник</td>\n",
       "      <td>1</td>\n",
       "      <td>149641.079451</td>\n",
       "      <td>автомобиль</td>\n",
       "    </tr>\n",
       "    <tr>\n",
       "      <td>16227</td>\n",
       "      <td>-1</td>\n",
       "      <td>-2802.218127</td>\n",
       "      <td>40</td>\n",
       "      <td>высшее</td>\n",
       "      <td>0</td>\n",
       "      <td>женат / замужем</td>\n",
       "      <td>0</td>\n",
       "      <td>M</td>\n",
       "      <td>сотрудник</td>\n",
       "      <td>0</td>\n",
       "      <td>111984.472021</td>\n",
       "      <td>покупка жилья</td>\n",
       "    </tr>\n",
       "    <tr>\n",
       "      <td>17054</td>\n",
       "      <td>-1</td>\n",
       "      <td>-2809.693200</td>\n",
       "      <td>34</td>\n",
       "      <td>среднее</td>\n",
       "      <td>1</td>\n",
       "      <td>женат / замужем</td>\n",
       "      <td>0</td>\n",
       "      <td>F</td>\n",
       "      <td>сотрудник</td>\n",
       "      <td>0</td>\n",
       "      <td>182543.890127</td>\n",
       "      <td>на покупку подержанного автомобиля</td>\n",
       "    </tr>\n",
       "    <tr>\n",
       "      <td>17386</td>\n",
       "      <td>-1</td>\n",
       "      <td>-895.379738</td>\n",
       "      <td>37</td>\n",
       "      <td>среднее</td>\n",
       "      <td>1</td>\n",
       "      <td>женат / замужем</td>\n",
       "      <td>0</td>\n",
       "      <td>F</td>\n",
       "      <td>компаньон</td>\n",
       "      <td>0</td>\n",
       "      <td>214814.018780</td>\n",
       "      <td>жилье</td>\n",
       "    </tr>\n",
       "    <tr>\n",
       "      <td>17614</td>\n",
       "      <td>-1</td>\n",
       "      <td>-4571.957475</td>\n",
       "      <td>41</td>\n",
       "      <td>среднее</td>\n",
       "      <td>1</td>\n",
       "      <td>женат / замужем</td>\n",
       "      <td>0</td>\n",
       "      <td>F</td>\n",
       "      <td>сотрудник</td>\n",
       "      <td>0</td>\n",
       "      <td>122105.415823</td>\n",
       "      <td>операции со своей недвижимостью</td>\n",
       "    </tr>\n",
       "    <tr>\n",
       "      <td>18174</td>\n",
       "      <td>-1</td>\n",
       "      <td>-3575.215641</td>\n",
       "      <td>33</td>\n",
       "      <td>среднее</td>\n",
       "      <td>1</td>\n",
       "      <td>женат / замужем</td>\n",
       "      <td>0</td>\n",
       "      <td>F</td>\n",
       "      <td>сотрудник</td>\n",
       "      <td>0</td>\n",
       "      <td>128362.023879</td>\n",
       "      <td>высшее образование</td>\n",
       "    </tr>\n",
       "    <tr>\n",
       "      <td>19048</td>\n",
       "      <td>-1</td>\n",
       "      <td>-617.246968</td>\n",
       "      <td>38</td>\n",
       "      <td>среднее</td>\n",
       "      <td>1</td>\n",
       "      <td>Не женат / не замужем</td>\n",
       "      <td>4</td>\n",
       "      <td>M</td>\n",
       "      <td>сотрудник</td>\n",
       "      <td>0</td>\n",
       "      <td>122205.497527</td>\n",
       "      <td>строительство жилой недвижимости</td>\n",
       "    </tr>\n",
       "    <tr>\n",
       "      <td>19311</td>\n",
       "      <td>-1</td>\n",
       "      <td>-372.034749</td>\n",
       "      <td>43</td>\n",
       "      <td>среднее</td>\n",
       "      <td>1</td>\n",
       "      <td>женат / замужем</td>\n",
       "      <td>0</td>\n",
       "      <td>M</td>\n",
       "      <td>сотрудник</td>\n",
       "      <td>0</td>\n",
       "      <td>155588.766795</td>\n",
       "      <td>сделка с подержанным автомобилем</td>\n",
       "    </tr>\n",
       "    <tr>\n",
       "      <td>19360</td>\n",
       "      <td>-1</td>\n",
       "      <td>350340.760224</td>\n",
       "      <td>28</td>\n",
       "      <td>среднее</td>\n",
       "      <td>1</td>\n",
       "      <td>в разводе</td>\n",
       "      <td>3</td>\n",
       "      <td>F</td>\n",
       "      <td>пенсионер</td>\n",
       "      <td>0</td>\n",
       "      <td>52872.993654</td>\n",
       "      <td>автомобили</td>\n",
       "    </tr>\n",
       "    <tr>\n",
       "      <td>20328</td>\n",
       "      <td>-1</td>\n",
       "      <td>355157.107212</td>\n",
       "      <td>69</td>\n",
       "      <td>среднее</td>\n",
       "      <td>1</td>\n",
       "      <td>Не женат / не замужем</td>\n",
       "      <td>4</td>\n",
       "      <td>F</td>\n",
       "      <td>пенсионер</td>\n",
       "      <td>0</td>\n",
       "      <td>116521.045858</td>\n",
       "      <td>операции с недвижимостью</td>\n",
       "    </tr>\n",
       "    <tr>\n",
       "      <td>20650</td>\n",
       "      <td>-1</td>\n",
       "      <td>-661.822321</td>\n",
       "      <td>32</td>\n",
       "      <td>высшее</td>\n",
       "      <td>0</td>\n",
       "      <td>женат / замужем</td>\n",
       "      <td>0</td>\n",
       "      <td>F</td>\n",
       "      <td>сотрудник</td>\n",
       "      <td>0</td>\n",
       "      <td>137405.384917</td>\n",
       "      <td>покупка жилой недвижимости</td>\n",
       "    </tr>\n",
       "    <tr>\n",
       "      <td>21071</td>\n",
       "      <td>-1</td>\n",
       "      <td>-1422.668059</td>\n",
       "      <td>44</td>\n",
       "      <td>среднее</td>\n",
       "      <td>1</td>\n",
       "      <td>женат / замужем</td>\n",
       "      <td>0</td>\n",
       "      <td>F</td>\n",
       "      <td>компаньон</td>\n",
       "      <td>0</td>\n",
       "      <td>169562.091999</td>\n",
       "      <td>операции со своей недвижимостью</td>\n",
       "    </tr>\n",
       "  </tbody>\n",
       "</table>\n",
       "</div>"
      ],
      "text/plain": [
       "       children  days_employed  dob_years            education  education_id  \\\n",
       "291          -1   -4417.703588         46              среднее             1   \n",
       "705          -1    -902.084528         50              среднее             1   \n",
       "742          -1   -3174.456205         57              среднее             1   \n",
       "800          -1  349987.852217         54              среднее             1   \n",
       "941          -1            NaN         57              среднее             1   \n",
       "1363         -1   -1195.264956         55              среднее             1   \n",
       "1929         -1   -1461.303336         38              среднее             1   \n",
       "2073         -1   -2539.761232         42              среднее             1   \n",
       "3812         -1   -3045.290443         26              среднее             1   \n",
       "4198         -1    -901.101738         41              среднее             1   \n",
       "4399         -1  398001.302888         64              среднее             1   \n",
       "4539         -1   -1811.899756         32              среднее             1   \n",
       "5268         -1   -1143.485347         46              среднее             1   \n",
       "6008         -1   -1361.258696         46               высшее             0   \n",
       "6379         -1  370215.476226         48              среднее             1   \n",
       "7184         -1   -5928.202068         34              среднее             1   \n",
       "7272         -1    -526.318451         51              среднее             1   \n",
       "7609         -1            NaN         35              среднее             1   \n",
       "7679         -1   -3237.360455         53              среднее             1   \n",
       "8220         -1   -1803.441074         54               высшее             0   \n",
       "8242         -1   -3113.998449         31              среднее             1   \n",
       "8552         -1    -195.479496         31              среднее             1   \n",
       "9553         -1   -2896.629686         34               высшее             0   \n",
       "9562         -1   -2710.419901         28               высшее             0   \n",
       "10162        -1   -1743.604011         37              среднее             1   \n",
       "10350        -1  345774.125957         63               высшее             0   \n",
       "10900        -1  340499.039342         50              среднее             1   \n",
       "11090        -1   -3438.463024         59              среднее             1   \n",
       "11249        -1   -1048.782203         30               высшее             0   \n",
       "11598        -1    -370.827130         27              среднее             1   \n",
       "12284        -1   -8493.101252         61  неоконченное высшее             2   \n",
       "13760        -1            NaN         42              среднее             1   \n",
       "14328        -1    -268.337037         23              среднее             1   \n",
       "15114        -1   -9851.184337         44              среднее             1   \n",
       "15400        -1   -3614.220232         40               высшее             0   \n",
       "16093        -1    -457.861760         33              среднее             1   \n",
       "16227        -1   -2802.218127         40               высшее             0   \n",
       "17054        -1   -2809.693200         34              среднее             1   \n",
       "17386        -1    -895.379738         37              среднее             1   \n",
       "17614        -1   -4571.957475         41              среднее             1   \n",
       "18174        -1   -3575.215641         33              среднее             1   \n",
       "19048        -1    -617.246968         38              среднее             1   \n",
       "19311        -1    -372.034749         43              среднее             1   \n",
       "19360        -1  350340.760224         28              среднее             1   \n",
       "20328        -1  355157.107212         69              среднее             1   \n",
       "20650        -1    -661.822321         32               высшее             0   \n",
       "21071        -1   -1422.668059         44              среднее             1   \n",
       "\n",
       "               family_status  family_status_id gender  income_type  debt  \\\n",
       "291         гражданский брак                 1      F    сотрудник     0   \n",
       "705          женат / замужем                 0      F  госслужащий     0   \n",
       "742          женат / замужем                 0      F    сотрудник     0   \n",
       "800    Не женат / не замужем                 4      F    пенсионер     0   \n",
       "941          женат / замужем                 0      F    пенсионер     0   \n",
       "1363         женат / замужем                 0      F    компаньон     0   \n",
       "1929   Не женат / не замужем                 4      M    сотрудник     0   \n",
       "2073               в разводе                 3      F    компаньон     0   \n",
       "3812        гражданский брак                 1      F  госслужащий     0   \n",
       "4198         женат / замужем                 0      F  госслужащий     0   \n",
       "4399         женат / замужем                 0      F    пенсионер     0   \n",
       "4539         женат / замужем                 0      F    сотрудник     0   \n",
       "5268          вдовец / вдова                 2      F    сотрудник     0   \n",
       "6008         женат / замужем                 0      F    сотрудник     0   \n",
       "6379          вдовец / вдова                 2      F    пенсионер     0   \n",
       "7184         женат / замужем                 0      M    сотрудник     0   \n",
       "7272         женат / замужем                 0      F    сотрудник     0   \n",
       "7609         женат / замужем                 0      M    сотрудник     0   \n",
       "7679          вдовец / вдова                 2      F    сотрудник     0   \n",
       "8220         женат / замужем                 0      F    компаньон     0   \n",
       "8242        гражданский брак                 1      F    сотрудник     0   \n",
       "8552         женат / замужем                 0      F    сотрудник     0   \n",
       "9553         женат / замужем                 0      M    сотрудник     0   \n",
       "9562         женат / замужем                 0      M  госслужащий     0   \n",
       "10162        женат / замужем                 0      M    сотрудник     0   \n",
       "10350         вдовец / вдова                 2      F    пенсионер     0   \n",
       "10900        женат / замужем                 0      M    пенсионер     0   \n",
       "11090        женат / замужем                 0      F    сотрудник     0   \n",
       "11249       гражданский брак                 1      F    компаньон     0   \n",
       "11598        женат / замужем                 0      F    компаньон     0   \n",
       "12284        женат / замужем                 0      M    сотрудник     0   \n",
       "13760  Не женат / не замужем                 4      M    компаньон     0   \n",
       "14328              в разводе                 3      F    компаньон     0   \n",
       "15114              в разводе                 3      F    сотрудник     0   \n",
       "15400       гражданский брак                 1      F    сотрудник     0   \n",
       "16093        женат / замужем                 0      F    сотрудник     1   \n",
       "16227        женат / замужем                 0      M    сотрудник     0   \n",
       "17054        женат / замужем                 0      F    сотрудник     0   \n",
       "17386        женат / замужем                 0      F    компаньон     0   \n",
       "17614        женат / замужем                 0      F    сотрудник     0   \n",
       "18174        женат / замужем                 0      F    сотрудник     0   \n",
       "19048  Не женат / не замужем                 4      M    сотрудник     0   \n",
       "19311        женат / замужем                 0      M    сотрудник     0   \n",
       "19360              в разводе                 3      F    пенсионер     0   \n",
       "20328  Не женат / не замужем                 4      F    пенсионер     0   \n",
       "20650        женат / замужем                 0      F    сотрудник     0   \n",
       "21071        женат / замужем                 0      F    компаньон     0   \n",
       "\n",
       "        total_income                                 purpose  \n",
       "291    102816.346412                  профильное образование  \n",
       "705    137882.899271                 приобретение автомобиля  \n",
       "742     64268.044444              дополнительное образование  \n",
       "800     86293.724153              дополнительное образование  \n",
       "941              NaN            на покупку своего автомобиля  \n",
       "1363    69550.699692                  профильное образование  \n",
       "1929   109121.569013                           покупка жилья  \n",
       "2073   162638.609373                           покупка жилья  \n",
       "3812   131892.785435                   на проведение свадьбы  \n",
       "4198   226375.766751         операции со своей недвижимостью  \n",
       "4399   163264.062064                    покупка недвижимости  \n",
       "4539   160544.718446                             образование  \n",
       "5268   278708.018820                    покупка недвижимости  \n",
       "6008   143008.454914  строительство собственной недвижимости  \n",
       "6379    36052.447435                             образование  \n",
       "7184   184315.121979                 приобретение автомобиля  \n",
       "7272   146928.769439   операции с коммерческой недвижимостью  \n",
       "7609             NaN                             образование  \n",
       "7679   159676.174958        строительство жилой недвижимости  \n",
       "8220   138809.082930                    покупка недвижимости  \n",
       "8242    54412.056005                         свой автомобиль  \n",
       "8552   145577.881522                            ремонт жилью  \n",
       "9553   126754.656529                операции с недвижимостью  \n",
       "9562   303137.161001   получение дополнительного образования  \n",
       "10162  310367.509001                   получение образования  \n",
       "10350  170762.751325        строительство жилой недвижимости  \n",
       "10900  170762.773162                    покупка своего жилья  \n",
       "11090  219874.012345                       операции с жильем  \n",
       "11249  321603.700207                   на покупку автомобиля  \n",
       "11598  164591.260338                 покупка жилья для сдачи  \n",
       "12284  315006.182056                            недвижимость  \n",
       "13760            NaN                              автомобиль  \n",
       "14328   92257.579312              покупка жилой недвижимости  \n",
       "15114  110990.810581                         свой автомобиль  \n",
       "15400   98127.537462                         сыграть свадьбу  \n",
       "16093  149641.079451                              автомобиль  \n",
       "16227  111984.472021                           покупка жилья  \n",
       "17054  182543.890127      на покупку подержанного автомобиля  \n",
       "17386  214814.018780                                   жилье  \n",
       "17614  122105.415823         операции со своей недвижимостью  \n",
       "18174  128362.023879                      высшее образование  \n",
       "19048  122205.497527        строительство жилой недвижимости  \n",
       "19311  155588.766795        сделка с подержанным автомобилем  \n",
       "19360   52872.993654                              автомобили  \n",
       "20328  116521.045858                операции с недвижимостью  \n",
       "20650  137405.384917              покупка жилой недвижимости  \n",
       "21071  169562.091999         операции со своей недвижимостью  "
      ]
     },
     "execution_count": 11,
     "metadata": {},
     "output_type": "execute_result"
    }
   ],
   "source": [
    "data_loan_users.loc[data_loan_users['children'] < 0]"
   ]
  },
  {
   "cell_type": "markdown",
   "metadata": {},
   "source": [
    "Убираем пропущенные данные из столбика days_employed. Для этого воспользуемся методом .median(). \n",
    "Для данного типа значений лучше использовать медианное значение данных. Так как медиана по стажу \n",
    "дает меньшую статистичекскую ошибку"
   ]
  },
  {
   "cell_type": "markdown",
   "metadata": {},
   "source": [
    "Исходя из данных это скорее всего ошибка при формировании DF исправим ее путем замены отритцательного значения на положительное"
   ]
  },
  {
   "cell_type": "code",
   "execution_count": 12,
   "metadata": {},
   "outputs": [],
   "source": [
    "data_loan_users.loc[data_loan_users['children'] < 0, 'children'] = data_loan_users.loc[data_loan_users['children'] < 0, 'children']*(-1)"
   ]
  },
  {
   "cell_type": "markdown",
   "metadata": {},
   "source": [
    "Проверка на отритцательные значения"
   ]
  },
  {
   "cell_type": "code",
   "execution_count": 13,
   "metadata": {},
   "outputs": [
    {
     "name": "stdout",
     "output_type": "stream",
     "text": [
      "0\n"
     ]
    }
   ],
   "source": [
    "minus_children = data_loan_users[data_loan_users['children'] < 0]['children'].count()\n",
    "print(minus_children)"
   ]
  },
  {
   "cell_type": "code",
   "execution_count": 14,
   "metadata": {},
   "outputs": [
    {
     "name": "stdout",
     "output_type": "stream",
     "text": [
      "0     -8437\n",
      "1     -4024\n",
      "2     -5623\n",
      "3     -4124\n",
      "4    340266\n",
      "5      -926\n",
      "6     -2879\n",
      "7      -152\n",
      "8     -6929\n",
      "9     -2188\n",
      "Name: days_employed, dtype: int64\n"
     ]
    }
   ],
   "source": [
    "data_loan_users['days_employed'] = pd.to_numeric(data_loan_users['days_employed'], errors='coerce')\n",
    "data_loan_users['days_employed'] = data_loan_users['days_employed'].fillna(data_loan_users['days_employed'].median())\n",
    "data_loan_users['days_employed'] = data_loan_users['days_employed'].astype(int)\n",
    "print(data_loan_users['days_employed'].head(10))"
   ]
  },
  {
   "cell_type": "markdown",
   "metadata": {},
   "source": [
    "Как видим в столбце присутвсуют отритцательные значения и излишневыские значения. для уточнения данных по сталбцу необходимо связаться с сотавителем данных и уточнить что имелось ввиду."
   ]
  },
  {
   "cell_type": "markdown",
   "metadata": {},
   "source": [
    "------------\n",
    "\n",
    "# Комментарии\n",
    "\n",
    "Хорошо) разобрались с отрицательными значениями)\n",
    "\n",
    "Да, как вариант можно просто изменить знак у отрицательных значений признака _children_. Хотя, могло получится и так, что отрицательное значение тоже было опцией при заполнении. Также, можно удалить эти отрицательные значения, так как их достаточно мало. \n",
    "\n",
    "Как ты понял, что медиана по стажу даст наименьшую статистическую ошибку? Я не вижу, чтобы ты смотрел на разброс значений в данных.\n",
    "\n",
    "Еще ты проводишь изменение типа данных признака _days__employed_, но никак это не комментируешь - почему?\n",
    "\n",
    "Хорошая идея - узнать причину отрицательных значений в столбце _days__employed_. Ведь там есть и положительные значений. Интересно, а какой примерно стаж у людей в годах? Может и тут есть аномалии. \n",
    "\n",
    "Мне кажется, здесь немного нарушен порядок вывода ячеек с описанием :( Пожалуйста, проверяй последовательность ячеек перед отправкой.\n",
    "\n",
    "------------"
   ]
  },
  {
   "cell_type": "markdown",
   "metadata": {},
   "source": [
    "Убираем пропущенные данные из столбика total_income. Для этого воспользуемся методом .median(). Так как в таблице присутсвуют данные столбца income_type, которые в значительной степени коррелируют со значением столбца total_income.Необходимо расчитать медианное значение по значений столбца  total_income в разрезе income_type как это сделано:"
   ]
  },
  {
   "cell_type": "code",
   "execution_count": 15,
   "metadata": {},
   "outputs": [],
   "source": [
    "median_income_type_un = data_loan_users[data_loan_users['income_type'] == 'безработный']['total_income'].median()\n",
    "median_income_type_dec = data_loan_users[data_loan_users['income_type'] == 'в декрете']['total_income'].median()\n",
    "median_income_type_gov = data_loan_users[data_loan_users['income_type'] == 'госслужащий']['total_income'].median()\n",
    "median_income_type_com = data_loan_users[data_loan_users['income_type'] == 'компаньон']['total_income'].median()\n",
    "median_income_type_ret = data_loan_users[data_loan_users['income_type'] == 'пенсионер']['total_income'].median()\n",
    "median_income_type_bus = data_loan_users[data_loan_users['income_type'] == 'предприниматель']['total_income'].median()\n",
    "median_income_type_emp = data_loan_users[data_loan_users['income_type'] == 'сотрудник']['total_income'].median()\n",
    "median_income_type_stud = data_loan_users[data_loan_users['income_type'] == 'студент']['total_income'].median()"
   ]
  },
  {
   "cell_type": "markdown",
   "metadata": {},
   "source": [
    "Сейчас заполняем пропуски"
   ]
  },
  {
   "cell_type": "code",
   "execution_count": 16,
   "metadata": {},
   "outputs": [
    {
     "name": "stdout",
     "output_type": "stream",
     "text": [
      "0    253875\n",
      "1    112080\n",
      "2    145885\n",
      "3    267628\n",
      "4    158616\n",
      "5    255763\n",
      "6    240525\n",
      "7    135823\n",
      "8     95856\n",
      "9    144425\n",
      "Name: total_income, dtype: int64\n"
     ]
    }
   ],
   "source": [
    "data_loan_users['total_income'] = pd.to_numeric(data_loan_users['total_income'], errors='coerce')\n",
    "data_loan_users['total_income'] = data_loan_users['total_income'].fillna(0)\n",
    "data_loan_users.loc[(data_loan_users['total_income'] == 0) & (data_loan_users['income_type'] == 'безработный'), 'total_income'] = median_income_type_un\n",
    "data_loan_users.loc[(data_loan_users['total_income'] == 0) & (data_loan_users['income_type'] == 'в декрете'), 'total_income'] = median_income_type_dec\n",
    "data_loan_users.loc[(data_loan_users['total_income'] == 0) & (data_loan_users['income_type'] == 'госслужащий'), 'total_income'] = median_income_type_gov\n",
    "data_loan_users.loc[(data_loan_users['total_income'] == 0) & (data_loan_users['income_type'] == 'компаньон'), 'total_income'] = median_income_type_com\n",
    "data_loan_users.loc[(data_loan_users['total_income'] == 0) & (data_loan_users['income_type'] == 'пенсионер'), 'total_income'] = median_income_type_ret\n",
    "data_loan_users.loc[(data_loan_users['total_income'] == 0) & (data_loan_users['income_type'] == 'предприниматель'), 'total_income'] = median_income_type_bus\n",
    "data_loan_users.loc[(data_loan_users['total_income'] == 0) & (data_loan_users['income_type'] == 'сотрудник'), 'total_income'] = median_income_type_emp\n",
    "data_loan_users.loc[(data_loan_users['total_income'] == 0) & (data_loan_users['income_type'] == 'студент'), 'total_income'] = median_income_type_stud\n",
    "data_loan_users['total_income'] = data_loan_users['total_income'].astype(int)\n",
    "print(data_loan_users['total_income'].head(10))\n"
   ]
  },
  {
   "cell_type": "markdown",
   "metadata": {},
   "source": [
    "Проверка откорректированных данных"
   ]
  },
  {
   "cell_type": "code",
   "execution_count": 17,
   "metadata": {},
   "outputs": [
    {
     "name": "stdout",
     "output_type": "stream",
     "text": [
      "<class 'pandas.core.frame.DataFrame'>\n",
      "RangeIndex: 21454 entries, 0 to 21453\n",
      "Data columns (total 12 columns):\n",
      "children            21454 non-null int64\n",
      "days_employed       21454 non-null int64\n",
      "dob_years           21454 non-null int64\n",
      "education           21454 non-null object\n",
      "education_id        21454 non-null int64\n",
      "family_status       21454 non-null object\n",
      "family_status_id    21454 non-null int64\n",
      "gender              21454 non-null object\n",
      "income_type         21454 non-null object\n",
      "debt                21454 non-null int64\n",
      "total_income        21454 non-null int64\n",
      "purpose             21454 non-null object\n",
      "dtypes: int64(7), object(5)\n",
      "memory usage: 2.0+ MB\n",
      "None\n"
     ]
    }
   ],
   "source": [
    "print(data_loan_users.info())"
   ]
  },
  {
   "cell_type": "markdown",
   "metadata": {},
   "source": [
    "Как видим мы изменили пропуски в таблице"
   ]
  },
  {
   "cell_type": "markdown",
   "metadata": {},
   "source": [
    "------------\n",
    "\n",
    "# Комментарии\n",
    "\n",
    "Хорошо) пропущенные значения заменены)\n",
    "\n",
    "Хотелось бы увидеть объяснение выбору метода заполнения пропусков. А также комментарий к тому, что ты заменяешь тип данных в столбце _total__income_.\n",
    "\n",
    "Не думал, почему появились пропуски?\n",
    "\n",
    "------------"
   ]
  },
  {
   "cell_type": "markdown",
   "metadata": {},
   "source": [
    "Анализируем строчные данные на повторы"
   ]
  },
  {
   "cell_type": "code",
   "execution_count": 18,
   "metadata": {},
   "outputs": [
    {
     "name": "stdout",
     "output_type": "stream",
     "text": [
      "education\n",
      "высшее                  278\n",
      "начальное                31\n",
      "неоконченное высшее      68\n",
      "среднее                1364\n",
      "ученая степень            0\n",
      "Name: debt, dtype: int64\n"
     ]
    }
   ],
   "source": [
    "education = data_loan_users.groupby('education')['debt'].sum()\n",
    "print(education)"
   ]
  },
  {
   "cell_type": "code",
   "execution_count": 19,
   "metadata": {},
   "outputs": [
    {
     "name": "stdout",
     "output_type": "stream",
     "text": [
      "family_status\n",
      "Не женат / не замужем    274\n",
      "в разводе                 85\n",
      "вдовец / вдова            63\n",
      "гражданский брак         388\n",
      "женат / замужем          931\n",
      "Name: debt, dtype: int64\n"
     ]
    }
   ],
   "source": [
    "family_status = data_loan_users.groupby('family_status')['debt'].sum()\n",
    "print(family_status)"
   ]
  },
  {
   "cell_type": "code",
   "execution_count": 20,
   "metadata": {},
   "outputs": [
    {
     "name": "stdout",
     "output_type": "stream",
     "text": [
      "family_status\n",
      "Не женат / не замужем    274\n",
      "в разводе                 85\n",
      "вдовец / вдова            63\n",
      "гражданский брак         388\n",
      "женат / замужем          931\n",
      "Name: debt, dtype: int64\n"
     ]
    }
   ],
   "source": [
    "family_status = data_loan_users.groupby('family_status')['debt'].sum()\n",
    "print(family_status)"
   ]
  },
  {
   "cell_type": "code",
   "execution_count": 21,
   "metadata": {},
   "outputs": [
    {
     "name": "stdout",
     "output_type": "stream",
     "text": [
      "gender\n",
      "F      994\n",
      "M      747\n",
      "XNA      0\n",
      "Name: debt, dtype: int64\n"
     ]
    }
   ],
   "source": [
    "gender = data_loan_users.groupby('gender')['debt'].sum()\n",
    "print(gender)"
   ]
  },
  {
   "cell_type": "markdown",
   "metadata": {},
   "source": [
    "В столбце 'gender' есть пропуск XNA. Проверем данные которые содержатся в строках (строке со значением с значением XNA в столбике  'gender'."
   ]
  },
  {
   "cell_type": "code",
   "execution_count": 22,
   "metadata": {},
   "outputs": [
    {
     "name": "stdout",
     "output_type": "stream",
     "text": [
      "       children  days_employed  dob_years            education  education_id  \\\n",
      "10684         0          -2358         24  неоконченное высшее             2   \n",
      "\n",
      "          family_status  family_status_id gender income_type  debt  \\\n",
      "10684  гражданский брак                 1    XNA   компаньон     0   \n",
      "\n",
      "       total_income               purpose  \n",
      "10684        203905  покупка недвижимости  \n"
     ]
    }
   ],
   "source": [
    "number_str_XNA = data_loan_users.index[data_loan_users.gender == 'XNA']\n",
    "print(data_loan_users.loc[number_str_XNA])"
   ]
  },
  {
   "cell_type": "code",
   "execution_count": null,
   "metadata": {},
   "outputs": [],
   "source": []
  },
  {
   "cell_type": "code",
   "execution_count": null,
   "metadata": {},
   "outputs": [],
   "source": []
  },
  {
   "cell_type": "markdown",
   "metadata": {},
   "source": [
    "Как видно остальные данные заполненны. Т.к. в дальнешем анализ не подразумевает анализ влияние \"пола\" на наличие долга,\n",
    "то данную строку оставляем в DF"
   ]
  },
  {
   "cell_type": "markdown",
   "metadata": {},
   "source": [
    "------------\n",
    "\n",
    "# Комментарии\n",
    "\n",
    "Отлично) как я понимаю, повторов нет) \n",
    "\n",
    "Хотелось бы увидеть побольше комментариев.\n",
    "\n",
    "Не думал о причине возникновения значения \"XNA\"?\n",
    "\n",
    "------------"
   ]
  },
  {
   "cell_type": "markdown",
   "metadata": {},
   "source": [
    "Проведем автоматическую лемматизацию"
   ]
  },
  {
   "cell_type": "code",
   "execution_count": 23,
   "metadata": {},
   "outputs": [
    {
     "name": "stdout",
     "output_type": "stream",
     "text": [
      "Counter({' ': 55023, 'недвижимость': 6351, 'покупка': 5897, 'жилье': 4460, 'автомобиль': 4306, 'образование': 4013, 'с': 2918, 'операция': 2604, 'свадьба': 2324, 'свой': 2230, 'на': 2222, 'строительство': 1878, 'высокий': 1374, 'получение': 1314, 'коммерческий': 1311, 'для': 1289, 'жилой': 1230, 'сделка': 941, 'дополнительный': 906, 'заниматься': 904, 'подержать': 853, 'проведение': 768, 'сыграть': 765, 'сдача': 651, 'семья': 638, 'собственный': 635, 'со': 627, 'ремонт': 607, 'приобретение': 461, 'профильный': 436, 'подержанный': 111, ' \\n': 1})\n"
     ]
    }
   ],
   "source": [
    "from pymystem3 import Mystem\n",
    "m = Mystem()\n",
    "big_str = ''\n",
    "for row in data_loan_users['purpose']:\n",
    "    big_str += row\n",
    "    big_str += ' '\n",
    "lemmas = m.lemmatize(big_str)\n",
    "from collections import Counter\n",
    "print(Counter(lemmas))\n"
   ]
  },
  {
   "cell_type": "markdown",
   "metadata": {},
   "source": [
    "Как видно наиболее часто встречаемые слова: операция 15 117, недвижимость - 5772, жилье - 5039, автомобиль - 4306, получение - 4013, образование' - 4013, 'проведение' - 2324, - 'свадьба': 2324.\n",
    "Исходя из анализа наилучшими данными для столбца 'purpose':\n",
    "операции с автомобилем\n",
    "операции с жильем\n",
    "операции с недвижемостью\n",
    "получение образования\n",
    "проведение свадьбы"
   ]
  },
  {
   "cell_type": "code",
   "execution_count": 24,
   "metadata": {},
   "outputs": [
    {
     "name": "stdout",
     "output_type": "stream",
     "text": [
      "purpose\n",
      "автомобили                                478\n",
      "автомобиль                                494\n",
      "высшее образование                        452\n",
      "дополнительное образование                460\n",
      "жилье                                     646\n",
      "заняться высшим образованием              496\n",
      "заняться образованием                     408\n",
      "на покупку автомобиля                     471\n",
      "на покупку подержанного автомобиля        478\n",
      "на покупку своего автомобиля              505\n",
      "на проведение свадьбы                     768\n",
      "недвижимость                              633\n",
      "образование                               447\n",
      "операции с жильем                         652\n",
      "операции с коммерческой недвижимостью     650\n",
      "операции с недвижимостью                  675\n",
      "операции со своей недвижимостью           627\n",
      "покупка жилой недвижимости                606\n",
      "покупка жилья                             646\n",
      "покупка жилья для сдачи                   651\n",
      "покупка жилья для семьи                   638\n",
      "покупка коммерческой недвижимости         661\n",
      "покупка недвижимости                      621\n",
      "покупка своего жилья                      620\n",
      "получение высшего образования             426\n",
      "получение дополнительного образования     446\n",
      "получение образования                     442\n",
      "приобретение автомобиля                   461\n",
      "профильное образование                    436\n",
      "ремонт жилью                              607\n",
      "свадьба                                   791\n",
      "свой автомобиль                           478\n",
      "сделка с автомобилем                      455\n",
      "сделка с подержанным автомобилем          486\n",
      "строительство жилой недвижимости          624\n",
      "строительство недвижимости                619\n",
      "строительство собственной недвижимости    635\n",
      "сыграть свадьбу                           765\n",
      "Name: debt, dtype: int64\n"
     ]
    }
   ],
   "source": [
    "purpose = data_loan_users.groupby('purpose')['debt'].count()\n",
    "print(purpose)"
   ]
  },
  {
   "cell_type": "markdown",
   "metadata": {},
   "source": [
    "Категеризируем данные и столбика  purpose\n",
    "\n",
    "операции с автомобилем  - автомобиль, автомобили, на покупку автомобиля, на покупку подержанного автомобиля, на покупку своего автомобиля, приобретение автомобиля, свой автомобиль, сделка с автомобилем, сделка с подержанным автомобилем \n",
    "\n",
    "(Данную категорию включаем любые операции с автомобилем)       \n",
    "  \n",
    "операции с жильем       -  жилье, операции с жильем, покупка жилой недвижимости, покупка жилья, покупка жилья для семьи,  покупка своего жилья, строительство жилой недвижимости, ремонт жилью \n",
    "\n",
    "(Данную категорию включаем любые операции с жильем) \n",
    "\n",
    "опреации с недвижимостью - недвижимость, операции с коммерческой недвижимостью, операции с недвижимостью, операции со своей недвижимостью, покупка жилья для сдачи, покупка коммерческой недвижимости, покупка недвижимости, строительство недвижимости, строительство собственной недвижимости,     \n",
    "\n",
    "получение образования  - образование, высшее образование, дополнительное образование, заняться высшим образованием, заняться образованием, получение высшего образования, получение дополнительного образования, получение образования, профильное образование        \n",
    "\n",
    "проведение свадьбы      -  свадьба, на проведение свадьбы, сыграть свадьбу            "
   ]
  },
  {
   "cell_type": "code",
   "execution_count": 25,
   "metadata": {},
   "outputs": [],
   "source": [
    "data_loan_users.loc[(data_loan_users['purpose'] == 'автомобиль'), 'purpose'] = 'операции с автомобилем'\n",
    "data_loan_users.loc[(data_loan_users['purpose'] == 'автомобили'), 'purpose'] = 'операции с автомобилем'\n",
    "data_loan_users.loc[(data_loan_users['purpose'] == 'на покупку автомобиля'), 'purpose'] = 'операции с автомобилем'\n",
    "data_loan_users.loc[(data_loan_users['purpose'] == 'на покупку подержанного автомобиля'), 'purpose'] = 'операции с автомобилем'\n",
    "data_loan_users.loc[(data_loan_users['purpose'] == 'на покупку своего автомобиля'), 'purpose'] = 'операции с автомобилем'\n",
    "data_loan_users.loc[(data_loan_users['purpose'] == 'приобретение автомобиля'), 'purpose'] = 'операции с автомобилем'\n",
    "data_loan_users.loc[(data_loan_users['purpose'] == 'свой автомобиль'), 'purpose'] = 'операции с автомобилем'\n",
    "data_loan_users.loc[(data_loan_users['purpose'] == 'сделка с автомобилем'), 'purpose'] = 'операции с автомобилем'\n",
    "data_loan_users.loc[(data_loan_users['purpose'] == 'сделка с подержанным автомобилем'), 'purpose'] = 'операции с автомобилем'\n",
    "data_loan_users.loc[(data_loan_users['purpose'] == 'образование'), 'purpose'] = 'получение образования'\n",
    "data_loan_users.loc[(data_loan_users['purpose'] == 'высшее образование'), 'purpose'] = 'получение образования'\n",
    "data_loan_users.loc[(data_loan_users['purpose'] == 'дополнительное образование'), 'purpose'] = 'получение образования'\n",
    "data_loan_users.loc[(data_loan_users['purpose'] == 'заняться высшим образованием'), 'purpose'] = 'получение образования'\n",
    "data_loan_users.loc[(data_loan_users['purpose'] == 'заняться образованием'), 'purpose'] = 'получение образования'\n",
    "data_loan_users.loc[(data_loan_users['purpose'] == 'получение высшего образования'), 'purpose'] = 'получение образования'\n",
    "data_loan_users.loc[(data_loan_users['purpose'] == 'получение дополнительного образования'), 'purpose'] = 'получение образования'\n",
    "data_loan_users.loc[(data_loan_users['purpose'] == 'получение образования'), 'purpose'] = 'получение образования'\n",
    "data_loan_users.loc[(data_loan_users['purpose'] == 'профильное образование'), 'purpose'] = 'получение образования'\n",
    "data_loan_users.loc[(data_loan_users['purpose'] == 'свадьба'), 'purpose'] = 'проведение свадьбы'\n",
    "data_loan_users.loc[(data_loan_users['purpose'] == 'на проведение свадьбы'), 'purpose'] = 'проведение свадьбы'\n",
    "data_loan_users.loc[(data_loan_users['purpose'] == 'сыграть свадьбу'), 'purpose'] = 'проведение свадьбы'\n",
    "data_loan_users.loc[(data_loan_users['purpose'] == 'жилье'), 'purpose'] = 'операции с жильем'\n",
    "data_loan_users.loc[(data_loan_users['purpose'] == 'операции с жильем'), 'purpose'] = 'операции с жильем'\n",
    "data_loan_users.loc[(data_loan_users['purpose'] == 'покупка жилой недвижимости'), 'purpose'] = 'операции с жильем'\n",
    "data_loan_users.loc[(data_loan_users['purpose'] == 'покупка жилья'), 'purpose'] = 'операции с жильем'\n",
    "data_loan_users.loc[(data_loan_users['purpose'] == 'покупка жилья для семьи'), 'purpose'] = 'операции с жильем'\n",
    "data_loan_users.loc[(data_loan_users['purpose'] == 'покупка своего жилья'), 'purpose'] = 'операции с жильем'\n",
    "data_loan_users.loc[(data_loan_users['purpose'] == 'строительство жилой недвижимости'), 'purpose'] = 'операции с жильем'\n",
    "data_loan_users.loc[(data_loan_users['purpose'] == 'строительство собственной недвижимости'), 'purpose'] = 'операции с недвижимостью'\n",
    "data_loan_users.loc[(data_loan_users['purpose'] == 'недвижимость'), 'purpose'] = 'операции с недвижимостью'\n",
    "data_loan_users.loc[(data_loan_users['purpose'] == 'операции с коммерческой недвижимостью'), 'purpose'] = 'операции с недвижимостью'\n",
    "data_loan_users.loc[(data_loan_users['purpose'] == 'операции с недвижимостью'), 'purpose'] = 'операции с недвижимостью'\n",
    "data_loan_users.loc[(data_loan_users['purpose'] == 'операции со своей недвижимостью'), 'purpose'] = 'операции с недвижимостью'\n",
    "data_loan_users.loc[(data_loan_users['purpose'] == 'покупка жилья для сдачи'), 'purpose'] = 'операции с недвижимостью'\n",
    "data_loan_users.loc[(data_loan_users['purpose'] == 'покупка коммерческой недвижимости'), 'purpose'] = 'операции с недвижимостью'\n",
    "data_loan_users.loc[(data_loan_users['purpose'] == 'покупка недвижимости'), 'purpose'] = 'операции с недвижимостью'\n",
    "data_loan_users.loc[(data_loan_users['purpose'] == 'строительство недвижимости'), 'purpose'] = 'операции с недвижимостью'\n",
    "data_loan_users.loc[(data_loan_users['purpose'] == 'ремонт жилью'), 'purpose'] = 'операции с жильем'"
   ]
  },
  {
   "cell_type": "code",
   "execution_count": 26,
   "metadata": {},
   "outputs": [
    {
     "name": "stdout",
     "output_type": "stream",
     "text": [
      "purpose\n",
      "операции с автомобилем      4306\n",
      "операции с жильем           5039\n",
      "операции с недвижимостью    5772\n",
      "получение образования       4013\n",
      "проведение свадьбы          2324\n",
      "Name: debt, dtype: int64\n"
     ]
    }
   ],
   "source": [
    "purpose = data_loan_users.groupby('purpose')['debt'].count()\n",
    "print(purpose)"
   ]
  },
  {
   "cell_type": "markdown",
   "metadata": {},
   "source": [
    "------------\n",
    "\n",
    "# Комментарии\n",
    "\n",
    "Здорово) автоматическая лемматизация сильно упрощает процесс выделения наиболее частых слов)\n",
    "\n",
    "------------"
   ]
  },
  {
   "cell_type": "markdown",
   "metadata": {},
   "source": [
    "Создаем таблицы children куда входят столбцы,  children, debt "
   ]
  },
  {
   "cell_type": "code",
   "execution_count": 27,
   "metadata": {
    "scrolled": true
   },
   "outputs": [
    {
     "name": "stdout",
     "output_type": "stream",
     "text": [
      "   children  debt\n",
      "0         1     0\n",
      "1         1     0\n",
      "2         0     0\n",
      "3         3     0\n",
      "4         0     0\n",
      "5         0     0\n",
      "6         0     0\n",
      "7         0     0\n",
      "8         2     0\n",
      "9         0     0\n"
     ]
    }
   ],
   "source": [
    "children = data_loan_users[['children', 'debt']]\n",
    "print(children.head(10))"
   ]
  },
  {
   "cell_type": "markdown",
   "metadata": {},
   "source": [
    "------------\n",
    "\n",
    "# Комментарии\n",
    "\n",
    "Результат этого дествия пригодится в дальнейшем, да?\n",
    "\n",
    "------------"
   ]
  },
  {
   "cell_type": "markdown",
   "metadata": {},
   "source": [
    "Определение зависимости между количеством детей и возвратом долга\n",
    "\n",
    "\n",
    "Так как в таблице количество детей может быть разное, разделим заемщиков по группа:\n",
    "    бездетные 0 детей\n",
    "    с детьми 1-2 ребенка\n",
    "    многодетные 3 и более детей"
   ]
  },
  {
   "cell_type": "code",
   "execution_count": 28,
   "metadata": {
    "scrolled": true
   },
   "outputs": [
    {
     "name": "stdout",
     "output_type": "stream",
     "text": [
      "   children  debt class_children\n",
      "0         1     0       с детьми\n",
      "1         1     0       с детьми\n",
      "2         0     0      бездетные\n",
      "3         3     0    многодетные\n",
      "4         0     0      бездетные\n",
      "5         0     0      бездетные\n",
      "6         0     0      бездетные\n",
      "7         0     0      бездетные\n",
      "8         2     0       с детьми\n",
      "9         0     0      бездетные\n"
     ]
    },
    {
     "name": "stderr",
     "output_type": "stream",
     "text": [
      "/opt/conda/lib/python3.7/site-packages/ipykernel_launcher.py:7: SettingWithCopyWarning: \n",
      "A value is trying to be set on a copy of a slice from a DataFrame.\n",
      "Try using .loc[row_indexer,col_indexer] = value instead\n",
      "\n",
      "See the caveats in the documentation: http://pandas.pydata.org/pandas-docs/stable/user_guide/indexing.html#returning-a-view-versus-a-copy\n",
      "  import sys\n"
     ]
    }
   ],
   "source": [
    "def class_children(children):\n",
    "    if children == 0:\n",
    "        return 'бездетные'\n",
    "    if children >=1 and children < 3:\n",
    "        return 'с детьми'\n",
    "    return 'многодетные'\n",
    "children['class_children'] = children['children'].apply(class_children)\n",
    "print(children.head(10))"
   ]
  },
  {
   "cell_type": "code",
   "execution_count": 29,
   "metadata": {},
   "outputs": [
    {
     "name": "stdout",
     "output_type": "stream",
     "text": [
      "бездетные      14091\n",
      "с детьми        6907\n",
      "многодетные      456\n",
      "Name: class_children, dtype: int64\n"
     ]
    }
   ],
   "source": [
    "print(children['class_children'].value_counts())"
   ]
  },
  {
   "cell_type": "code",
   "execution_count": 30,
   "metadata": {},
   "outputs": [
    {
     "name": "stdout",
     "output_type": "stream",
     "text": [
      "                 debt      \n",
      "                count   sum\n",
      "class_children             \n",
      "бездетные       14091  1063\n",
      "многодетные       456    39\n",
      "с детьми         6907   639\n"
     ]
    }
   ],
   "source": [
    "children_debt = children.groupby('class_children').agg({'debt': ['count', 'sum']})\n",
    "print(children_debt)"
   ]
  },
  {
   "cell_type": "code",
   "execution_count": 31,
   "metadata": {
    "scrolled": true
   },
   "outputs": [
    {
     "name": "stdout",
     "output_type": "stream",
     "text": [
      "                 debt           share\n",
      "                count   sum          \n",
      "class_children                       \n",
      "с детьми         6907   639  0.092515\n",
      "многодетные       456    39  0.085526\n",
      "бездетные       14091  1063  0.075438\n"
     ]
    }
   ],
   "source": [
    "children_debt['share'] = children_debt['debt']['sum'] / children_debt['debt']['count']\n",
    "print(children_debt.sort_values(by = 'share', ascending = False))"
   ]
  },
  {
   "cell_type": "markdown",
   "metadata": {},
   "source": [
    "Как видно из таблицы хуже всех отдают люди, у которых 1-2 ребенка, затем многодетные \n",
    "и лучше всех отдают семьи где нет детей. Однако стоит отметить что разница в доли между бездетными \n",
    "людьми с 1-2 ребенком составляет 1,7%\n"
   ]
  },
  {
   "cell_type": "markdown",
   "metadata": {},
   "source": [
    "------------\n",
    "\n",
    "# Комментарии\n",
    "\n",
    "Хорошо, то есть наличие детей негативно влияет на вероятность возврата кредита в срок. Можешь это объяснить?\n",
    "\n",
    "Немного больше комментариев к расчетам, пожалуста)\n",
    "\n",
    "------------"
   ]
  },
  {
   "cell_type": "markdown",
   "metadata": {},
   "source": [
    "Ответим на вопрос: \"Есть ли зависимость между семейным положением и возвратом кредита в срок?\""
   ]
  },
  {
   "cell_type": "code",
   "execution_count": 32,
   "metadata": {},
   "outputs": [
    {
     "name": "stdout",
     "output_type": "stream",
     "text": [
      "   family_status_id     family_status  debt\n",
      "0                 0   женат / замужем     0\n",
      "1                 0   женат / замужем     0\n",
      "2                 0   женат / замужем     0\n",
      "3                 0   женат / замужем     0\n",
      "4                 1  гражданский брак     0\n",
      "5                 1  гражданский брак     0\n",
      "6                 0   женат / замужем     0\n",
      "7                 0   женат / замужем     0\n",
      "8                 1  гражданский брак     0\n",
      "9                 0   женат / замужем     0\n"
     ]
    }
   ],
   "source": [
    "family_status_debt = data_loan_users[['family_status_id', 'family_status', 'debt']]\n",
    "print(family_status_debt.head(10))"
   ]
  },
  {
   "cell_type": "code",
   "execution_count": 33,
   "metadata": {
    "scrolled": true
   },
   "outputs": [
    {
     "name": "stdout",
     "output_type": "stream",
     "text": [
      "                        debt          share\n",
      "                       count  sum          \n",
      "family_status                              \n",
      "Не женат / не замужем   2810  274  0.097509\n",
      "гражданский брак        4151  388  0.093471\n",
      "женат / замужем        12339  931  0.075452\n",
      "в разводе               1195   85  0.071130\n",
      "вдовец / вдова           959   63  0.065693\n"
     ]
    },
    {
     "name": "stderr",
     "output_type": "stream",
     "text": [
      "/opt/conda/lib/python3.7/site-packages/ipykernel_launcher.py:1: FutureWarning: using a dict on a Series for aggregation\n",
      "is deprecated and will be removed in a future version. Use                 named aggregation instead.\n",
      "\n",
      "    >>> grouper.agg(name_1=func_1, name_2=func_2)\n",
      "\n",
      "  \"\"\"Entry point for launching an IPython kernel.\n"
     ]
    }
   ],
   "source": [
    "family_status_debt_1 = family_status_debt.groupby('family_status')['debt'].agg({'debt': ['count', 'sum']})\n",
    "family_status_debt_1['share'] = family_status_debt_1['debt']['sum'] / family_status_debt_1['debt']['count']\n",
    "\n",
    "print(family_status_debt_1.sort_values(by = 'share', ascending = False))"
   ]
  },
  {
   "cell_type": "markdown",
   "metadata": {},
   "source": [
    "Наиболее отвественно платят вдоцы и вдовы и наиболее плохо платят люди, у которых нет оформленных\n",
    "отношений."
   ]
  },
  {
   "cell_type": "markdown",
   "metadata": {},
   "source": [
    "------------\n",
    "\n",
    "# Комментарии\n",
    "\n",
    "Хорошо) то есть отсутствие оформленных семейных отношений негативно влияет на вероятность возврата кредита в срок. Интересно, почему?\n",
    "\n",
    "------------"
   ]
  },
  {
   "cell_type": "markdown",
   "metadata": {},
   "source": [
    "Ответим на вопрос: :Есть ли зависимость между уровнем дохода и возвратом кредита в срок?"
   ]
  },
  {
   "cell_type": "code",
   "execution_count": 34,
   "metadata": {},
   "outputs": [
    {
     "name": "stdout",
     "output_type": "stream",
     "text": [
      "Минимальное значение дохода 20667\n",
      "Максимальное значение дохода 2265604\n",
      "Медианное значение дохода 142594.0\n",
      "Среднее значение дохода 165319.57229421087\n"
     ]
    }
   ],
   "source": [
    "print('Минимальное значение дохода', data_loan_users['total_income'].min())\n",
    "print('Максимальное значение дохода', data_loan_users['total_income'].max())\n",
    "print('Медианное значение дохода', data_loan_users['total_income'].median())\n",
    "print('Среднее значение дохода', data_loan_users['total_income'].mean())"
   ]
  },
  {
   "cell_type": "code",
   "execution_count": 35,
   "metadata": {},
   "outputs": [
    {
     "name": "stdout",
     "output_type": "stream",
     "text": [
      "  income_type  total_income  debt\n",
      "0   сотрудник        253875     0\n",
      "1   сотрудник        112080     0\n",
      "2   сотрудник        145885     0\n",
      "3   сотрудник        267628     0\n",
      "4   пенсионер        158616     0\n",
      "5   компаньон        255763     0\n",
      "6   компаньон        240525     0\n",
      "7   сотрудник        135823     0\n",
      "8   сотрудник         95856     0\n",
      "9   сотрудник        144425     0\n"
     ]
    }
   ],
   "source": [
    "income_debt = data_loan_users[['income_type', 'total_income', 'debt']]\n",
    "print(income_debt.head(10))"
   ]
  },
  {
   "cell_type": "markdown",
   "metadata": {},
   "source": [
    "Выделем группы по общему доходу\n",
    "- очень низкий доход до 30000\n",
    "- низкий доход от 30 000 до 100 000\n",
    "- средний доход от 100 000 до 500 000\n",
    "- высокий доход от 500 000 до 1000 000\n",
    "- очень высокий доход от 1000 000 и более"
   ]
  },
  {
   "cell_type": "code",
   "execution_count": 36,
   "metadata": {},
   "outputs": [
    {
     "name": "stdout",
     "output_type": "stream",
     "text": [
      "  income_type  total_income  debt class_total_income\n",
      "0   сотрудник        253875     0      средний доход\n",
      "1   сотрудник        112080     0      средний доход\n",
      "2   сотрудник        145885     0      средний доход\n",
      "3   сотрудник        267628     0      средний доход\n",
      "4   пенсионер        158616     0      средний доход\n",
      "5   компаньон        255763     0      средний доход\n",
      "6   компаньон        240525     0      средний доход\n",
      "7   сотрудник        135823     0      средний доход\n",
      "8   сотрудник         95856     0       низкий доход\n",
      "9   сотрудник        144425     0      средний доход\n"
     ]
    },
    {
     "name": "stderr",
     "output_type": "stream",
     "text": [
      "/opt/conda/lib/python3.7/site-packages/ipykernel_launcher.py:11: SettingWithCopyWarning: \n",
      "A value is trying to be set on a copy of a slice from a DataFrame.\n",
      "Try using .loc[row_indexer,col_indexer] = value instead\n",
      "\n",
      "See the caveats in the documentation: http://pandas.pydata.org/pandas-docs/stable/user_guide/indexing.html#returning-a-view-versus-a-copy\n",
      "  # This is added back by InteractiveShellApp.init_path()\n"
     ]
    }
   ],
   "source": [
    "def class_total_income(income_type):\n",
    "    if income_type <= 30000:\n",
    "        return 'очень низкий доход'\n",
    "    if income_type > 30000 and income_type < 100000:\n",
    "        return 'низкий доход'\n",
    "    if income_type > 100000 and income_type < 500000:\n",
    "        return 'средний доход'\n",
    "    if income_type > 500000 and income_type < 1000000:\n",
    "        return 'высокий доход'\n",
    "    return 'очень высокий доход'\n",
    "income_debt['class_total_income'] = income_debt['total_income'].apply(class_total_income)\n",
    "print(income_debt.head(10))"
   ]
  },
  {
   "cell_type": "code",
   "execution_count": 37,
   "metadata": {},
   "outputs": [
    {
     "name": "stdout",
     "output_type": "stream",
     "text": [
      "                      debt      \n",
      "                     count   sum\n",
      "class_total_income              \n",
      "высокий доход          197    12\n",
      "низкий доход          4441   352\n",
      "очень высокий доход     25     2\n",
      "очень низкий доход      22     2\n",
      "средний доход        16769  1373\n"
     ]
    }
   ],
   "source": [
    "class_total_income_debt = income_debt.groupby('class_total_income').agg({'debt': ['count', 'sum']})\n",
    "print(class_total_income_debt)"
   ]
  },
  {
   "cell_type": "code",
   "execution_count": 38,
   "metadata": {},
   "outputs": [
    {
     "name": "stdout",
     "output_type": "stream",
     "text": [
      "                      debt           share\n",
      "                     count   sum          \n",
      "class_total_income                        \n",
      "очень низкий доход      22     2  0.090909\n",
      "средний доход        16769  1373  0.081877\n",
      "очень высокий доход     25     2  0.080000\n",
      "низкий доход          4441   352  0.079261\n",
      "высокий доход          197    12  0.060914\n"
     ]
    }
   ],
   "source": [
    "class_total_income_debt['share'] = class_total_income_debt['debt']['sum'] / class_total_income_debt['debt']['count']\n",
    "print(class_total_income_debt.sort_values(by = 'share', ascending = False))"
   ]
  },
  {
   "cell_type": "markdown",
   "metadata": {},
   "source": [
    "Лучше всего платят люди с высоким и низким доходом, хуже всего возвращают долг люди с очень низким\n",
    "и средним доходом"
   ]
  },
  {
   "cell_type": "markdown",
   "metadata": {},
   "source": [
    "------------\n",
    "\n",
    "# Комментарии\n",
    "\n",
    "Хорошо, то есть зависимость есть) есть идеи, почему именно так?\n",
    "\n",
    "Не забывай про комментарии)\n",
    "\n",
    "------------"
   ]
  },
  {
   "cell_type": "markdown",
   "metadata": {},
   "source": [
    "Дополнительно проанализируем зависимость долга от способа получения дохода и оценим в какую катеогрию попадают данные люди"
   ]
  },
  {
   "cell_type": "code",
   "execution_count": 39,
   "metadata": {},
   "outputs": [
    {
     "name": "stdout",
     "output_type": "stream",
     "text": [
      "                total_income            debt      \n",
      "                         min      max  count   sum\n",
      "income_type                                       \n",
      "безработный            59956   202722      2     1\n",
      "в декрете              53829    53829      1     1\n",
      "госслужащий            29200   910451   1457    86\n",
      "компаньон              28702  2265604   5078   376\n",
      "пенсионер              20667   735103   3829   216\n",
      "предприниматель       499163   499163      2     0\n",
      "сотрудник              21367  1726276  11084  1061\n",
      "студент                98201    98201      1     0\n",
      "\n"
     ]
    }
   ],
   "source": [
    "income_type_income_debt = income_debt.groupby('income_type').agg({'total_income': ['min', 'max'], 'debt': ['count', 'sum']})\n",
    "print(income_type_income_debt)\n",
    "#print(income_type_income_deb)\n",
    "print()\n",
    "#print(income_type_dept_class_2)\n",
    "\n"
   ]
  },
  {
   "cell_type": "code",
   "execution_count": 40,
   "metadata": {},
   "outputs": [
    {
     "name": "stdout",
     "output_type": "stream",
     "text": [
      "                total_income            debt           share\n",
      "                         min      max  count   sum          \n",
      "income_type                                                 \n",
      "в декрете              53829    53829      1     1  1.000000\n",
      "безработный            59956   202722      2     1  0.500000\n",
      "сотрудник              21367  1726276  11084  1061  0.095724\n",
      "компаньон              28702  2265604   5078   376  0.074045\n",
      "госслужащий            29200   910451   1457    86  0.059025\n",
      "пенсионер              20667   735103   3829   216  0.056412\n",
      "предприниматель       499163   499163      2     0  0.000000\n",
      "студент                98201    98201      1     0  0.000000\n"
     ]
    }
   ],
   "source": [
    "income_type_income_debt['share'] = income_type_income_debt['debt']['sum'] / income_type_income_debt['debt']['count']\n",
    "print(income_type_income_debt.sort_values(by = 'share', ascending = False))"
   ]
  },
  {
   "cell_type": "markdown",
   "metadata": {},
   "source": [
    "Как видно из таблицы, что наиболее плохо платят люди находящиеся в декрете и безработные, лучше всего платят студенты \n",
    "и предприниматели, однако стоит заметить что для анализа выборка по этим людям крайне маленькая и не репрезентативная. \n",
    "С другой стороны данные по категориям сотрудники, компаньены, госслужащие и пенсионеры достаточно объемны и могут давать достаточно точную информацию. Поэтому можно сказать, что худшими плательщиками по кредиту являются сотридники и компаньены, а лучшими пенсионеры и госслужащие. "
   ]
  },
  {
   "cell_type": "markdown",
   "metadata": {},
   "source": [
    "------------\n",
    "\n",
    "# Комментарии\n",
    "\n",
    "Отличная идея посмотреть на зависимость в таком разрезе)\n",
    "\n",
    "Да, из-за того, что в некоторых категориях слишком мало наблюдений, выводы могут быть не корректны) \n",
    "\n",
    "------------"
   ]
  },
  {
   "cell_type": "markdown",
   "metadata": {},
   "source": [
    "Как разные цели кредита влияют на его возврат в срок?"
   ]
  },
  {
   "cell_type": "code",
   "execution_count": 41,
   "metadata": {},
   "outputs": [
    {
     "name": "stdout",
     "output_type": "stream",
     "text": [
      "                  purpose  debt\n",
      "0       операции с жильем     0\n",
      "1  операции с автомобилем     0\n",
      "2       операции с жильем     0\n",
      "3   получение образования     0\n",
      "4      проведение свадьбы     0\n",
      "5       операции с жильем     0\n",
      "6       операции с жильем     0\n",
      "7   получение образования     0\n",
      "8      проведение свадьбы     0\n",
      "9       операции с жильем     0\n"
     ]
    }
   ],
   "source": [
    "purpose_debt = data_loan_users[['purpose', 'debt']]\n",
    "print(purpose_debt.head(10))"
   ]
  },
  {
   "cell_type": "code",
   "execution_count": 42,
   "metadata": {},
   "outputs": [
    {
     "name": "stdout",
     "output_type": "stream",
     "text": [
      "                          debt     \n",
      "                         count  sum\n",
      "purpose                            \n",
      "операции с автомобилем    4306  403\n",
      "операции с жильем         5039  345\n",
      "операции с недвижимостью  5772  437\n",
      "получение образования     4013  370\n",
      "проведение свадьбы        2324  186\n"
     ]
    }
   ],
   "source": [
    "class_purpose_debt = purpose_debt.groupby('purpose').agg({'debt': ['count', 'sum']})\n",
    "print(class_purpose_debt)"
   ]
  },
  {
   "cell_type": "code",
   "execution_count": 43,
   "metadata": {},
   "outputs": [
    {
     "name": "stdout",
     "output_type": "stream",
     "text": [
      "                          debt          share\n",
      "                         count  sum          \n",
      "purpose                                      \n",
      "операции с автомобилем    4306  403  0.093590\n",
      "получение образования     4013  370  0.092200\n",
      "проведение свадьбы        2324  186  0.080034\n",
      "операции с недвижимостью  5772  437  0.075710\n",
      "операции с жильем         5039  345  0.068466\n"
     ]
    }
   ],
   "source": [
    "class_purpose_debt['share'] = class_purpose_debt['debt']['sum'] / class_purpose_debt['debt']['count']\n",
    "print(class_purpose_debt.sort_values(by = 'share', ascending = False))"
   ]
  },
  {
   "cell_type": "markdown",
   "metadata": {},
   "source": [
    "Ноиболее ответсвенными плательщиками являются люди которые осуществляют операции с жильем и недвижемостью. Наихудшими плательщиками являются люди которые покупают автомобили и оплачивают получение образования."
   ]
  },
  {
   "cell_type": "markdown",
   "metadata": {},
   "source": [
    "------------\n",
    "\n",
    "# Комментарии\n",
    "\n",
    "Все верно) как бы ты объяснил эти выводы?\n",
    "\n",
    "------------"
   ]
  },
  {
   "cell_type": "markdown",
   "metadata": {},
   "source": [
    "Таким образом лучше всего двать кредит госслужащем или пенсионерам, у которых либо нет детей либо они являются многодетными, с годовым доходом: \n",
    "    1. От 30 000 до 100 000\n",
    "    2. От 500 000 и более \n",
    "Наилучшими целями для возврата кредита являются операции с жильем или недвижемостью. Данные клиенты либо должны побывать в браке (разведены или овдоветь) либо находится в браке. \n",
    "\n",
    "Крайне осоторожно необходимо подходить к выдаче кредита людям, которые не оформляют свои отношения и имеют 1-2 ребенка, на цели преобретения автомобиля или получения образования с доходом либо очень низким или средним. "
   ]
  },
  {
   "cell_type": "markdown",
   "metadata": {},
   "source": [
    "------------\n",
    "\n",
    "# Комментарии\n",
    "\n",
    "Почему ты решил объединить группы людей по типу занятости, количеству детей и годовому доходу? Ты ведь проверял наличие зависимости в каждой категории отдельно, а не в разрезе нескольких факторов. И 2 пункта ниже содержат тот же подход.\n",
    "\n",
    "------------"
   ]
  },
  {
   "cell_type": "markdown",
   "metadata": {},
   "source": [
    "------------\n",
    "\n",
    "# Комментарии\n",
    "\n",
    "В общем ты молодец, выполнил все поставленные перед тобой задачи - это здорово)\n",
    "\n",
    "Было бы лучше, если бы ты добавил общее описание проделанной работы к основным выводам.\n",
    "\n",
    "Я бы попросила тебя давать больше комментариев по ходу выполнения работы (особенно к расчетам). Не нужно умалчивать о каких-то действиях и не описывать их. Мне важно видить как ты рассуждаешь, а не просто код. Почему ты делаешь так, а не иначе. На основе твоих рассуждений, я смогу давть тебе более полезные комментарии)\n",
    "\n",
    "Посмотри про оформление [markdown ячеек](https://github.com/sandino/Markdown-Cheatsheet) . С помощью них можно сделать тетрадку более понятой - выделять основные шаги, изменять формат текста и т.д.\n",
    "\n",
    "Поработай над комментариями внутри работы.\n",
    "\n",
    "___Удачи!!!___\n",
    "\n",
    "------------"
   ]
  }
 ],
 "metadata": {
  "kernelspec": {
   "display_name": "Python 3",
   "language": "python",
   "name": "python3"
  },
  "language_info": {
   "codemirror_mode": {
    "name": "ipython",
    "version": 3
   },
   "file_extension": ".py",
   "mimetype": "text/x-python",
   "name": "python",
   "nbconvert_exporter": "python",
   "pygments_lexer": "ipython3",
   "version": "3.7.4"
  }
 },
 "nbformat": 4,
 "nbformat_minor": 2
}
